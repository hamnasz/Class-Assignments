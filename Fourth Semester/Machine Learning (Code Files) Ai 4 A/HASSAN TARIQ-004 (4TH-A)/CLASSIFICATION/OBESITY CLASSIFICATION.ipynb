{
 "cells": [
  {
   "cell_type": "markdown",
   "id": "228bdde1-3cc8-4458-95c8-04a9db4b5de3",
   "metadata": {},
   "source": [
    "# Import necessary libraries"
   ]
  },
  {
   "cell_type": "code",
   "execution_count": 54,
   "id": "14907658-e98a-4c58-bdbf-724016c1c276",
   "metadata": {},
   "outputs": [],
   "source": [
    "import pandas as pd\n",
    "import numpy as np\n",
    "from sklearn.model_selection import train_test_split\n",
    "from sklearn.preprocessing import StandardScaler, LabelEncoder\n",
    "from sklearn.decomposition import PCA\n",
    "from sklearn.ensemble import RandomForestClassifier\n",
    "from sklearn.neural_network import MLPClassifier\n",
    "from sklearn.metrics import confusion_matrix, classification_report, accuracy_score\n",
    "import seaborn as sns\n",
    "import matplotlib.pyplot as plt"
   ]
  },
  {
   "cell_type": "markdown",
   "id": "adfbb055-9c91-4c58-9e59-ae068e607b6e",
   "metadata": {},
   "source": [
    "# Load the dataset"
   ]
  },
  {
   "cell_type": "code",
   "execution_count": 55,
   "id": "b1f838e4-dcc3-46a6-818c-3c53f421be0a",
   "metadata": {},
   "outputs": [],
   "source": [
    "data = pd.read_csv(\"C:/Users/Ayaan/Desktop/Obesity Classification.csv\")"
   ]
  },
  {
   "cell_type": "markdown",
   "id": "1124dd08-196b-4cf0-a300-198bfb44127b",
   "metadata": {},
   "source": [
    "# 1. Data Exploration"
   ]
  },
  {
   "cell_type": "code",
   "execution_count": 44,
   "id": "7849a635-1693-47df-b0c7-ee540acc67d4",
   "metadata": {},
   "outputs": [
    {
     "name": "stdout",
     "output_type": "stream",
     "text": [
      "Data Info:\n",
      "<class 'pandas.core.frame.DataFrame'>\n",
      "RangeIndex: 108 entries, 0 to 107\n",
      "Data columns (total 7 columns):\n",
      " #   Column  Non-Null Count  Dtype  \n",
      "---  ------  --------------  -----  \n",
      " 0   ID      108 non-null    int64  \n",
      " 1   Age     108 non-null    int64  \n",
      " 2   Gender  108 non-null    object \n",
      " 3   Height  108 non-null    int64  \n",
      " 4   Weight  108 non-null    int64  \n",
      " 5   BMI     108 non-null    float64\n",
      " 6   Label   108 non-null    object \n",
      "dtypes: float64(1), int64(4), object(2)\n",
      "memory usage: 6.0+ KB\n",
      "None\n",
      "\n",
      "Summary Statistics:\n",
      "               ID         Age      Height      Weight         BMI\n",
      "count  108.000000  108.000000  108.000000  108.000000  108.000000\n",
      "mean    56.046296   46.555556  166.574074   59.490741   20.549074\n",
      "std     31.917939   24.720620   27.873615   28.856233    7.583818\n",
      "min      1.000000   11.000000  120.000000   10.000000    3.900000\n",
      "25%     28.750000   27.000000  140.000000   35.000000   16.700000\n",
      "50%     56.500000   42.500000  175.000000   55.000000   21.200000\n",
      "75%     83.250000   59.250000  190.000000   85.000000   26.100000\n",
      "max    110.000000  112.000000  210.000000  120.000000   37.200000\n",
      "\n",
      "Missing Values:\n",
      "ID        0\n",
      "Age       0\n",
      "Gender    0\n",
      "Height    0\n",
      "Weight    0\n",
      "BMI       0\n",
      "Label     0\n",
      "dtype: int64\n"
     ]
    }
   ],
   "source": [
    "print(\"Data Info:\")\n",
    "print(data.info())\n",
    "print(\"\\nSummary Statistics:\")\n",
    "print(data.describe())\n",
    "print(\"\\nMissing Values:\")\n",
    "print(data.isnull().sum())"
   ]
  },
  {
   "cell_type": "markdown",
   "id": "459ff1be-d58b-4287-90c9-522f00b7d8d9",
   "metadata": {},
   "source": [
    "# 2. Cleanse Data (remove ID column)"
   ]
  },
  {
   "cell_type": "code",
   "execution_count": 56,
   "id": "1b8f5a25-89b4-4493-9489-b7df5de3b6df",
   "metadata": {},
   "outputs": [],
   "source": [
    "if 'ID' in data.columns:\n",
    "    data.drop('ID', axis=1, inplace=True)"
   ]
  },
  {
   "cell_type": "markdown",
   "id": "bacba695-f19a-4c2b-8359-fa0a53bb2e55",
   "metadata": {},
   "source": [
    "# 3. Outlier Detection & Removal using IQR"
   ]
  },
  {
   "cell_type": "code",
   "execution_count": 57,
   "id": "b7aea679-a636-4a36-97d4-32765da75f45",
   "metadata": {},
   "outputs": [],
   "source": [
    "numeric_cols = data.select_dtypes(include=['number']).columns\n",
    "Q1 = data[numeric_cols].quantile(0.25)\n",
    "Q3 = data[numeric_cols].quantile(0.75)\n",
    "IQR = Q3 - Q1\n",
    "data_cleaned = data[~((data[numeric_cols] < (Q1 - 1.5 * IQR)) | (data[numeric_cols] > (Q3 + 1.5 * IQR))).any(axis=1)]"
   ]
  },
  {
   "cell_type": "markdown",
   "id": "a14ccb72-eb6a-4fd2-9ec6-d980bfc7aa88",
   "metadata": {},
   "source": [
    "# 4. Convert Categorical to Numerical"
   ]
  },
  {
   "cell_type": "code",
   "execution_count": 58,
   "id": "08a3f85d-e056-4685-a6ad-6915a79a0a07",
   "metadata": {},
   "outputs": [
    {
     "name": "stderr",
     "output_type": "stream",
     "text": [
      "C:\\Users\\Ayaan\\AppData\\Local\\Temp\\ipykernel_11600\\2848832584.py:2: SettingWithCopyWarning: \n",
      "A value is trying to be set on a copy of a slice from a DataFrame.\n",
      "Try using .loc[row_indexer,col_indexer] = value instead\n",
      "\n",
      "See the caveats in the documentation: https://pandas.pydata.org/pandas-docs/stable/user_guide/indexing.html#returning-a-view-versus-a-copy\n",
      "  data_cleaned['Gender'] = label_encoder_gender.fit_transform(data_cleaned['Gender'])\n",
      "C:\\Users\\Ayaan\\AppData\\Local\\Temp\\ipykernel_11600\\2848832584.py:5: SettingWithCopyWarning: \n",
      "A value is trying to be set on a copy of a slice from a DataFrame.\n",
      "Try using .loc[row_indexer,col_indexer] = value instead\n",
      "\n",
      "See the caveats in the documentation: https://pandas.pydata.org/pandas-docs/stable/user_guide/indexing.html#returning-a-view-versus-a-copy\n",
      "  data_cleaned['Label'] = label_encoder_label.fit_transform(data_cleaned['Label'])\n"
     ]
    }
   ],
   "source": [
    "label_encoder_gender = LabelEncoder()\n",
    "data_cleaned['Gender'] = label_encoder_gender.fit_transform(data_cleaned['Gender'])\n",
    "\n",
    "label_encoder_label = LabelEncoder()\n",
    "data_cleaned['Label'] = label_encoder_label.fit_transform(data_cleaned['Label'])"
   ]
  },
  {
   "cell_type": "markdown",
   "id": "6259fa66-9723-41d4-a7df-a99898625b7e",
   "metadata": {},
   "source": [
    "# 5. Separate Features and Target"
   ]
  },
  {
   "cell_type": "code",
   "execution_count": 60,
   "id": "f12d396a-320c-437f-b755-c4e650fa3906",
   "metadata": {},
   "outputs": [],
   "source": [
    "X = data_cleaned.drop('Label', axis=1)\n",
    "y = data_cleaned['Label']\n",
    "y = y.astype('int')"
   ]
  },
  {
   "cell_type": "markdown",
   "id": "93dbd8af-1448-43b4-b7fb-674585247b7f",
   "metadata": {},
   "source": [
    "# 6. Data Transformation (Standardization)"
   ]
  },
  {
   "cell_type": "code",
   "execution_count": 61,
   "id": "795b996b-52f3-4e3c-b9c4-10afcbecc295",
   "metadata": {},
   "outputs": [],
   "source": [
    "scaler = StandardScaler()\n",
    "X_scaled = scaler.fit_transform(X)"
   ]
  },
  {
   "cell_type": "markdown",
   "id": "911c0bad-5432-4dbf-8326-7817ee94fd34",
   "metadata": {},
   "source": [
    "# 7. Dimensionality Reduction (PCA)"
   ]
  },
  {
   "cell_type": "code",
   "execution_count": 62,
   "id": "4ea71b9a-41df-4ceb-a426-a8b54b51fbb5",
   "metadata": {},
   "outputs": [],
   "source": [
    "pca = PCA(n_components=0.95)\n",
    "X_pca = pca.fit_transform(X_scaled)"
   ]
  },
  {
   "cell_type": "markdown",
   "id": "62da0ba2-fbfc-496a-a718-4a6f52194a56",
   "metadata": {},
   "source": [
    "# 8. Data Splitting"
   ]
  },
  {
   "cell_type": "code",
   "execution_count": 63,
   "id": "393f1b82-471f-4ef8-91f2-02978ec95fbe",
   "metadata": {},
   "outputs": [],
   "source": [
    "X_train, X_test, y_train, y_test = train_test_split(X_pca, y, test_size=0.2, random_state=42)"
   ]
  },
  {
   "cell_type": "markdown",
   "id": "436e5c5a-1aa8-4a9c-be0a-2ba5d38f507b",
   "metadata": {},
   "source": [
    "# Random forest classifier"
   ]
  },
  {
   "cell_type": "code",
   "execution_count": 64,
   "id": "8108e476-02cf-412b-9b27-bc57965852d2",
   "metadata": {},
   "outputs": [],
   "source": [
    "rf_model = RandomForestClassifier(random_state=42)\n",
    "rf_model.fit(X_train, y_train)\n",
    "y_pred_rf = rf_model.predict(X_test)"
   ]
  },
  {
   "cell_type": "markdown",
   "id": "f93b60c6-101c-4e2c-b80f-24a668292990",
   "metadata": {},
   "source": [
    "# ANN (MLP Classifier)"
   ]
  },
  {
   "cell_type": "code",
   "execution_count": 65,
   "id": "56e6fbbd-c5c6-47cb-a99c-beb1358d559b",
   "metadata": {},
   "outputs": [],
   "source": [
    "ann_model = MLPClassifier(hidden_layer_sizes=(50, 30), max_iter=1000, random_state=42)\n",
    "ann_model.fit(X_train, y_train)\n",
    "y_pred_ann = ann_model.predict(X_test)\n"
   ]
  },
  {
   "cell_type": "markdown",
   "id": "0fb5df47-fd22-4081-80ca-a1871c27652d",
   "metadata": {},
   "source": [
    "# Plot Confusion Matrix Heatmaps"
   ]
  },
  {
   "cell_type": "code",
   "execution_count": 66,
   "id": "8cf9c466-0e42-4a75-a8e6-9f76c8b1dc3e",
   "metadata": {},
   "outputs": [
    {
     "data": {
      "text/plain": [
       "<Figure size 1400x600 with 0 Axes>"
      ]
     },
     "execution_count": 66,
     "metadata": {},
     "output_type": "execute_result"
    },
    {
     "data": {
      "text/plain": [
       "<Figure size 1400x600 with 0 Axes>"
      ]
     },
     "metadata": {},
     "output_type": "display_data"
    }
   ],
   "source": [
    "plt.figure(figsize=(14, 6))"
   ]
  },
  {
   "cell_type": "markdown",
   "id": "2183549f-cd6c-4489-98fe-1bca39e3449c",
   "metadata": {},
   "source": [
    "# Random Forest Confusion Matrix"
   ]
  },
  {
   "cell_type": "code",
   "execution_count": 67,
   "id": "850a83a5-4d48-4d3b-a4ba-28b7f7cb8272",
   "metadata": {},
   "outputs": [
    {
     "data": {
      "text/plain": [
       "Text(50.722222222222214, 0.5, 'Actual')"
      ]
     },
     "execution_count": 67,
     "metadata": {},
     "output_type": "execute_result"
    },
    {
     "data": {
      "image/png": "[encoded data removed]",
      "text/plain": [
       "<Figure size 640x480 with 2 Axes>"
      ]
     },
     "metadata": {},
     "output_type": "display_data"
    }
   ],
   "source": [
    "plt.subplot(1, 2, 1)\n",
    "cm_rf = confusion_matrix(y_test, y_pred_rf)\n",
    "sns.heatmap(cm_rf, annot=True, fmt='d', cmap='Blues')\n",
    "plt.title(\"Random Forest Confusion Matrix\")\n",
    "plt.xlabel(\"Predicted\")\n",
    "plt.ylabel(\"Actual\")"
   ]
  },
  {
   "cell_type": "markdown",
   "id": "2fd20224-5c46-41d6-a4e8-a1a03cb8dcfe",
   "metadata": {},
   "source": [
    "# ANN Confusion Matrix"
   ]
  },
  {
   "cell_type": "code",
   "execution_count": 68,
   "id": "eaebf339-02d5-4b2f-b960-80bf0a4b9f0c",
   "metadata": {},
   "outputs": [
    {
     "data": {
      "text/plain": [
       "Text(321.26767676767673, 0.5, 'Actual')"
      ]
     },
     "execution_count": 68,
     "metadata": {},
     "output_type": "execute_result"
    },
    {
     "data": {
      "image/png": "[encoded data removed]",
      "text/plain": [
       "<Figure size 640x480 with 2 Axes>"
      ]
     },
     "metadata": {},
     "output_type": "display_data"
    }
   ],
   "source": [
    "plt.subplot(1, 2, 2)\n",
    "cm_ann = confusion_matrix(y_test, y_pred_ann)\n",
    "sns.heatmap(cm_ann, annot=True, fmt='d', cmap='Greens')\n",
    "plt.title(\"ANN (MLP Classifier) Confusion Matrix\")\n",
    "plt.xlabel(\"Predicted\")\n",
    "plt.ylabel(\"Actual\")"
   ]
  },
  {
   "cell_type": "code",
   "execution_count": 69,
   "id": "a51abc68-a96e-4092-ac1a-6a67dd5e7f6d",
   "metadata": {},
   "outputs": [
    {
     "data": {
      "text/plain": [
       "<Figure size 640x480 with 0 Axes>"
      ]
     },
     "metadata": {},
     "output_type": "display_data"
    }
   ],
   "source": [
    "plt.tight_layout()\n",
    "plt.show()"
   ]
  },
  {
   "cell_type": "markdown",
   "id": "c31d5a56-727e-42cd-a647-07e445a67d51",
   "metadata": {},
   "source": [
    "# Classification report"
   ]
  },
  {
   "cell_type": "code",
   "execution_count": 70,
   "id": "b5c23d87-4d54-4c74-904e-7f7e6d4dff35",
   "metadata": {},
   "outputs": [
    {
     "name": "stdout",
     "output_type": "stream",
     "text": [
      "\n",
      "Random Forest Classification Report:\n",
      "              precision    recall  f1-score   support\n",
      "\n",
      "           0       0.67      1.00      0.80         6\n",
      "           1       1.00      0.75      0.86         4\n",
      "           2       0.50      0.25      0.33         4\n",
      "           3       1.00      1.00      1.00         8\n",
      "\n",
      "    accuracy                           0.82        22\n",
      "   macro avg       0.79      0.75      0.75        22\n",
      "weighted avg       0.82      0.82      0.80        22\n",
      "\n",
      "\n",
      "ANN (MLP Classifier) Classification Report:\n",
      "              precision    recall  f1-score   support\n",
      "\n",
      "           0       1.00      1.00      1.00         6\n",
      "           1       1.00      1.00      1.00         4\n",
      "           2       1.00      1.00      1.00         4\n",
      "           3       1.00      1.00      1.00         8\n",
      "\n",
      "    accuracy                           1.00        22\n",
      "   macro avg       1.00      1.00      1.00        22\n",
      "weighted avg       1.00      1.00      1.00        22\n",
      "\n"
     ]
    }
   ],
   "source": [
    "print(\"\\nRandom Forest Classification Report:\")\n",
    "print(classification_report(y_test, y_pred_rf))\n",
    "\n",
    "print(\"\\nANN (MLP Classifier) Classification Report:\")\n",
    "print(classification_report(y_test, y_pred_ann))"
   ]
  },
  {
   "cell_type": "code",
   "execution_count": null,
   "id": "5682e916-05ab-44ea-89ed-af76109543d0",
   "metadata": {},
   "outputs": [],
   "source": []
  }
 ],
 "metadata": {
  "kernelspec": {
   "display_name": "Python 3 (ipykernel)",
   "language": "python",
   "name": "python3"
  },
  "language_info": {
   "codemirror_mode": {
    "name": "ipython",
    "version": 3
   },
   "file_extension": ".py",
   "mimetype": "text/x-python",
   "name": "python",
   "nbconvert_exporter": "python",
   "pygments_lexer": "ipython3",
   "version": "3.12.7"
  }
 },
 "nbformat": 4,
 "nbformat_minor": 5
}
