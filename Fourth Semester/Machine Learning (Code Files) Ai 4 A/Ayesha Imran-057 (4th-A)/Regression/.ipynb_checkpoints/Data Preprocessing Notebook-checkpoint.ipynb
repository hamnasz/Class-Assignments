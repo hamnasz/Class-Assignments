{
 "cells": [
  {
   "cell_type": "markdown",
   "id": "acb1ec5a-0146-4415-a99d-21802e392140",
   "metadata": {},
   "source": [
    "# Data description "
   ]
  },
  {
   "cell_type": "markdown",
   "id": "9c996c09-58dd-453a-93cb-dc44fb6b88e3",
   "metadata": {},
   "source": [
    "This dataset provides salary data based on years of experience, education level, and job role. It can be used for salary prediction models, regression analysis, and workforce analytics. The dataset includes realistic salary variations based on industry trends."
   ]
  },
  {
   "cell_type": "markdown",
   "id": "e3399f3f",
   "metadata": {},
   "source": [
    "# Data Preprocessing Steps"
   ]
  },
  {
   "cell_type": "code",
   "execution_count": 3,
   "id": "24818953",
   "metadata": {},
   "outputs": [],
   "source": [
    "import matplotlib.pyplot as plt \n",
    "import seaborn as sns \n",
    "\n",
    "color = sns.color_palette()\n",
    "\n",
    "import numpy as np \n",
    "import pandas as pd"
   ]
  },
  {
   "cell_type": "markdown",
   "id": "95a7a593",
   "metadata": {},
   "source": [
    "# 1: Reading Data"
   ]
  },
  {
   "cell_type": "code",
   "execution_count": 7,
   "id": "418350a2",
   "metadata": {},
   "outputs": [
    {
     "data": {
      "text/html": [
       "<div>\n",
       "<style scoped>\n",
       "    .dataframe tbody tr th:only-of-type {\n",
       "        vertical-align: middle;\n",
       "    }\n",
       "\n",
       "    .dataframe tbody tr th {\n",
       "        vertical-align: top;\n",
       "    }\n",
       "\n",
       "    .dataframe thead th {\n",
       "        text-align: right;\n",
       "    }\n",
       "</style>\n",
       "<table border=\"1\" class=\"dataframe\">\n",
       "  <thead>\n",
       "    <tr style=\"text-align: right;\">\n",
       "      <th></th>\n",
       "      <th>YearsExperience</th>\n",
       "      <th>Education Level</th>\n",
       "      <th>Job Role</th>\n",
       "      <th>Salary</th>\n",
       "    </tr>\n",
       "  </thead>\n",
       "  <tbody>\n",
       "    <tr>\n",
       "      <th>0</th>\n",
       "      <td>14.98</td>\n",
       "      <td>PhD</td>\n",
       "      <td>Marketing Specialist</td>\n",
       "      <td>77861.24</td>\n",
       "    </tr>\n",
       "    <tr>\n",
       "      <th>1</th>\n",
       "      <td>38.03</td>\n",
       "      <td>PhD</td>\n",
       "      <td>Software Engineer</td>\n",
       "      <td>166880.38</td>\n",
       "    </tr>\n",
       "    <tr>\n",
       "      <th>2</th>\n",
       "      <td>29.28</td>\n",
       "      <td>Bachelor's</td>\n",
       "      <td>Business Analyst</td>\n",
       "      <td>123573.27</td>\n",
       "    </tr>\n",
       "    <tr>\n",
       "      <th>3</th>\n",
       "      <td>23.95</td>\n",
       "      <td>Master's</td>\n",
       "      <td>Marketing Specialist</td>\n",
       "      <td>90155.08</td>\n",
       "    </tr>\n",
       "    <tr>\n",
       "      <th>4</th>\n",
       "      <td>6.24</td>\n",
       "      <td>Master's</td>\n",
       "      <td>Business Analyst</td>\n",
       "      <td>55931.41</td>\n",
       "    </tr>\n",
       "  </tbody>\n",
       "</table>\n",
       "</div>"
      ],
      "text/plain": [
       "   YearsExperience Education Level              Job Role     Salary\n",
       "0            14.98             PhD  Marketing Specialist   77861.24\n",
       "1            38.03             PhD     Software Engineer  166880.38\n",
       "2            29.28      Bachelor's      Business Analyst  123573.27\n",
       "3            23.95        Master's  Marketing Specialist   90155.08\n",
       "4             6.24        Master's      Business Analyst   55931.41"
      ]
     },
     "execution_count": 7,
     "metadata": {},
     "output_type": "execute_result"
    }
   ],
   "source": [
    "data = pd.read_csv('salary_prediction_updated_dataset.csv')\n",
    "\n",
    "data.head()"
   ]
  },
  {
   "cell_type": "code",
   "execution_count": 9,
   "id": "b2f75f8d",
   "metadata": {},
   "outputs": [
    {
     "data": {
      "text/html": [
       "<div>\n",
       "<style scoped>\n",
       "    .dataframe tbody tr th:only-of-type {\n",
       "        vertical-align: middle;\n",
       "    }\n",
       "\n",
       "    .dataframe tbody tr th {\n",
       "        vertical-align: top;\n",
       "    }\n",
       "\n",
       "    .dataframe thead th {\n",
       "        text-align: right;\n",
       "    }\n",
       "</style>\n",
       "<table border=\"1\" class=\"dataframe\">\n",
       "  <thead>\n",
       "    <tr style=\"text-align: right;\">\n",
       "      <th></th>\n",
       "      <th>YearsExperience</th>\n",
       "      <th>Education Level</th>\n",
       "      <th>Job Role</th>\n",
       "      <th>Salary</th>\n",
       "    </tr>\n",
       "  </thead>\n",
       "  <tbody>\n",
       "    <tr>\n",
       "      <th>0</th>\n",
       "      <td>14.98</td>\n",
       "      <td>PhD</td>\n",
       "      <td>Marketing Specialist</td>\n",
       "      <td>77861.24</td>\n",
       "    </tr>\n",
       "    <tr>\n",
       "      <th>1</th>\n",
       "      <td>38.03</td>\n",
       "      <td>PhD</td>\n",
       "      <td>Software Engineer</td>\n",
       "      <td>166880.38</td>\n",
       "    </tr>\n",
       "  </tbody>\n",
       "</table>\n",
       "</div>"
      ],
      "text/plain": [
       "   YearsExperience Education Level              Job Role     Salary\n",
       "0            14.98             PhD  Marketing Specialist   77861.24\n",
       "1            38.03             PhD     Software Engineer  166880.38"
      ]
     },
     "execution_count": 9,
     "metadata": {},
     "output_type": "execute_result"
    }
   ],
   "source": [
    "data.head(2)"
   ]
  },
  {
   "cell_type": "code",
   "execution_count": 13,
   "id": "74c70a3c-720a-4c32-ba6c-6e5c2e8a5841",
   "metadata": {},
   "outputs": [
    {
     "data": {
      "text/plain": [
       "99642"
      ]
     },
     "execution_count": 13,
     "metadata": {},
     "output_type": "execute_result"
    }
   ],
   "source": [
    "data.Salary.nunique()"
   ]
  },
  {
   "cell_type": "code",
   "execution_count": 9,
   "id": "e67e1d9b",
   "metadata": {},
   "outputs": [
    {
     "data": {
      "text/html": [
       "<div>\n",
       "<style scoped>\n",
       "    .dataframe tbody tr th:only-of-type {\n",
       "        vertical-align: middle;\n",
       "    }\n",
       "\n",
       "    .dataframe tbody tr th {\n",
       "        vertical-align: top;\n",
       "    }\n",
       "\n",
       "    .dataframe thead th {\n",
       "        text-align: right;\n",
       "    }\n",
       "</style>\n",
       "<table border=\"1\" class=\"dataframe\">\n",
       "  <thead>\n",
       "    <tr style=\"text-align: right;\">\n",
       "      <th></th>\n",
       "      <th>YearsExperience</th>\n",
       "      <th>Education Level</th>\n",
       "      <th>Job Role</th>\n",
       "      <th>Salary</th>\n",
       "    </tr>\n",
       "  </thead>\n",
       "  <tbody>\n",
       "    <tr>\n",
       "      <th>0</th>\n",
       "      <td>14.98</td>\n",
       "      <td>PhD</td>\n",
       "      <td>Marketing Specialist</td>\n",
       "      <td>77861.24</td>\n",
       "    </tr>\n",
       "    <tr>\n",
       "      <th>1</th>\n",
       "      <td>38.03</td>\n",
       "      <td>PhD</td>\n",
       "      <td>Software Engineer</td>\n",
       "      <td>166880.38</td>\n",
       "    </tr>\n",
       "    <tr>\n",
       "      <th>2</th>\n",
       "      <td>29.28</td>\n",
       "      <td>Bachelor's</td>\n",
       "      <td>Business Analyst</td>\n",
       "      <td>123573.27</td>\n",
       "    </tr>\n",
       "    <tr>\n",
       "      <th>3</th>\n",
       "      <td>23.95</td>\n",
       "      <td>Master's</td>\n",
       "      <td>Marketing Specialist</td>\n",
       "      <td>90155.08</td>\n",
       "    </tr>\n",
       "    <tr>\n",
       "      <th>4</th>\n",
       "      <td>6.24</td>\n",
       "      <td>Master's</td>\n",
       "      <td>Business Analyst</td>\n",
       "      <td>55931.41</td>\n",
       "    </tr>\n",
       "    <tr>\n",
       "      <th>5</th>\n",
       "      <td>6.24</td>\n",
       "      <td>High School</td>\n",
       "      <td>Product Manager</td>\n",
       "      <td>43277.27</td>\n",
       "    </tr>\n",
       "    <tr>\n",
       "      <th>6</th>\n",
       "      <td>2.32</td>\n",
       "      <td>Bachelor's</td>\n",
       "      <td>Product Manager</td>\n",
       "      <td>39402.56</td>\n",
       "    </tr>\n",
       "    <tr>\n",
       "      <th>7</th>\n",
       "      <td>34.65</td>\n",
       "      <td>Master's</td>\n",
       "      <td>Product Manager</td>\n",
       "      <td>151385.44</td>\n",
       "    </tr>\n",
       "    <tr>\n",
       "      <th>8</th>\n",
       "      <td>24.04</td>\n",
       "      <td>Master's</td>\n",
       "      <td>Data Scientist</td>\n",
       "      <td>117300.92</td>\n",
       "    </tr>\n",
       "    <tr>\n",
       "      <th>9</th>\n",
       "      <td>28.32</td>\n",
       "      <td>PhD</td>\n",
       "      <td>Business Analyst</td>\n",
       "      <td>109221.28</td>\n",
       "    </tr>\n",
       "  </tbody>\n",
       "</table>\n",
       "</div>"
      ],
      "text/plain": [
       "   YearsExperience Education Level              Job Role     Salary\n",
       "0            14.98             PhD  Marketing Specialist   77861.24\n",
       "1            38.03             PhD     Software Engineer  166880.38\n",
       "2            29.28      Bachelor's      Business Analyst  123573.27\n",
       "3            23.95        Master's  Marketing Specialist   90155.08\n",
       "4             6.24        Master's      Business Analyst   55931.41\n",
       "5             6.24     High School       Product Manager   43277.27\n",
       "6             2.32      Bachelor's       Product Manager   39402.56\n",
       "7            34.65        Master's       Product Manager  151385.44\n",
       "8            24.04        Master's        Data Scientist  117300.92\n",
       "9            28.32             PhD      Business Analyst  109221.28"
      ]
     },
     "execution_count": 9,
     "metadata": {},
     "output_type": "execute_result"
    }
   ],
   "source": [
    "data.head(10)"
   ]
  },
  {
   "cell_type": "code",
   "execution_count": 9,
   "id": "7c9f9c30",
   "metadata": {},
   "outputs": [
    {
     "data": {
      "text/html": [
       "<div>\n",
       "<style scoped>\n",
       "    .dataframe tbody tr th:only-of-type {\n",
       "        vertical-align: middle;\n",
       "    }\n",
       "\n",
       "    .dataframe tbody tr th {\n",
       "        vertical-align: top;\n",
       "    }\n",
       "\n",
       "    .dataframe thead th {\n",
       "        text-align: right;\n",
       "    }\n",
       "</style>\n",
       "<table border=\"1\" class=\"dataframe\">\n",
       "  <thead>\n",
       "    <tr style=\"text-align: right;\">\n",
       "      <th></th>\n",
       "      <th>YearsExperience</th>\n",
       "      <th>Education Level</th>\n",
       "      <th>Job Role</th>\n",
       "      <th>Salary</th>\n",
       "    </tr>\n",
       "  </thead>\n",
       "  <tbody>\n",
       "    <tr>\n",
       "      <th>99995</th>\n",
       "      <td>31.69</td>\n",
       "      <td>High School</td>\n",
       "      <td>Data Scientist</td>\n",
       "      <td>147608.78</td>\n",
       "    </tr>\n",
       "    <tr>\n",
       "      <th>99996</th>\n",
       "      <td>31.17</td>\n",
       "      <td>High School</td>\n",
       "      <td>Marketing Specialist</td>\n",
       "      <td>117267.24</td>\n",
       "    </tr>\n",
       "    <tr>\n",
       "      <th>99997</th>\n",
       "      <td>26.98</td>\n",
       "      <td>Associate Degree</td>\n",
       "      <td>Business Analyst</td>\n",
       "      <td>118188.50</td>\n",
       "    </tr>\n",
       "    <tr>\n",
       "      <th>99998</th>\n",
       "      <td>19.98</td>\n",
       "      <td>Master's</td>\n",
       "      <td>Data Scientist</td>\n",
       "      <td>108768.46</td>\n",
       "    </tr>\n",
       "    <tr>\n",
       "      <th>99999</th>\n",
       "      <td>15.60</td>\n",
       "      <td>Master's</td>\n",
       "      <td>Software Engineer</td>\n",
       "      <td>85079.54</td>\n",
       "    </tr>\n",
       "  </tbody>\n",
       "</table>\n",
       "</div>"
      ],
      "text/plain": [
       "       YearsExperience   Education Level              Job Role     Salary\n",
       "99995            31.69       High School        Data Scientist  147608.78\n",
       "99996            31.17       High School  Marketing Specialist  117267.24\n",
       "99997            26.98  Associate Degree      Business Analyst  118188.50\n",
       "99998            19.98          Master's        Data Scientist  108768.46\n",
       "99999            15.60          Master's     Software Engineer   85079.54"
      ]
     },
     "execution_count": 9,
     "metadata": {},
     "output_type": "execute_result"
    }
   ],
   "source": [
    "data.tail()"
   ]
  },
  {
   "cell_type": "code",
   "execution_count": 11,
   "id": "e07c2d0b",
   "metadata": {},
   "outputs": [
    {
     "data": {
      "text/plain": [
       "(100000, 4)"
      ]
     },
     "execution_count": 11,
     "metadata": {},
     "output_type": "execute_result"
    }
   ],
   "source": [
    "data.shape"
   ]
  },
  {
   "cell_type": "code",
   "execution_count": 11,
   "id": "b08a28bd",
   "metadata": {},
   "outputs": [
    {
     "data": {
      "text/html": [
       "<div>\n",
       "<style scoped>\n",
       "    .dataframe tbody tr th:only-of-type {\n",
       "        vertical-align: middle;\n",
       "    }\n",
       "\n",
       "    .dataframe tbody tr th {\n",
       "        vertical-align: top;\n",
       "    }\n",
       "\n",
       "    .dataframe thead th {\n",
       "        text-align: right;\n",
       "    }\n",
       "</style>\n",
       "<table border=\"1\" class=\"dataframe\">\n",
       "  <thead>\n",
       "    <tr style=\"text-align: right;\">\n",
       "      <th></th>\n",
       "      <th>YearsExperience</th>\n",
       "      <th>Education Level</th>\n",
       "      <th>Job Role</th>\n",
       "      <th>Salary</th>\n",
       "    </tr>\n",
       "  </thead>\n",
       "  <tbody>\n",
       "    <tr>\n",
       "      <th>99990</th>\n",
       "      <td>31.36</td>\n",
       "      <td>High School</td>\n",
       "      <td>Business Analyst</td>\n",
       "      <td>129023.16</td>\n",
       "    </tr>\n",
       "    <tr>\n",
       "      <th>99991</th>\n",
       "      <td>4.99</td>\n",
       "      <td>Master's</td>\n",
       "      <td>Business Analyst</td>\n",
       "      <td>38399.59</td>\n",
       "    </tr>\n",
       "    <tr>\n",
       "      <th>99992</th>\n",
       "      <td>37.28</td>\n",
       "      <td>Bachelor's</td>\n",
       "      <td>Product Manager</td>\n",
       "      <td>152974.86</td>\n",
       "    </tr>\n",
       "    <tr>\n",
       "      <th>99993</th>\n",
       "      <td>16.54</td>\n",
       "      <td>Associate Degree</td>\n",
       "      <td>Product Manager</td>\n",
       "      <td>78658.78</td>\n",
       "    </tr>\n",
       "    <tr>\n",
       "      <th>99994</th>\n",
       "      <td>33.76</td>\n",
       "      <td>Master's</td>\n",
       "      <td>Marketing Specialist</td>\n",
       "      <td>133657.87</td>\n",
       "    </tr>\n",
       "    <tr>\n",
       "      <th>99995</th>\n",
       "      <td>31.69</td>\n",
       "      <td>High School</td>\n",
       "      <td>Data Scientist</td>\n",
       "      <td>147608.78</td>\n",
       "    </tr>\n",
       "    <tr>\n",
       "      <th>99996</th>\n",
       "      <td>31.17</td>\n",
       "      <td>High School</td>\n",
       "      <td>Marketing Specialist</td>\n",
       "      <td>117267.24</td>\n",
       "    </tr>\n",
       "    <tr>\n",
       "      <th>99997</th>\n",
       "      <td>26.98</td>\n",
       "      <td>Associate Degree</td>\n",
       "      <td>Business Analyst</td>\n",
       "      <td>118188.50</td>\n",
       "    </tr>\n",
       "    <tr>\n",
       "      <th>99998</th>\n",
       "      <td>19.98</td>\n",
       "      <td>Master's</td>\n",
       "      <td>Data Scientist</td>\n",
       "      <td>108768.46</td>\n",
       "    </tr>\n",
       "    <tr>\n",
       "      <th>99999</th>\n",
       "      <td>15.60</td>\n",
       "      <td>Master's</td>\n",
       "      <td>Software Engineer</td>\n",
       "      <td>85079.54</td>\n",
       "    </tr>\n",
       "  </tbody>\n",
       "</table>\n",
       "</div>"
      ],
      "text/plain": [
       "       YearsExperience   Education Level              Job Role     Salary\n",
       "99990            31.36       High School      Business Analyst  129023.16\n",
       "99991             4.99          Master's      Business Analyst   38399.59\n",
       "99992            37.28        Bachelor's       Product Manager  152974.86\n",
       "99993            16.54  Associate Degree       Product Manager   78658.78\n",
       "99994            33.76          Master's  Marketing Specialist  133657.87\n",
       "99995            31.69       High School        Data Scientist  147608.78\n",
       "99996            31.17       High School  Marketing Specialist  117267.24\n",
       "99997            26.98  Associate Degree      Business Analyst  118188.50\n",
       "99998            19.98          Master's        Data Scientist  108768.46\n",
       "99999            15.60          Master's     Software Engineer   85079.54"
      ]
     },
     "execution_count": 11,
     "metadata": {},
     "output_type": "execute_result"
    }
   ],
   "source": [
    "data.tail(10)"
   ]
  },
  {
   "cell_type": "code",
   "execution_count": 15,
   "id": "c23ed5b2",
   "metadata": {},
   "outputs": [
    {
     "data": {
      "text/html": [
       "<div>\n",
       "<style scoped>\n",
       "    .dataframe tbody tr th:only-of-type {\n",
       "        vertical-align: middle;\n",
       "    }\n",
       "\n",
       "    .dataframe tbody tr th {\n",
       "        vertical-align: top;\n",
       "    }\n",
       "\n",
       "    .dataframe thead th {\n",
       "        text-align: right;\n",
       "    }\n",
       "</style>\n",
       "<table border=\"1\" class=\"dataframe\">\n",
       "  <thead>\n",
       "    <tr style=\"text-align: right;\">\n",
       "      <th></th>\n",
       "      <th>YearsExperience</th>\n",
       "      <th>Education Level</th>\n",
       "      <th>Job Role</th>\n",
       "      <th>Salary</th>\n",
       "    </tr>\n",
       "  </thead>\n",
       "  <tbody>\n",
       "    <tr>\n",
       "      <th>7332</th>\n",
       "      <td>37.69</td>\n",
       "      <td>High School</td>\n",
       "      <td>Business Analyst</td>\n",
       "      <td>149442.02</td>\n",
       "    </tr>\n",
       "  </tbody>\n",
       "</table>\n",
       "</div>"
      ],
      "text/plain": [
       "      YearsExperience Education Level          Job Role     Salary\n",
       "7332            37.69     High School  Business Analyst  149442.02"
      ]
     },
     "execution_count": 15,
     "metadata": {},
     "output_type": "execute_result"
    }
   ],
   "source": [
    "data.sample()"
   ]
  },
  {
   "cell_type": "code",
   "execution_count": 17,
   "id": "1c16f5e3",
   "metadata": {},
   "outputs": [
    {
     "data": {
      "text/html": [
       "<div>\n",
       "<style scoped>\n",
       "    .dataframe tbody tr th:only-of-type {\n",
       "        vertical-align: middle;\n",
       "    }\n",
       "\n",
       "    .dataframe tbody tr th {\n",
       "        vertical-align: top;\n",
       "    }\n",
       "\n",
       "    .dataframe thead th {\n",
       "        text-align: right;\n",
       "    }\n",
       "</style>\n",
       "<table border=\"1\" class=\"dataframe\">\n",
       "  <thead>\n",
       "    <tr style=\"text-align: right;\">\n",
       "      <th></th>\n",
       "      <th>YearsExperience</th>\n",
       "      <th>Education Level</th>\n",
       "      <th>Job Role</th>\n",
       "      <th>Salary</th>\n",
       "    </tr>\n",
       "  </thead>\n",
       "  <tbody>\n",
       "    <tr>\n",
       "      <th>52280</th>\n",
       "      <td>21.89</td>\n",
       "      <td>High School</td>\n",
       "      <td>Software Engineer</td>\n",
       "      <td>100054.20</td>\n",
       "    </tr>\n",
       "    <tr>\n",
       "      <th>98017</th>\n",
       "      <td>11.86</td>\n",
       "      <td>Bachelor's</td>\n",
       "      <td>Marketing Specialist</td>\n",
       "      <td>58843.05</td>\n",
       "    </tr>\n",
       "    <tr>\n",
       "      <th>11918</th>\n",
       "      <td>9.79</td>\n",
       "      <td>PhD</td>\n",
       "      <td>Software Engineer</td>\n",
       "      <td>60194.44</td>\n",
       "    </tr>\n",
       "    <tr>\n",
       "      <th>6203</th>\n",
       "      <td>26.01</td>\n",
       "      <td>Associate Degree</td>\n",
       "      <td>Data Scientist</td>\n",
       "      <td>125540.15</td>\n",
       "    </tr>\n",
       "    <tr>\n",
       "      <th>88204</th>\n",
       "      <td>32.59</td>\n",
       "      <td>Bachelor's</td>\n",
       "      <td>Business Analyst</td>\n",
       "      <td>137224.49</td>\n",
       "    </tr>\n",
       "    <tr>\n",
       "      <th>46080</th>\n",
       "      <td>34.27</td>\n",
       "      <td>Master's</td>\n",
       "      <td>Software Engineer</td>\n",
       "      <td>140454.61</td>\n",
       "    </tr>\n",
       "    <tr>\n",
       "      <th>90174</th>\n",
       "      <td>18.32</td>\n",
       "      <td>PhD</td>\n",
       "      <td>Marketing Specialist</td>\n",
       "      <td>91840.97</td>\n",
       "    </tr>\n",
       "    <tr>\n",
       "      <th>45930</th>\n",
       "      <td>21.00</td>\n",
       "      <td>High School</td>\n",
       "      <td>Business Analyst</td>\n",
       "      <td>107452.30</td>\n",
       "    </tr>\n",
       "    <tr>\n",
       "      <th>63315</th>\n",
       "      <td>15.45</td>\n",
       "      <td>PhD</td>\n",
       "      <td>Marketing Specialist</td>\n",
       "      <td>69370.13</td>\n",
       "    </tr>\n",
       "    <tr>\n",
       "      <th>34444</th>\n",
       "      <td>27.07</td>\n",
       "      <td>Associate Degree</td>\n",
       "      <td>Business Analyst</td>\n",
       "      <td>113021.79</td>\n",
       "    </tr>\n",
       "  </tbody>\n",
       "</table>\n",
       "</div>"
      ],
      "text/plain": [
       "       YearsExperience   Education Level              Job Role     Salary\n",
       "52280            21.89       High School     Software Engineer  100054.20\n",
       "98017            11.86        Bachelor's  Marketing Specialist   58843.05\n",
       "11918             9.79               PhD     Software Engineer   60194.44\n",
       "6203             26.01  Associate Degree        Data Scientist  125540.15\n",
       "88204            32.59        Bachelor's      Business Analyst  137224.49\n",
       "46080            34.27          Master's     Software Engineer  140454.61\n",
       "90174            18.32               PhD  Marketing Specialist   91840.97\n",
       "45930            21.00       High School      Business Analyst  107452.30\n",
       "63315            15.45               PhD  Marketing Specialist   69370.13\n",
       "34444            27.07  Associate Degree      Business Analyst  113021.79"
      ]
     },
     "execution_count": 17,
     "metadata": {},
     "output_type": "execute_result"
    }
   ],
   "source": [
    "data.sample(10)"
   ]
  },
  {
   "cell_type": "code",
   "execution_count": 19,
   "id": "f28366ba",
   "metadata": {},
   "outputs": [
    {
     "name": "stdout",
     "output_type": "stream",
     "text": [
      "<class 'pandas.core.frame.DataFrame'>\n",
      "RangeIndex: 100000 entries, 0 to 99999\n",
      "Data columns (total 4 columns):\n",
      " #   Column           Non-Null Count   Dtype  \n",
      "---  ------           --------------   -----  \n",
      " 0   YearsExperience  100000 non-null  float64\n",
      " 1   Education Level  100000 non-null  object \n",
      " 2   Job Role         100000 non-null  object \n",
      " 3   Salary           100000 non-null  float64\n",
      "dtypes: float64(2), object(2)\n",
      "memory usage: 3.1+ MB\n"
     ]
    }
   ],
   "source": [
    "data.info()"
   ]
  },
  {
   "cell_type": "code",
   "execution_count": 21,
   "id": "b2a206df",
   "metadata": {},
   "outputs": [
    {
     "data": {
      "text/html": [
       "<div>\n",
       "<style scoped>\n",
       "    .dataframe tbody tr th:only-of-type {\n",
       "        vertical-align: middle;\n",
       "    }\n",
       "\n",
       "    .dataframe tbody tr th {\n",
       "        vertical-align: top;\n",
       "    }\n",
       "\n",
       "    .dataframe thead th {\n",
       "        text-align: right;\n",
       "    }\n",
       "</style>\n",
       "<table border=\"1\" class=\"dataframe\">\n",
       "  <thead>\n",
       "    <tr style=\"text-align: right;\">\n",
       "      <th></th>\n",
       "      <th>YearsExperience</th>\n",
       "      <th>Salary</th>\n",
       "    </tr>\n",
       "  </thead>\n",
       "  <tbody>\n",
       "    <tr>\n",
       "      <th>count</th>\n",
       "      <td>100000.000000</td>\n",
       "      <td>100000.000000</td>\n",
       "    </tr>\n",
       "    <tr>\n",
       "      <th>mean</th>\n",
       "      <td>19.979528</td>\n",
       "      <td>95161.800647</td>\n",
       "    </tr>\n",
       "    <tr>\n",
       "      <th>std</th>\n",
       "      <td>11.533637</td>\n",
       "      <td>39447.389834</td>\n",
       "    </tr>\n",
       "    <tr>\n",
       "      <th>min</th>\n",
       "      <td>0.000000</td>\n",
       "      <td>11950.770000</td>\n",
       "    </tr>\n",
       "    <tr>\n",
       "      <th>25%</th>\n",
       "      <td>9.980000</td>\n",
       "      <td>61469.317500</td>\n",
       "    </tr>\n",
       "    <tr>\n",
       "      <th>50%</th>\n",
       "      <td>20.025000</td>\n",
       "      <td>95144.280000</td>\n",
       "    </tr>\n",
       "    <tr>\n",
       "      <th>75%</th>\n",
       "      <td>29.980000</td>\n",
       "      <td>128412.957500</td>\n",
       "    </tr>\n",
       "    <tr>\n",
       "      <th>max</th>\n",
       "      <td>40.000000</td>\n",
       "      <td>191232.000000</td>\n",
       "    </tr>\n",
       "  </tbody>\n",
       "</table>\n",
       "</div>"
      ],
      "text/plain": [
       "       YearsExperience         Salary\n",
       "count    100000.000000  100000.000000\n",
       "mean         19.979528   95161.800647\n",
       "std          11.533637   39447.389834\n",
       "min           0.000000   11950.770000\n",
       "25%           9.980000   61469.317500\n",
       "50%          20.025000   95144.280000\n",
       "75%          29.980000  128412.957500\n",
       "max          40.000000  191232.000000"
      ]
     },
     "execution_count": 21,
     "metadata": {},
     "output_type": "execute_result"
    }
   ],
   "source": [
    "data.describe()"
   ]
  },
  {
   "cell_type": "markdown",
   "id": "29f7c818",
   "metadata": {},
   "source": [
    "# 2: Data Cleaning"
   ]
  },
  {
   "cell_type": "markdown",
   "id": "8aaad97b",
   "metadata": {},
   "source": [
    "Handling Missing Values\n",
    "-\n",
    "- Imputation: Filling missing values with mean."
   ]
  },
  {
   "cell_type": "code",
   "execution_count": 15,
   "id": "9185afae",
   "metadata": {},
   "outputs": [
    {
     "data": {
      "text/plain": [
       "YearsExperience    0\n",
       "Education Level    0\n",
       "Job Role           0\n",
       "Salary             0\n",
       "dtype: int64"
      ]
     },
     "execution_count": 15,
     "metadata": {},
     "output_type": "execute_result"
    }
   ],
   "source": [
    "data.isnull().sum()"
   ]
  },
  {
   "cell_type": "code",
   "execution_count": 27,
   "id": "826743d8",
   "metadata": {},
   "outputs": [
    {
     "name": "stdout",
     "output_type": "stream",
     "text": [
      "YearsExperience    0\n",
      "Salary             0\n",
      "Education Level    0\n",
      "Job Role           0\n",
      "dtype: int64\n"
     ]
    }
   ],
   "source": [
    "import pandas as pd\n",
    "import numpy as np\n",
    "\n",
    "numeric_cols = data.select_dtypes(include=[np.number])\n",
    "non_numeric_cols = data.select_dtypes(exclude=[np.number])\n",
    "\n",
    "numeric_cols.fillna(numeric_cols.mean(), inplace=True)   \n",
    "\n",
    "data = pd.concat([numeric_cols, non_numeric_cols], axis=1)\n",
    "\n",
    "missing_values = data.isnull().sum()\n",
    "print(missing_values)\n"
   ]
  },
  {
   "cell_type": "code",
   "execution_count": 29,
   "id": "6ab4d82a",
   "metadata": {},
   "outputs": [
    {
     "name": "stdout",
     "output_type": "stream",
     "text": [
      "YearsExperience    0\n",
      "Salary             0\n",
      "Education Level    0\n",
      "Job Role           0\n",
      "dtype: int64\n"
     ]
    },
    {
     "name": "stderr",
     "output_type": "stream",
     "text": [
      "C:\\Users\\ayesh\\AppData\\Local\\Temp\\ipykernel_11848\\1944367726.py:14: FutureWarning: A value is trying to be set on a copy of a DataFrame or Series through chained assignment using an inplace method.\n",
      "The behavior will change in pandas 3.0. This inplace method will never work because the intermediate object on which we are setting values always behaves as a copy.\n",
      "\n",
      "For example, when doing 'df[col].method(value, inplace=True)', try using 'df.method({col: value}, inplace=True)' or df[col] = df[col].method(value) instead, to perform the operation inplace on the original object.\n",
      "\n",
      "\n",
      "  non_numeric_cols[col].fillna(non_numeric_cols[col].mode()[0], inplace=True)  # Categorical features\n"
     ]
    }
   ],
   "source": [
    "import pandas as pd\n",
    "import numpy as np\n",
    "\n",
    "numeric_cols = data.select_dtypes(include=[np.number])\n",
    "non_numeric_cols = data.select_dtypes(exclude=[np.number])\n",
    "\n",
    "numeric_cols.fillna(numeric_cols.mean(), inplace=True)  \n",
    "\n",
    "for col in non_numeric_cols.columns:\n",
    "    non_numeric_cols[col].fillna(non_numeric_cols[col].mode()[0], inplace=True)  \n",
    "\n",
    "data = pd.concat([numeric_cols, non_numeric_cols], axis=1)\n",
    "\n",
    "missing_values = data.isnull().sum()\n",
    "print(missing_values)\n"
   ]
  },
  {
   "cell_type": "code",
   "execution_count": 31,
   "id": "06e3f3f5",
   "metadata": {},
   "outputs": [
    {
     "data": {
      "text/plain": [
       "(100000, 4)"
      ]
     },
     "execution_count": 31,
     "metadata": {},
     "output_type": "execute_result"
    }
   ],
   "source": [
    "data.shape"
   ]
  },
  {
   "cell_type": "markdown",
   "id": "07b95415",
   "metadata": {},
   "source": [
    "Removal: Deleting rows with missing values.\n",
    "-"
   ]
  },
  {
   "cell_type": "code",
   "execution_count": 33,
   "id": "e62e6125",
   "metadata": {},
   "outputs": [
    {
     "data": {
      "text/plain": [
       "YearsExperience    0\n",
       "Education Level    0\n",
       "Job Role           0\n",
       "Salary             0\n",
       "dtype: int64"
      ]
     },
     "execution_count": 33,
     "metadata": {},
     "output_type": "execute_result"
    }
   ],
   "source": [
    "data.isnull().sum()"
   ]
  },
  {
   "cell_type": "code",
   "execution_count": 35,
   "id": "28b9c914",
   "metadata": {},
   "outputs": [
    {
     "data": {
      "text/plain": [
       "(100000, 4)"
      ]
     },
     "execution_count": 35,
     "metadata": {},
     "output_type": "execute_result"
    }
   ],
   "source": [
    "data.shape"
   ]
  },
  {
   "cell_type": "code",
   "execution_count": 37,
   "id": "9a6569c7",
   "metadata": {},
   "outputs": [
    {
     "name": "stdout",
     "output_type": "stream",
     "text": [
      "YearsExperience    0\n",
      "Education Level    0\n",
      "Job Role           0\n",
      "Salary             0\n",
      "dtype: int64\n"
     ]
    }
   ],
   "source": [
    "data.dropna(inplace=True)\n",
    "\n",
    "missing_values = data.isnull().sum()\n",
    "print(missing_values)\n"
   ]
  },
  {
   "cell_type": "code",
   "execution_count": 39,
   "id": "f9007c7e",
   "metadata": {},
   "outputs": [
    {
     "data": {
      "text/plain": [
       "(100000, 4)"
      ]
     },
     "execution_count": 39,
     "metadata": {},
     "output_type": "execute_result"
    }
   ],
   "source": [
    "data.shape"
   ]
  },
  {
   "cell_type": "code",
   "execution_count": null,
   "id": "f1361d72",
   "metadata": {},
   "outputs": [],
   "source": []
  },
  {
   "cell_type": "markdown",
   "id": "43d2d12a",
   "metadata": {},
   "source": [
    "Removing Duplicates\n",
    "-"
   ]
  },
  {
   "cell_type": "code",
   "execution_count": 43,
   "id": "4270a2df",
   "metadata": {},
   "outputs": [
    {
     "data": {
      "text/plain": [
       "(100000, 4)"
      ]
     },
     "execution_count": 43,
     "metadata": {},
     "output_type": "execute_result"
    }
   ],
   "source": [
    "data.drop_duplicates(inplace=True)\n",
    "data.shape"
   ]
  },
  {
   "cell_type": "markdown",
   "id": "ea5c13bf",
   "metadata": {},
   "source": [
    "# 3: Outlier Detection and Removal"
   ]
  },
  {
   "cell_type": "code",
   "execution_count": 45,
   "id": "6756bc33",
   "metadata": {},
   "outputs": [
    {
     "data": {
      "text/html": [
       "<div>\n",
       "<style scoped>\n",
       "    .dataframe tbody tr th:only-of-type {\n",
       "        vertical-align: middle;\n",
       "    }\n",
       "\n",
       "    .dataframe tbody tr th {\n",
       "        vertical-align: top;\n",
       "    }\n",
       "\n",
       "    .dataframe thead th {\n",
       "        text-align: right;\n",
       "    }\n",
       "</style>\n",
       "<table border=\"1\" class=\"dataframe\">\n",
       "  <thead>\n",
       "    <tr style=\"text-align: right;\">\n",
       "      <th></th>\n",
       "      <th>YearsExperience</th>\n",
       "      <th>Salary</th>\n",
       "    </tr>\n",
       "  </thead>\n",
       "  <tbody>\n",
       "    <tr>\n",
       "      <th>count</th>\n",
       "      <td>100000.000000</td>\n",
       "      <td>100000.000000</td>\n",
       "    </tr>\n",
       "    <tr>\n",
       "      <th>mean</th>\n",
       "      <td>19.979528</td>\n",
       "      <td>95161.800647</td>\n",
       "    </tr>\n",
       "    <tr>\n",
       "      <th>std</th>\n",
       "      <td>11.533637</td>\n",
       "      <td>39447.389834</td>\n",
       "    </tr>\n",
       "    <tr>\n",
       "      <th>min</th>\n",
       "      <td>0.000000</td>\n",
       "      <td>11950.770000</td>\n",
       "    </tr>\n",
       "    <tr>\n",
       "      <th>25%</th>\n",
       "      <td>9.980000</td>\n",
       "      <td>61469.317500</td>\n",
       "    </tr>\n",
       "    <tr>\n",
       "      <th>50%</th>\n",
       "      <td>20.025000</td>\n",
       "      <td>95144.280000</td>\n",
       "    </tr>\n",
       "    <tr>\n",
       "      <th>75%</th>\n",
       "      <td>29.980000</td>\n",
       "      <td>128412.957500</td>\n",
       "    </tr>\n",
       "    <tr>\n",
       "      <th>max</th>\n",
       "      <td>40.000000</td>\n",
       "      <td>191232.000000</td>\n",
       "    </tr>\n",
       "  </tbody>\n",
       "</table>\n",
       "</div>"
      ],
      "text/plain": [
       "       YearsExperience         Salary\n",
       "count    100000.000000  100000.000000\n",
       "mean         19.979528   95161.800647\n",
       "std          11.533637   39447.389834\n",
       "min           0.000000   11950.770000\n",
       "25%           9.980000   61469.317500\n",
       "50%          20.025000   95144.280000\n",
       "75%          29.980000  128412.957500\n",
       "max          40.000000  191232.000000"
      ]
     },
     "execution_count": 45,
     "metadata": {},
     "output_type": "execute_result"
    }
   ],
   "source": [
    "import pandas as pd\n",
    "import numpy as np\n",
    "import matplotlib.pyplot as plt\n",
    "\n",
    "data = pd.read_csv('salary_prediction_updated_dataset.csv')\n",
    "\n",
    "data.describe()"
   ]
  },
  {
   "cell_type": "code",
   "execution_count": 47,
   "id": "8c853c1d",
   "metadata": {},
   "outputs": [
    {
     "data": {
      "text/plain": [
       "-0.5"
      ]
     },
     "execution_count": 47,
     "metadata": {},
     "output_type": "execute_result"
    }
   ],
   "source": [
    "0.25-1.5*0.5"
   ]
  },
  {
   "cell_type": "code",
   "execution_count": 49,
   "id": "e7af1fff",
   "metadata": {},
   "outputs": [
    {
     "data": {
      "text/plain": [
       "1.5"
      ]
     },
     "execution_count": 49,
     "metadata": {},
     "output_type": "execute_result"
    }
   ],
   "source": [
    "0.75 + 1.5 * 0.5"
   ]
  },
  {
   "cell_type": "code",
   "execution_count": 51,
   "id": "8d209c3c",
   "metadata": {},
   "outputs": [
    {
     "data": {
      "image/png": "[encoded data removed]",
      "text/plain": [
       "<Figure size 2000x600 with 1 Axes>"
      ]
     },
     "metadata": {},
     "output_type": "display_data"
    }
   ],
   "source": [
    "numeric_cols = data.select_dtypes(include=[np.number])\n",
    "Q1 = numeric_cols.quantile(0.25)\n",
    "Q3 = numeric_cols.quantile(0.75)\n",
    "IQR = Q3 - Q1\n",
    "\n",
    "data_cleaned = data[~((numeric_cols < (Q1 - 1.5 * IQR)) | (numeric_cols > (Q3 + 1.5 * IQR))).any(axis=1)]\n",
    "\n",
    "plt.figure(figsize=(20, 6))\n",
    "\n",
    "plt.subplot(1, 2, 1)\n",
    "numeric_cols.boxplot()\n",
    "plt.title(\"Before Outlier Removal\")\n",
    "\n",
    "plt.tight_layout()\n",
    "plt.show()\n"
   ]
  },
  {
   "cell_type": "code",
   "execution_count": 53,
   "id": "5265f4e7",
   "metadata": {},
   "outputs": [
    {
     "data": {
      "image/png": "[encoded data removed]",
      "text/plain": [
       "<Figure size 2000x600 with 1 Axes>"
      ]
     },
     "metadata": {},
     "output_type": "display_data"
    }
   ],
   "source": [
    "plt.figure(figsize=(20, 6))\n",
    "\n",
    "plt.subplot(1, 2, 2)\n",
    "data_cleaned.select_dtypes(include=[np.number]).boxplot()\n",
    "plt.title(\"After Outlier Removal\")\n",
    "\n",
    "plt.tight_layout()\n",
    "plt.show()\n"
   ]
  },
  {
   "cell_type": "code",
   "execution_count": 55,
   "id": "62f7ef88",
   "metadata": {},
   "outputs": [
    {
     "data": {
      "text/plain": [
       "(100000, 4)"
      ]
     },
     "execution_count": 55,
     "metadata": {},
     "output_type": "execute_result"
    }
   ],
   "source": [
    "data_cleaned.shape"
   ]
  },
  {
   "cell_type": "code",
   "execution_count": 57,
   "id": "f55b2be7",
   "metadata": {},
   "outputs": [
    {
     "data": {
      "text/html": [
       "<div>\n",
       "<style scoped>\n",
       "    .dataframe tbody tr th:only-of-type {\n",
       "        vertical-align: middle;\n",
       "    }\n",
       "\n",
       "    .dataframe tbody tr th {\n",
       "        vertical-align: top;\n",
       "    }\n",
       "\n",
       "    .dataframe thead th {\n",
       "        text-align: right;\n",
       "    }\n",
       "</style>\n",
       "<table border=\"1\" class=\"dataframe\">\n",
       "  <thead>\n",
       "    <tr style=\"text-align: right;\">\n",
       "      <th></th>\n",
       "      <th>YearsExperience</th>\n",
       "      <th>Education Level</th>\n",
       "      <th>Job Role</th>\n",
       "      <th>Salary</th>\n",
       "    </tr>\n",
       "  </thead>\n",
       "  <tbody>\n",
       "    <tr>\n",
       "      <th>0</th>\n",
       "      <td>14.98</td>\n",
       "      <td>PhD</td>\n",
       "      <td>Marketing Specialist</td>\n",
       "      <td>77861.24</td>\n",
       "    </tr>\n",
       "    <tr>\n",
       "      <th>1</th>\n",
       "      <td>38.03</td>\n",
       "      <td>PhD</td>\n",
       "      <td>Software Engineer</td>\n",
       "      <td>166880.38</td>\n",
       "    </tr>\n",
       "    <tr>\n",
       "      <th>2</th>\n",
       "      <td>29.28</td>\n",
       "      <td>Bachelor's</td>\n",
       "      <td>Business Analyst</td>\n",
       "      <td>123573.27</td>\n",
       "    </tr>\n",
       "    <tr>\n",
       "      <th>3</th>\n",
       "      <td>23.95</td>\n",
       "      <td>Master's</td>\n",
       "      <td>Marketing Specialist</td>\n",
       "      <td>90155.08</td>\n",
       "    </tr>\n",
       "    <tr>\n",
       "      <th>4</th>\n",
       "      <td>6.24</td>\n",
       "      <td>Master's</td>\n",
       "      <td>Business Analyst</td>\n",
       "      <td>55931.41</td>\n",
       "    </tr>\n",
       "  </tbody>\n",
       "</table>\n",
       "</div>"
      ],
      "text/plain": [
       "   YearsExperience Education Level              Job Role     Salary\n",
       "0            14.98             PhD  Marketing Specialist   77861.24\n",
       "1            38.03             PhD     Software Engineer  166880.38\n",
       "2            29.28      Bachelor's      Business Analyst  123573.27\n",
       "3            23.95        Master's  Marketing Specialist   90155.08\n",
       "4             6.24        Master's      Business Analyst   55931.41"
      ]
     },
     "execution_count": 57,
     "metadata": {},
     "output_type": "execute_result"
    }
   ],
   "source": [
    "data_cleaned.head()"
   ]
  },
  {
   "cell_type": "code",
   "execution_count": null,
   "id": "01058b2b",
   "metadata": {},
   "outputs": [],
   "source": []
  },
  {
   "cell_type": "markdown",
   "id": "706661d4",
   "metadata": {},
   "source": [
    "# 4. Data Transformation\n"
   ]
  },
  {
   "cell_type": "code",
   "execution_count": 123,
   "id": "4d368765",
   "metadata": {},
   "outputs": [
    {
     "name": "stdout",
     "output_type": "stream",
     "text": [
      "(100000, 4)\n",
      "\n",
      "************************************************************\n"
     ]
    },
    {
     "data": {
      "text/html": [
       "<div>\n",
       "<style scoped>\n",
       "    .dataframe tbody tr th:only-of-type {\n",
       "        vertical-align: middle;\n",
       "    }\n",
       "\n",
       "    .dataframe tbody tr th {\n",
       "        vertical-align: top;\n",
       "    }\n",
       "\n",
       "    .dataframe thead th {\n",
       "        text-align: right;\n",
       "    }\n",
       "</style>\n",
       "<table border=\"1\" class=\"dataframe\">\n",
       "  <thead>\n",
       "    <tr style=\"text-align: right;\">\n",
       "      <th></th>\n",
       "      <th>YearsExperience</th>\n",
       "      <th>Salary</th>\n",
       "      <th>Education Level</th>\n",
       "      <th>Job Role</th>\n",
       "    </tr>\n",
       "  </thead>\n",
       "  <tbody>\n",
       "    <tr>\n",
       "      <th>0</th>\n",
       "      <td>0.37450</td>\n",
       "      <td>0.367637</td>\n",
       "      <td>PhD</td>\n",
       "      <td>Marketing Specialist</td>\n",
       "    </tr>\n",
       "    <tr>\n",
       "      <th>1</th>\n",
       "      <td>0.95075</td>\n",
       "      <td>0.864171</td>\n",
       "      <td>PhD</td>\n",
       "      <td>Software Engineer</td>\n",
       "    </tr>\n",
       "    <tr>\n",
       "      <th>2</th>\n",
       "      <td>0.73200</td>\n",
       "      <td>0.622611</td>\n",
       "      <td>Bachelor's</td>\n",
       "      <td>Business Analyst</td>\n",
       "    </tr>\n",
       "    <tr>\n",
       "      <th>3</th>\n",
       "      <td>0.59875</td>\n",
       "      <td>0.436210</td>\n",
       "      <td>Master's</td>\n",
       "      <td>Marketing Specialist</td>\n",
       "    </tr>\n",
       "    <tr>\n",
       "      <th>4</th>\n",
       "      <td>0.15600</td>\n",
       "      <td>0.245316</td>\n",
       "      <td>Master's</td>\n",
       "      <td>Business Analyst</td>\n",
       "    </tr>\n",
       "  </tbody>\n",
       "</table>\n",
       "</div>"
      ],
      "text/plain": [
       "   YearsExperience    Salary Education Level              Job Role\n",
       "0          0.37450  0.367637             PhD  Marketing Specialist\n",
       "1          0.95075  0.864171             PhD     Software Engineer\n",
       "2          0.73200  0.622611      Bachelor's      Business Analyst\n",
       "3          0.59875  0.436210        Master's  Marketing Specialist\n",
       "4          0.15600  0.245316        Master's      Business Analyst"
      ]
     },
     "execution_count": 123,
     "metadata": {},
     "output_type": "execute_result"
    }
   ],
   "source": [
    "import pandas as pd\n",
    "import numpy as np\n",
    "from sklearn.preprocessing import MinMaxScaler\n",
    "\n",
    "data = pd.read_csv('salary_prediction_updated_dataset.csv')\n",
    "\n",
    "numeric_cols = data.select_dtypes(include=[np.number])\n",
    "non_numeric_cols = data.select_dtypes(exclude=[np.number])\n",
    "\n",
    "scaler = MinMaxScaler()\n",
    "scaled_numeric_data = scaler.fit_transform(numeric_cols)\n",
    "\n",
    "scaled_numeric_df = pd.DataFrame(scaled_numeric_data, columns=numeric_cols.columns)\n",
    "\n",
    "scaled_data = pd.concat([scaled_numeric_df, non_numeric_cols.reset_index(drop=True)], axis=1)\n",
    "\n",
    "print(scaled_data.shape)\n",
    "print()\n",
    "print('*' * 60)\n",
    "scaled_data.head()\n"
   ]
  },
  {
   "cell_type": "code",
   "execution_count": null,
   "id": "3c27dfc8",
   "metadata": {},
   "outputs": [],
   "source": []
  },
  {
   "cell_type": "markdown",
   "id": "d774560a",
   "metadata": {},
   "source": [
    "Standardization\n",
    "-\n",
    "Definition:\n",
    "Standardization rescales the data so that it has a mean of 0 and a standard deviation of 1."
   ]
  },
  {
   "cell_type": "code",
   "execution_count": 61,
   "id": "d7f7746f",
   "metadata": {},
   "outputs": [
    {
     "name": "stdout",
     "output_type": "stream",
     "text": [
      "(100000, 4)\n",
      "\n",
      "************************************************************\n"
     ]
    },
    {
     "data": {
      "text/html": [
       "<div>\n",
       "<style scoped>\n",
       "    .dataframe tbody tr th:only-of-type {\n",
       "        vertical-align: middle;\n",
       "    }\n",
       "\n",
       "    .dataframe tbody tr th {\n",
       "        vertical-align: top;\n",
       "    }\n",
       "\n",
       "    .dataframe thead th {\n",
       "        text-align: right;\n",
       "    }\n",
       "</style>\n",
       "<table border=\"1\" class=\"dataframe\">\n",
       "  <thead>\n",
       "    <tr style=\"text-align: right;\">\n",
       "      <th></th>\n",
       "      <th>YearsExperience</th>\n",
       "      <th>Salary</th>\n",
       "      <th>Education Level</th>\n",
       "      <th>Job Role</th>\n",
       "    </tr>\n",
       "  </thead>\n",
       "  <tbody>\n",
       "    <tr>\n",
       "      <th>0</th>\n",
       "      <td>-0.433476</td>\n",
       "      <td>-0.438575</td>\n",
       "      <td>PhD</td>\n",
       "      <td>Marketing Specialist</td>\n",
       "    </tr>\n",
       "    <tr>\n",
       "      <th>1</th>\n",
       "      <td>1.565036</td>\n",
       "      <td>1.818091</td>\n",
       "      <td>PhD</td>\n",
       "      <td>Software Engineer</td>\n",
       "    </tr>\n",
       "    <tr>\n",
       "      <th>2</th>\n",
       "      <td>0.806382</td>\n",
       "      <td>0.720241</td>\n",
       "      <td>Bachelor's</td>\n",
       "      <td>Business Analyst</td>\n",
       "    </tr>\n",
       "    <tr>\n",
       "      <th>3</th>\n",
       "      <td>0.344253</td>\n",
       "      <td>-0.126922</td>\n",
       "      <td>Master's</td>\n",
       "      <td>Marketing Specialist</td>\n",
       "    </tr>\n",
       "    <tr>\n",
       "      <th>4</th>\n",
       "      <td>-1.191263</td>\n",
       "      <td>-0.994504</td>\n",
       "      <td>Master's</td>\n",
       "      <td>Business Analyst</td>\n",
       "    </tr>\n",
       "  </tbody>\n",
       "</table>\n",
       "</div>"
      ],
      "text/plain": [
       "   YearsExperience    Salary Education Level              Job Role\n",
       "0        -0.433476 -0.438575             PhD  Marketing Specialist\n",
       "1         1.565036  1.818091             PhD     Software Engineer\n",
       "2         0.806382  0.720241      Bachelor's      Business Analyst\n",
       "3         0.344253 -0.126922        Master's  Marketing Specialist\n",
       "4        -1.191263 -0.994504        Master's      Business Analyst"
      ]
     },
     "execution_count": 61,
     "metadata": {},
     "output_type": "execute_result"
    }
   ],
   "source": [
    "import pandas as pd\n",
    "import numpy as np\n",
    "from sklearn.preprocessing import StandardScaler\n",
    "\n",
    "data = pd.read_csv('salary_prediction_updated_dataset.csv')\n",
    "\n",
    "numeric_cols = data.select_dtypes(include=[np.number])\n",
    "non_numeric_cols = data.select_dtypes(exclude=[np.number])\n",
    "\n",
    "scaler = StandardScaler()\n",
    "scaled_numeric_data = scaler.fit_transform(numeric_cols)\n",
    "\n",
    "scaled_numeric_df = pd.DataFrame(scaled_numeric_data, columns=numeric_cols.columns)\n",
    "\n",
    "scaled_data = pd.concat([scaled_numeric_df, non_numeric_cols.reset_index(drop=True)], axis=1)\n",
    "\n",
    "print(scaled_data.shape)\n",
    "print()\n",
    "print('*' * 60)\n",
    "scaled_data.head()\n"
   ]
  },
  {
   "cell_type": "code",
   "execution_count": null,
   "id": "c17839d8",
   "metadata": {},
   "outputs": [],
   "source": []
  },
  {
   "cell_type": "markdown",
   "id": "ac2cdfaf",
   "metadata": {},
   "source": [
    "# 5: One-Hot Encoding\n"
   ]
  },
  {
   "cell_type": "code",
   "execution_count": 63,
   "id": "eb07ff2d",
   "metadata": {},
   "outputs": [
    {
     "data": {
      "text/html": [
       "<div>\n",
       "<style scoped>\n",
       "    .dataframe tbody tr th:only-of-type {\n",
       "        vertical-align: middle;\n",
       "    }\n",
       "\n",
       "    .dataframe tbody tr th {\n",
       "        vertical-align: top;\n",
       "    }\n",
       "\n",
       "    .dataframe thead th {\n",
       "        text-align: right;\n",
       "    }\n",
       "</style>\n",
       "<table border=\"1\" class=\"dataframe\">\n",
       "  <thead>\n",
       "    <tr style=\"text-align: right;\">\n",
       "      <th></th>\n",
       "      <th>YearsExperience</th>\n",
       "      <th>Education Level</th>\n",
       "      <th>Job Role</th>\n",
       "      <th>Salary</th>\n",
       "    </tr>\n",
       "  </thead>\n",
       "  <tbody>\n",
       "    <tr>\n",
       "      <th>0</th>\n",
       "      <td>14.98</td>\n",
       "      <td>PhD</td>\n",
       "      <td>Marketing Specialist</td>\n",
       "      <td>77861.24</td>\n",
       "    </tr>\n",
       "    <tr>\n",
       "      <th>1</th>\n",
       "      <td>38.03</td>\n",
       "      <td>PhD</td>\n",
       "      <td>Software Engineer</td>\n",
       "      <td>166880.38</td>\n",
       "    </tr>\n",
       "  </tbody>\n",
       "</table>\n",
       "</div>"
      ],
      "text/plain": [
       "   YearsExperience Education Level              Job Role     Salary\n",
       "0            14.98             PhD  Marketing Specialist   77861.24\n",
       "1            38.03             PhD     Software Engineer  166880.38"
      ]
     },
     "execution_count": 63,
     "metadata": {},
     "output_type": "execute_result"
    }
   ],
   "source": [
    "import pandas as pd\n",
    "import numpy as np\n",
    "from sklearn.preprocessing import StandardScaler\n",
    "\n",
    "data = pd.read_csv('salary_prediction_updated_dataset.csv')\n",
    "data.head(2)"
   ]
  },
  {
   "cell_type": "code",
   "execution_count": 65,
   "id": "fbccf1b0",
   "metadata": {},
   "outputs": [
    {
     "data": {
      "text/plain": [
       "array(['PhD', \"Bachelor's\", \"Master's\", 'High School', 'Associate Degree'],\n",
       "      dtype=object)"
      ]
     },
     "execution_count": 65,
     "metadata": {},
     "output_type": "execute_result"
    }
   ],
   "source": [
    "data[\"Education Level\"].unique()"
   ]
  },
  {
   "cell_type": "code",
   "execution_count": null,
   "id": "6a5f1d68",
   "metadata": {},
   "outputs": [],
   "source": []
  },
  {
   "cell_type": "code",
   "execution_count": 67,
   "id": "32d2fdeb",
   "metadata": {},
   "outputs": [
    {
     "data": {
      "text/html": [
       "<div>\n",
       "<style scoped>\n",
       "    .dataframe tbody tr th:only-of-type {\n",
       "        vertical-align: middle;\n",
       "    }\n",
       "\n",
       "    .dataframe tbody tr th {\n",
       "        vertical-align: top;\n",
       "    }\n",
       "\n",
       "    .dataframe thead th {\n",
       "        text-align: right;\n",
       "    }\n",
       "</style>\n",
       "<table border=\"1\" class=\"dataframe\">\n",
       "  <thead>\n",
       "    <tr style=\"text-align: right;\">\n",
       "      <th></th>\n",
       "      <th>Education Level</th>\n",
       "      <th>Job Role</th>\n",
       "    </tr>\n",
       "  </thead>\n",
       "  <tbody>\n",
       "    <tr>\n",
       "      <th>0</th>\n",
       "      <td>True</td>\n",
       "      <td>False</td>\n",
       "    </tr>\n",
       "    <tr>\n",
       "      <th>1</th>\n",
       "      <td>False</td>\n",
       "      <td>True</td>\n",
       "    </tr>\n",
       "  </tbody>\n",
       "</table>\n",
       "</div>"
      ],
      "text/plain": [
       "   Education Level  Job Role\n",
       "0             True     False\n",
       "1            False      True"
      ]
     },
     "execution_count": 67,
     "metadata": {},
     "output_type": "execute_result"
    }
   ],
   "source": [
    "import pandas as pd\n",
    "import numpy as np\n",
    "from sklearn.preprocessing import StandardScaler\n",
    "\n",
    "data = pd.read_csv('salary_prediction_updated_dataset.csv')\n",
    "\n",
    "cat_features = [feature for feature in data.columns if data[feature].dtype == 'O']\n",
    "\n",
    "data1 = pd.get_dummies(cat_features)\n",
    "data1"
   ]
  },
  {
   "cell_type": "code",
   "execution_count": 69,
   "id": "aa5f0b73",
   "metadata": {},
   "outputs": [
    {
     "name": "stdout",
     "output_type": "stream",
     "text": [
      "<class 'pandas.core.frame.DataFrame'>\n",
      "RangeIndex: 2 entries, 0 to 1\n",
      "Data columns (total 2 columns):\n",
      " #   Column           Non-Null Count  Dtype\n",
      "---  ------           --------------  -----\n",
      " 0   Education Level  2 non-null      bool \n",
      " 1   Job Role         2 non-null      bool \n",
      "dtypes: bool(2)\n",
      "memory usage: 136.0 bytes\n"
     ]
    }
   ],
   "source": [
    "data1.info()"
   ]
  },
  {
   "cell_type": "code",
   "execution_count": 71,
   "id": "03436f3a",
   "metadata": {},
   "outputs": [
    {
     "data": {
      "text/plain": [
       "['Education Level', 'Job Role']"
      ]
     },
     "execution_count": 71,
     "metadata": {},
     "output_type": "execute_result"
    }
   ],
   "source": [
    "cat_features"
   ]
  },
  {
   "cell_type": "code",
   "execution_count": 73,
   "id": "18aa37c5",
   "metadata": {},
   "outputs": [
    {
     "name": "stdout",
     "output_type": "stream",
     "text": [
      "(100000, 16)\n",
      "\n",
      "**********************************************************************\n"
     ]
    },
    {
     "data": {
      "text/html": [
       "<div>\n",
       "<style scoped>\n",
       "    .dataframe tbody tr th:only-of-type {\n",
       "        vertical-align: middle;\n",
       "    }\n",
       "\n",
       "    .dataframe tbody tr th {\n",
       "        vertical-align: top;\n",
       "    }\n",
       "\n",
       "    .dataframe thead th {\n",
       "        text-align: right;\n",
       "    }\n",
       "</style>\n",
       "<table border=\"1\" class=\"dataframe\">\n",
       "  <thead>\n",
       "    <tr style=\"text-align: right;\">\n",
       "      <th></th>\n",
       "      <th>YearsExperience</th>\n",
       "      <th>Education Level</th>\n",
       "      <th>Job Role</th>\n",
       "      <th>Salary</th>\n",
       "      <th>YearsExperience</th>\n",
       "      <th>Salary</th>\n",
       "      <th>Education Level_Associate Degree</th>\n",
       "      <th>Education Level_Bachelor's</th>\n",
       "      <th>Education Level_High School</th>\n",
       "      <th>Education Level_Master's</th>\n",
       "      <th>Education Level_PhD</th>\n",
       "      <th>Job Role_Business Analyst</th>\n",
       "      <th>Job Role_Data Scientist</th>\n",
       "      <th>Job Role_Marketing Specialist</th>\n",
       "      <th>Job Role_Product Manager</th>\n",
       "      <th>Job Role_Software Engineer</th>\n",
       "    </tr>\n",
       "  </thead>\n",
       "  <tbody>\n",
       "    <tr>\n",
       "      <th>0</th>\n",
       "      <td>14.98</td>\n",
       "      <td>PhD</td>\n",
       "      <td>Marketing Specialist</td>\n",
       "      <td>77861.24</td>\n",
       "      <td>14.98</td>\n",
       "      <td>77861.24</td>\n",
       "      <td>False</td>\n",
       "      <td>False</td>\n",
       "      <td>False</td>\n",
       "      <td>False</td>\n",
       "      <td>True</td>\n",
       "      <td>False</td>\n",
       "      <td>False</td>\n",
       "      <td>True</td>\n",
       "      <td>False</td>\n",
       "      <td>False</td>\n",
       "    </tr>\n",
       "    <tr>\n",
       "      <th>1</th>\n",
       "      <td>38.03</td>\n",
       "      <td>PhD</td>\n",
       "      <td>Software Engineer</td>\n",
       "      <td>166880.38</td>\n",
       "      <td>38.03</td>\n",
       "      <td>166880.38</td>\n",
       "      <td>False</td>\n",
       "      <td>False</td>\n",
       "      <td>False</td>\n",
       "      <td>False</td>\n",
       "      <td>True</td>\n",
       "      <td>False</td>\n",
       "      <td>False</td>\n",
       "      <td>False</td>\n",
       "      <td>False</td>\n",
       "      <td>True</td>\n",
       "    </tr>\n",
       "    <tr>\n",
       "      <th>2</th>\n",
       "      <td>29.28</td>\n",
       "      <td>Bachelor's</td>\n",
       "      <td>Business Analyst</td>\n",
       "      <td>123573.27</td>\n",
       "      <td>29.28</td>\n",
       "      <td>123573.27</td>\n",
       "      <td>False</td>\n",
       "      <td>True</td>\n",
       "      <td>False</td>\n",
       "      <td>False</td>\n",
       "      <td>False</td>\n",
       "      <td>True</td>\n",
       "      <td>False</td>\n",
       "      <td>False</td>\n",
       "      <td>False</td>\n",
       "      <td>False</td>\n",
       "    </tr>\n",
       "    <tr>\n",
       "      <th>3</th>\n",
       "      <td>23.95</td>\n",
       "      <td>Master's</td>\n",
       "      <td>Marketing Specialist</td>\n",
       "      <td>90155.08</td>\n",
       "      <td>23.95</td>\n",
       "      <td>90155.08</td>\n",
       "      <td>False</td>\n",
       "      <td>False</td>\n",
       "      <td>False</td>\n",
       "      <td>True</td>\n",
       "      <td>False</td>\n",
       "      <td>False</td>\n",
       "      <td>False</td>\n",
       "      <td>True</td>\n",
       "      <td>False</td>\n",
       "      <td>False</td>\n",
       "    </tr>\n",
       "    <tr>\n",
       "      <th>4</th>\n",
       "      <td>6.24</td>\n",
       "      <td>Master's</td>\n",
       "      <td>Business Analyst</td>\n",
       "      <td>55931.41</td>\n",
       "      <td>6.24</td>\n",
       "      <td>55931.41</td>\n",
       "      <td>False</td>\n",
       "      <td>False</td>\n",
       "      <td>False</td>\n",
       "      <td>True</td>\n",
       "      <td>False</td>\n",
       "      <td>True</td>\n",
       "      <td>False</td>\n",
       "      <td>False</td>\n",
       "      <td>False</td>\n",
       "      <td>False</td>\n",
       "    </tr>\n",
       "  </tbody>\n",
       "</table>\n",
       "</div>"
      ],
      "text/plain": [
       "   YearsExperience Education Level              Job Role     Salary  \\\n",
       "0            14.98             PhD  Marketing Specialist   77861.24   \n",
       "1            38.03             PhD     Software Engineer  166880.38   \n",
       "2            29.28      Bachelor's      Business Analyst  123573.27   \n",
       "3            23.95        Master's  Marketing Specialist   90155.08   \n",
       "4             6.24        Master's      Business Analyst   55931.41   \n",
       "\n",
       "   YearsExperience     Salary  Education Level_Associate Degree  \\\n",
       "0            14.98   77861.24                             False   \n",
       "1            38.03  166880.38                             False   \n",
       "2            29.28  123573.27                             False   \n",
       "3            23.95   90155.08                             False   \n",
       "4             6.24   55931.41                             False   \n",
       "\n",
       "   Education Level_Bachelor's  Education Level_High School  \\\n",
       "0                       False                        False   \n",
       "1                       False                        False   \n",
       "2                        True                        False   \n",
       "3                       False                        False   \n",
       "4                       False                        False   \n",
       "\n",
       "   Education Level_Master's  Education Level_PhD  Job Role_Business Analyst  \\\n",
       "0                     False                 True                      False   \n",
       "1                     False                 True                      False   \n",
       "2                     False                False                       True   \n",
       "3                      True                False                      False   \n",
       "4                      True                False                       True   \n",
       "\n",
       "   Job Role_Data Scientist  Job Role_Marketing Specialist  \\\n",
       "0                    False                           True   \n",
       "1                    False                          False   \n",
       "2                    False                          False   \n",
       "3                    False                           True   \n",
       "4                    False                          False   \n",
       "\n",
       "   Job Role_Product Manager  Job Role_Software Engineer  \n",
       "0                     False                       False  \n",
       "1                     False                        True  \n",
       "2                     False                       False  \n",
       "3                     False                       False  \n",
       "4                     False                       False  "
      ]
     },
     "execution_count": 73,
     "metadata": {},
     "output_type": "execute_result"
    }
   ],
   "source": [
    "import pandas as pd\n",
    "import numpy as np\n",
    "from sklearn.preprocessing import StandardScaler\n",
    "\n",
    "data = pd.read_csv('salary_prediction_updated_dataset.csv')\n",
    "\n",
    "cat_features = [feature for feature in data.columns if data[feature].dtype == 'O']\n",
    "\n",
    "data1 = pd.get_dummies(data, columns=cat_features)\n",
    "\n",
    "scaled_data = pd.concat([data, data1], axis=1)\n",
    "\n",
    "print(scaled_data.shape)\n",
    "print()\n",
    "print('*' * 70)\n",
    "\n",
    "scaled_data.head()\n"
   ]
  },
  {
   "cell_type": "code",
   "execution_count": 75,
   "id": "5a201a81",
   "metadata": {},
   "outputs": [
    {
     "data": {
      "text/plain": [
       "Index(['YearsExperience', 'Education Level', 'Job Role', 'Salary'], dtype='object')"
      ]
     },
     "execution_count": 75,
     "metadata": {},
     "output_type": "execute_result"
    }
   ],
   "source": [
    "data.columns"
   ]
  },
  {
   "cell_type": "code",
   "execution_count": 77,
   "id": "9e6b4124",
   "metadata": {},
   "outputs": [
    {
     "data": {
      "text/plain": [
       "Index(['YearsExperience', 'Education Level', 'Job Role', 'Salary',\n",
       "       'YearsExperience', 'Salary', 'Education Level_Associate Degree',\n",
       "       'Education Level_Bachelor's', 'Education Level_High School',\n",
       "       'Education Level_Master's', 'Education Level_PhD',\n",
       "       'Job Role_Business Analyst', 'Job Role_Data Scientist',\n",
       "       'Job Role_Marketing Specialist', 'Job Role_Product Manager',\n",
       "       'Job Role_Software Engineer'],\n",
       "      dtype='object')"
      ]
     },
     "execution_count": 77,
     "metadata": {},
     "output_type": "execute_result"
    }
   ],
   "source": [
    "scaled_data.columns"
   ]
  },
  {
   "cell_type": "code",
   "execution_count": 79,
   "id": "caaa0577",
   "metadata": {},
   "outputs": [
    {
     "data": {
      "text/html": [
       "<div>\n",
       "<style scoped>\n",
       "    .dataframe tbody tr th:only-of-type {\n",
       "        vertical-align: middle;\n",
       "    }\n",
       "\n",
       "    .dataframe tbody tr th {\n",
       "        vertical-align: top;\n",
       "    }\n",
       "\n",
       "    .dataframe thead th {\n",
       "        text-align: right;\n",
       "    }\n",
       "</style>\n",
       "<table border=\"1\" class=\"dataframe\">\n",
       "  <thead>\n",
       "    <tr style=\"text-align: right;\">\n",
       "      <th></th>\n",
       "      <th>YearsExperience</th>\n",
       "      <th>Salary</th>\n",
       "      <th>Education Level_Associate Degree</th>\n",
       "      <th>Education Level_Bachelor's</th>\n",
       "      <th>Education Level_High School</th>\n",
       "      <th>Education Level_Master's</th>\n",
       "      <th>Education Level_PhD</th>\n",
       "      <th>Job Role_Business Analyst</th>\n",
       "      <th>Job Role_Data Scientist</th>\n",
       "      <th>Job Role_Marketing Specialist</th>\n",
       "      <th>Job Role_Product Manager</th>\n",
       "      <th>Job Role_Software Engineer</th>\n",
       "    </tr>\n",
       "  </thead>\n",
       "  <tbody>\n",
       "    <tr>\n",
       "      <th>0</th>\n",
       "      <td>14.98</td>\n",
       "      <td>77861.24</td>\n",
       "      <td>False</td>\n",
       "      <td>False</td>\n",
       "      <td>False</td>\n",
       "      <td>False</td>\n",
       "      <td>True</td>\n",
       "      <td>False</td>\n",
       "      <td>False</td>\n",
       "      <td>True</td>\n",
       "      <td>False</td>\n",
       "      <td>False</td>\n",
       "    </tr>\n",
       "    <tr>\n",
       "      <th>1</th>\n",
       "      <td>38.03</td>\n",
       "      <td>166880.38</td>\n",
       "      <td>False</td>\n",
       "      <td>False</td>\n",
       "      <td>False</td>\n",
       "      <td>False</td>\n",
       "      <td>True</td>\n",
       "      <td>False</td>\n",
       "      <td>False</td>\n",
       "      <td>False</td>\n",
       "      <td>False</td>\n",
       "      <td>True</td>\n",
       "    </tr>\n",
       "    <tr>\n",
       "      <th>2</th>\n",
       "      <td>29.28</td>\n",
       "      <td>123573.27</td>\n",
       "      <td>False</td>\n",
       "      <td>True</td>\n",
       "      <td>False</td>\n",
       "      <td>False</td>\n",
       "      <td>False</td>\n",
       "      <td>True</td>\n",
       "      <td>False</td>\n",
       "      <td>False</td>\n",
       "      <td>False</td>\n",
       "      <td>False</td>\n",
       "    </tr>\n",
       "    <tr>\n",
       "      <th>3</th>\n",
       "      <td>23.95</td>\n",
       "      <td>90155.08</td>\n",
       "      <td>False</td>\n",
       "      <td>False</td>\n",
       "      <td>False</td>\n",
       "      <td>True</td>\n",
       "      <td>False</td>\n",
       "      <td>False</td>\n",
       "      <td>False</td>\n",
       "      <td>True</td>\n",
       "      <td>False</td>\n",
       "      <td>False</td>\n",
       "    </tr>\n",
       "    <tr>\n",
       "      <th>4</th>\n",
       "      <td>6.24</td>\n",
       "      <td>55931.41</td>\n",
       "      <td>False</td>\n",
       "      <td>False</td>\n",
       "      <td>False</td>\n",
       "      <td>True</td>\n",
       "      <td>False</td>\n",
       "      <td>True</td>\n",
       "      <td>False</td>\n",
       "      <td>False</td>\n",
       "      <td>False</td>\n",
       "      <td>False</td>\n",
       "    </tr>\n",
       "  </tbody>\n",
       "</table>\n",
       "</div>"
      ],
      "text/plain": [
       "   YearsExperience     Salary  Education Level_Associate Degree  \\\n",
       "0            14.98   77861.24                             False   \n",
       "1            38.03  166880.38                             False   \n",
       "2            29.28  123573.27                             False   \n",
       "3            23.95   90155.08                             False   \n",
       "4             6.24   55931.41                             False   \n",
       "\n",
       "   Education Level_Bachelor's  Education Level_High School  \\\n",
       "0                       False                        False   \n",
       "1                       False                        False   \n",
       "2                        True                        False   \n",
       "3                       False                        False   \n",
       "4                       False                        False   \n",
       "\n",
       "   Education Level_Master's  Education Level_PhD  Job Role_Business Analyst  \\\n",
       "0                     False                 True                      False   \n",
       "1                     False                 True                      False   \n",
       "2                     False                False                       True   \n",
       "3                      True                False                      False   \n",
       "4                      True                False                       True   \n",
       "\n",
       "   Job Role_Data Scientist  Job Role_Marketing Specialist  \\\n",
       "0                    False                           True   \n",
       "1                    False                          False   \n",
       "2                    False                          False   \n",
       "3                    False                           True   \n",
       "4                    False                          False   \n",
       "\n",
       "   Job Role_Product Manager  Job Role_Software Engineer  \n",
       "0                     False                       False  \n",
       "1                     False                        True  \n",
       "2                     False                       False  \n",
       "3                     False                       False  \n",
       "4                     False                       False  "
      ]
     },
     "execution_count": 79,
     "metadata": {},
     "output_type": "execute_result"
    }
   ],
   "source": [
    "data1.head()"
   ]
  },
  {
   "cell_type": "code",
   "execution_count": null,
   "id": "9adce898",
   "metadata": {},
   "outputs": [],
   "source": []
  },
  {
   "cell_type": "markdown",
   "id": "0459c8b6",
   "metadata": {},
   "source": [
    "# 6: Data Reduction"
   ]
  },
  {
   "cell_type": "markdown",
   "id": "2033aecc",
   "metadata": {},
   "source": [
    "Dimensionality Reduction\n",
    "-\n",
    "PCA (Principal Component Analysis)"
   ]
  },
  {
   "cell_type": "code",
   "execution_count": 81,
   "id": "28939288",
   "metadata": {},
   "outputs": [
    {
     "data": {
      "text/plain": [
       "(100000, 16)"
      ]
     },
     "execution_count": 81,
     "metadata": {},
     "output_type": "execute_result"
    }
   ],
   "source": [
    "scaled_data.shape"
   ]
  },
  {
   "cell_type": "code",
   "execution_count": 83,
   "id": "f410c3ef",
   "metadata": {},
   "outputs": [
    {
     "name": "stdout",
     "output_type": "stream",
     "text": [
      "(100000, 4)\n",
      "[[-0.62760212 -0.72092997 -0.44790936 -0.03630975]\n",
      " [ 2.38869479 -0.4695993  -0.21513587 -0.87997212]\n",
      " [ 1.07647524 -0.16778091  0.3504164  -0.38257565]\n",
      " [ 0.14226055 -0.52590976  0.15651469  0.94828107]\n",
      " [-1.5477562  -0.15626112 -0.29266001  0.42086626]]\n"
     ]
    },
    {
     "data": {
      "image/png": "[encoded data removed]",
      "text/plain": [
       "<Figure size 1400x600 with 2 Axes>"
      ]
     },
     "metadata": {},
     "output_type": "display_data"
    }
   ],
   "source": [
    "import pandas as pd\n",
    "import numpy as np\n",
    "from sklearn.preprocessing import StandardScaler\n",
    "from sklearn.decomposition import PCA\n",
    "\n",
    "data = pd.read_csv('salary_prediction_updated_dataset.csv')\n",
    "\n",
    "data.fillna(data.mean(numeric_only=True), inplace=True)\n",
    "\n",
    "cat_features = [feature for feature in data.columns if data[feature].dtype == 'O']\n",
    "numeric_features = [feature for feature in data.columns if data[feature].dtype != 'O']\n",
    "\n",
    "data = pd.get_dummies(data, columns=cat_features)\n",
    "\n",
    "scaler = StandardScaler()\n",
    "data[numeric_features] = scaler.fit_transform(data[numeric_features].values)\n",
    "\n",
    "pca = PCA(n_components=4)\n",
    "data_pca = pca.fit_transform(data)\n",
    "\n",
    "print(data_pca.shape)\n",
    "print(data_pca[:5])  \n",
    "\n",
    "plt.figure(figsize=(14, 6))\n",
    "\n",
    "plt.subplot(1, 2, 1)\n",
    "plt.scatter(data[numeric_features[0]], data[numeric_features[1]], alpha=0.5)\n",
    "plt.title('Original Data')\n",
    "plt.xlabel(numeric_features[0])\n",
    "plt.ylabel(numeric_features[1])\n",
    "\n",
    "pca = PCA(n_components=4) \n",
    "data_pca = pca.fit_transform(data)\n",
    "\n",
    "plt.subplot(1, 2, 2)\n",
    "plt.scatter(data_pca[:, 0], data_pca[:, 1], alpha=0.5)\n",
    "plt.title('PCA Transformed Data')\n",
    "plt.xlabel('Principal Component 1')\n",
    "plt.ylabel('Principal Component 2')\n",
    "\n",
    "plt.tight_layout()\n",
    "plt.show()\n"
   ]
  },
  {
   "cell_type": "code",
   "execution_count": 91,
   "id": "1a950e25",
   "metadata": {},
   "outputs": [
    {
     "data": {
      "text/plain": [
       "numpy.ndarray"
      ]
     },
     "execution_count": 91,
     "metadata": {},
     "output_type": "execute_result"
    }
   ],
   "source": [
    "type(data_pca)"
   ]
  },
  {
   "cell_type": "code",
   "execution_count": 93,
   "id": "d29ec719",
   "metadata": {},
   "outputs": [
    {
     "data": {
      "text/plain": [
       "2"
      ]
     },
     "execution_count": 93,
     "metadata": {},
     "output_type": "execute_result"
    }
   ],
   "source": [
    "data_pca.ndim"
   ]
  },
  {
   "cell_type": "code",
   "execution_count": 95,
   "id": "2c39127d",
   "metadata": {},
   "outputs": [
    {
     "data": {
      "text/plain": [
       "(100000, 4)"
      ]
     },
     "execution_count": 95,
     "metadata": {},
     "output_type": "execute_result"
    }
   ],
   "source": [
    "data_pca.shape"
   ]
  },
  {
   "cell_type": "code",
   "execution_count": null,
   "id": "cd8399d8",
   "metadata": {},
   "outputs": [],
   "source": []
  },
  {
   "cell_type": "markdown",
   "id": "15ae00ff",
   "metadata": {},
   "source": [
    "# 7: Handling Imbalanced Data\n",
    "    \n",
    "- Resampling Techniques\n",
    "- Oversampling"
   ]
  },
  {
   "cell_type": "code",
   "execution_count": 99,
   "id": "8f91daa6",
   "metadata": {},
   "outputs": [
    {
     "name": "stdout",
     "output_type": "stream",
     "text": [
      "(100000, 11) (100000,)\n"
     ]
    },
    {
     "data": {
      "text/html": [
       "<div>\n",
       "<style scoped>\n",
       "    .dataframe tbody tr th:only-of-type {\n",
       "        vertical-align: middle;\n",
       "    }\n",
       "\n",
       "    .dataframe tbody tr th {\n",
       "        vertical-align: top;\n",
       "    }\n",
       "\n",
       "    .dataframe thead th {\n",
       "        text-align: right;\n",
       "    }\n",
       "</style>\n",
       "<table border=\"1\" class=\"dataframe\">\n",
       "  <thead>\n",
       "    <tr style=\"text-align: right;\">\n",
       "      <th></th>\n",
       "      <th>YearsExperience</th>\n",
       "      <th>Salary</th>\n",
       "      <th>Education Level_Associate Degree</th>\n",
       "      <th>Education Level_Bachelor's</th>\n",
       "      <th>Education Level_High School</th>\n",
       "      <th>Education Level_Master's</th>\n",
       "      <th>Job Role_Business Analyst</th>\n",
       "      <th>Job Role_Data Scientist</th>\n",
       "      <th>Job Role_Marketing Specialist</th>\n",
       "      <th>Job Role_Product Manager</th>\n",
       "      <th>Job Role_Software Engineer</th>\n",
       "      <th>Education Level_PhD</th>\n",
       "    </tr>\n",
       "  </thead>\n",
       "  <tbody>\n",
       "    <tr>\n",
       "      <th>0</th>\n",
       "      <td>-0.433476</td>\n",
       "      <td>-0.438575</td>\n",
       "      <td>False</td>\n",
       "      <td>False</td>\n",
       "      <td>False</td>\n",
       "      <td>False</td>\n",
       "      <td>False</td>\n",
       "      <td>False</td>\n",
       "      <td>True</td>\n",
       "      <td>False</td>\n",
       "      <td>False</td>\n",
       "      <td>True</td>\n",
       "    </tr>\n",
       "    <tr>\n",
       "      <th>1</th>\n",
       "      <td>1.565036</td>\n",
       "      <td>1.818091</td>\n",
       "      <td>False</td>\n",
       "      <td>False</td>\n",
       "      <td>False</td>\n",
       "      <td>False</td>\n",
       "      <td>False</td>\n",
       "      <td>False</td>\n",
       "      <td>False</td>\n",
       "      <td>False</td>\n",
       "      <td>True</td>\n",
       "      <td>True</td>\n",
       "    </tr>\n",
       "    <tr>\n",
       "      <th>2</th>\n",
       "      <td>0.806382</td>\n",
       "      <td>0.720241</td>\n",
       "      <td>False</td>\n",
       "      <td>True</td>\n",
       "      <td>False</td>\n",
       "      <td>False</td>\n",
       "      <td>True</td>\n",
       "      <td>False</td>\n",
       "      <td>False</td>\n",
       "      <td>False</td>\n",
       "      <td>False</td>\n",
       "      <td>False</td>\n",
       "    </tr>\n",
       "    <tr>\n",
       "      <th>3</th>\n",
       "      <td>0.344253</td>\n",
       "      <td>-0.126922</td>\n",
       "      <td>False</td>\n",
       "      <td>False</td>\n",
       "      <td>False</td>\n",
       "      <td>True</td>\n",
       "      <td>False</td>\n",
       "      <td>False</td>\n",
       "      <td>True</td>\n",
       "      <td>False</td>\n",
       "      <td>False</td>\n",
       "      <td>False</td>\n",
       "    </tr>\n",
       "    <tr>\n",
       "      <th>4</th>\n",
       "      <td>-1.191263</td>\n",
       "      <td>-0.994504</td>\n",
       "      <td>False</td>\n",
       "      <td>False</td>\n",
       "      <td>False</td>\n",
       "      <td>True</td>\n",
       "      <td>True</td>\n",
       "      <td>False</td>\n",
       "      <td>False</td>\n",
       "      <td>False</td>\n",
       "      <td>False</td>\n",
       "      <td>False</td>\n",
       "    </tr>\n",
       "  </tbody>\n",
       "</table>\n",
       "</div>"
      ],
      "text/plain": [
       "   YearsExperience    Salary  Education Level_Associate Degree  \\\n",
       "0        -0.433476 -0.438575                             False   \n",
       "1         1.565036  1.818091                             False   \n",
       "2         0.806382  0.720241                             False   \n",
       "3         0.344253 -0.126922                             False   \n",
       "4        -1.191263 -0.994504                             False   \n",
       "\n",
       "   Education Level_Bachelor's  Education Level_High School  \\\n",
       "0                       False                        False   \n",
       "1                       False                        False   \n",
       "2                        True                        False   \n",
       "3                       False                        False   \n",
       "4                       False                        False   \n",
       "\n",
       "   Education Level_Master's  Job Role_Business Analyst  \\\n",
       "0                     False                      False   \n",
       "1                     False                      False   \n",
       "2                     False                       True   \n",
       "3                      True                      False   \n",
       "4                      True                       True   \n",
       "\n",
       "   Job Role_Data Scientist  Job Role_Marketing Specialist  \\\n",
       "0                    False                           True   \n",
       "1                    False                          False   \n",
       "2                    False                          False   \n",
       "3                    False                           True   \n",
       "4                    False                          False   \n",
       "\n",
       "   Job Role_Product Manager  Job Role_Software Engineer  Education Level_PhD  \n",
       "0                     False                       False                 True  \n",
       "1                     False                        True                 True  \n",
       "2                     False                       False                False  \n",
       "3                     False                       False                False  \n",
       "4                     False                       False                False  "
      ]
     },
     "execution_count": 99,
     "metadata": {},
     "output_type": "execute_result"
    }
   ],
   "source": [
    "import pandas as pd\n",
    "import numpy as np\n",
    "from sklearn.preprocessing import StandardScaler, LabelEncoder\n",
    "from sklearn.decomposition import PCA\n",
    "from imblearn.over_sampling import SMOTE\n",
    "import matplotlib.pyplot as plt\n",
    "\n",
    "data = pd.read_csv('salary_prediction_updated_dataset.csv')\n",
    "\n",
    "data.fillna(data.mean(numeric_only=True), inplace=True)\n",
    "\n",
    "cat_features = [feature for feature in data.columns if data[feature].dtype == 'O']\n",
    "numeric_features = [feature for feature in data.columns if data[feature].dtype != 'O']\n",
    "\n",
    "data = pd.get_dummies(data, columns=cat_features)\n",
    "\n",
    "scaler = StandardScaler()\n",
    "data[numeric_features] = scaler.fit_transform(data[numeric_features].values)\n",
    "\n",
    "if data['Education Level_PhD'].dtype != 'int64' and data['Education Level_PhD'].dtype != 'bool':\n",
    "    \n",
    "    data['Education Level_PhD'] = (data['Education Level_PhD'] > 0.5).astype(int)\n",
    "\n",
    "X = data.drop(columns=['Education Level_PhD'])  \n",
    "y = data['Education Level_PhD']\n",
    "\n",
    "if y.dtype == 'O':\n",
    "    le = LabelEncoder()\n",
    "    y = le.fit_transform(y)\n",
    "\n",
    "print(X.shape, y.shape)\n",
    "\n",
    "smote = SMOTE(random_state=42)\n",
    "X_resampled, y_resampled = smote.fit_resample(X, y)\n",
    "\n",
    "data_resampled = pd.concat([pd.DataFrame(X_resampled, columns=X.columns), pd.DataFrame(y_resampled, columns=['Education Level_PhD'])], axis=1)\n",
    "data_resampled.head()"
   ]
  },
  {
   "cell_type": "code",
   "execution_count": 101,
   "id": "fd826710",
   "metadata": {},
   "outputs": [
    {
     "data": {
      "text/plain": [
       "Education Level_PhD\n",
       "True     0.5\n",
       "False    0.5\n",
       "Name: proportion, dtype: float64"
      ]
     },
     "execution_count": 101,
     "metadata": {},
     "output_type": "execute_result"
    }
   ],
   "source": [
    "data_resampled['Education Level_PhD'].value_counts(True)"
   ]
  },
  {
   "cell_type": "code",
   "execution_count": 103,
   "id": "278ea245",
   "metadata": {},
   "outputs": [
    {
     "data": {
      "text/plain": [
       "(159536, 12)"
      ]
     },
     "execution_count": 103,
     "metadata": {},
     "output_type": "execute_result"
    }
   ],
   "source": [
    "data_resampled.shape"
   ]
  },
  {
   "cell_type": "markdown",
   "id": "cde927f5",
   "metadata": {},
   "source": [
    "Undersampling\n",
    "-"
   ]
  },
  {
   "cell_type": "code",
   "execution_count": 105,
   "id": "4da2ed87",
   "metadata": {},
   "outputs": [
    {
     "name": "stdout",
     "output_type": "stream",
     "text": [
      "(100000, 11) (100000,)\n"
     ]
    },
    {
     "data": {
      "text/html": [
       "<div>\n",
       "<style scoped>\n",
       "    .dataframe tbody tr th:only-of-type {\n",
       "        vertical-align: middle;\n",
       "    }\n",
       "\n",
       "    .dataframe tbody tr th {\n",
       "        vertical-align: top;\n",
       "    }\n",
       "\n",
       "    .dataframe thead th {\n",
       "        text-align: right;\n",
       "    }\n",
       "</style>\n",
       "<table border=\"1\" class=\"dataframe\">\n",
       "  <thead>\n",
       "    <tr style=\"text-align: right;\">\n",
       "      <th></th>\n",
       "      <th>YearsExperience</th>\n",
       "      <th>Salary</th>\n",
       "      <th>Education Level_Associate Degree</th>\n",
       "      <th>Education Level_Bachelor's</th>\n",
       "      <th>Education Level_High School</th>\n",
       "      <th>Education Level_Master's</th>\n",
       "      <th>Job Role_Business Analyst</th>\n",
       "      <th>Job Role_Data Scientist</th>\n",
       "      <th>Job Role_Marketing Specialist</th>\n",
       "      <th>Job Role_Product Manager</th>\n",
       "      <th>Job Role_Software Engineer</th>\n",
       "      <th>Education Level_PhD</th>\n",
       "    </tr>\n",
       "  </thead>\n",
       "  <tbody>\n",
       "    <tr>\n",
       "      <th>70520</th>\n",
       "      <td>-0.691852</td>\n",
       "      <td>-0.722673</td>\n",
       "      <td>False</td>\n",
       "      <td>True</td>\n",
       "      <td>False</td>\n",
       "      <td>False</td>\n",
       "      <td>False</td>\n",
       "      <td>False</td>\n",
       "      <td>False</td>\n",
       "      <td>False</td>\n",
       "      <td>True</td>\n",
       "      <td>False</td>\n",
       "    </tr>\n",
       "    <tr>\n",
       "      <th>3903</th>\n",
       "      <td>-0.860923</td>\n",
       "      <td>-0.905163</td>\n",
       "      <td>False</td>\n",
       "      <td>False</td>\n",
       "      <td>True</td>\n",
       "      <td>False</td>\n",
       "      <td>False</td>\n",
       "      <td>False</td>\n",
       "      <td>False</td>\n",
       "      <td>False</td>\n",
       "      <td>True</td>\n",
       "      <td>False</td>\n",
       "    </tr>\n",
       "    <tr>\n",
       "      <th>4795</th>\n",
       "      <td>-0.620755</td>\n",
       "      <td>-0.741904</td>\n",
       "      <td>False</td>\n",
       "      <td>False</td>\n",
       "      <td>True</td>\n",
       "      <td>False</td>\n",
       "      <td>False</td>\n",
       "      <td>False</td>\n",
       "      <td>False</td>\n",
       "      <td>False</td>\n",
       "      <td>True</td>\n",
       "      <td>False</td>\n",
       "    </tr>\n",
       "    <tr>\n",
       "      <th>68683</th>\n",
       "      <td>-0.611218</td>\n",
       "      <td>-0.786463</td>\n",
       "      <td>True</td>\n",
       "      <td>False</td>\n",
       "      <td>False</td>\n",
       "      <td>False</td>\n",
       "      <td>False</td>\n",
       "      <td>False</td>\n",
       "      <td>False</td>\n",
       "      <td>False</td>\n",
       "      <td>True</td>\n",
       "      <td>False</td>\n",
       "    </tr>\n",
       "    <tr>\n",
       "      <th>26510</th>\n",
       "      <td>-1.637785</td>\n",
       "      <td>-1.629512</td>\n",
       "      <td>False</td>\n",
       "      <td>False</td>\n",
       "      <td>False</td>\n",
       "      <td>True</td>\n",
       "      <td>False</td>\n",
       "      <td>True</td>\n",
       "      <td>False</td>\n",
       "      <td>False</td>\n",
       "      <td>False</td>\n",
       "      <td>False</td>\n",
       "    </tr>\n",
       "  </tbody>\n",
       "</table>\n",
       "</div>"
      ],
      "text/plain": [
       "       YearsExperience    Salary  Education Level_Associate Degree  \\\n",
       "70520        -0.691852 -0.722673                             False   \n",
       "3903         -0.860923 -0.905163                             False   \n",
       "4795         -0.620755 -0.741904                             False   \n",
       "68683        -0.611218 -0.786463                              True   \n",
       "26510        -1.637785 -1.629512                             False   \n",
       "\n",
       "       Education Level_Bachelor's  Education Level_High School  \\\n",
       "70520                        True                        False   \n",
       "3903                        False                         True   \n",
       "4795                        False                         True   \n",
       "68683                       False                        False   \n",
       "26510                       False                        False   \n",
       "\n",
       "       Education Level_Master's  Job Role_Business Analyst  \\\n",
       "70520                     False                      False   \n",
       "3903                      False                      False   \n",
       "4795                      False                      False   \n",
       "68683                     False                      False   \n",
       "26510                      True                      False   \n",
       "\n",
       "       Job Role_Data Scientist  Job Role_Marketing Specialist  \\\n",
       "70520                    False                          False   \n",
       "3903                     False                          False   \n",
       "4795                     False                          False   \n",
       "68683                    False                          False   \n",
       "26510                     True                          False   \n",
       "\n",
       "       Job Role_Product Manager  Job Role_Software Engineer  \\\n",
       "70520                     False                        True   \n",
       "3903                      False                        True   \n",
       "4795                      False                        True   \n",
       "68683                     False                        True   \n",
       "26510                     False                       False   \n",
       "\n",
       "       Education Level_PhD  \n",
       "70520                False  \n",
       "3903                 False  \n",
       "4795                 False  \n",
       "68683                False  \n",
       "26510                False  "
      ]
     },
     "execution_count": 105,
     "metadata": {},
     "output_type": "execute_result"
    }
   ],
   "source": [
    "import pandas as pd\n",
    "import numpy as np\n",
    "from sklearn.preprocessing import StandardScaler, LabelEncoder\n",
    "from sklearn.decomposition import PCA\n",
    "from imblearn.over_sampling import SMOTE\n",
    "import matplotlib.pyplot as plt\n",
    "data = pd.read_csv('salary_prediction_updated_dataset.csv')\n",
    "\n",
    "data.fillna(data.mean(numeric_only=True), inplace=True)\n",
    "\n",
    "cat_features = [feature for feature in data.columns if data[feature].dtype == 'O']\n",
    "numeric_features = [feature for feature in data.columns if data[feature].dtype != 'O']\n",
    "\n",
    "data = pd.get_dummies(data, columns=cat_features)\n",
    "\n",
    "scaler = StandardScaler()\n",
    "data[numeric_features] = scaler.fit_transform(data[numeric_features].values)\n",
    "\n",
    "if data['Education Level_PhD'].dtype != 'int64' and data['Education Level_PhD'].dtype != 'bool':\n",
    "\n",
    "    data['Education Level_PhD'] = (data['Education Level_PhD'] > 0.5).astype(int)\n",
    "\n",
    "X = data.drop(columns=['Education Level_PhD'])  \n",
    "y = data['Education Level_PhD']  \n",
    "\n",
    "if y.dtype == 'O':\n",
    "    le = LabelEncoder()\n",
    "    y = le.fit_transform(y)\n",
    "\n",
    "print(X.shape, y.shape)\n",
    "\n",
    "from imblearn.under_sampling import RandomUnderSampler\n",
    "\n",
    "rus = RandomUnderSampler()\n",
    "X_resampled, y_resampled = rus.fit_resample(X, y)\n",
    "\n",
    "data_resampled = pd.concat([pd.DataFrame(X_resampled, columns=X.columns), pd.DataFrame(y_resampled, columns=['Education Level_PhD'])], axis=1)\n",
    "data_resampled.head()\n"
   ]
  },
  {
   "cell_type": "code",
   "execution_count": 107,
   "id": "3ab196c3",
   "metadata": {},
   "outputs": [
    {
     "data": {
      "text/plain": [
       "Education Level_PhD\n",
       "False    20232\n",
       "True     20232\n",
       "Name: count, dtype: int64"
      ]
     },
     "execution_count": 107,
     "metadata": {},
     "output_type": "execute_result"
    }
   ],
   "source": [
    "data_resampled['Education Level_PhD'].value_counts()"
   ]
  },
  {
   "cell_type": "code",
   "execution_count": 109,
   "id": "0005e548",
   "metadata": {},
   "outputs": [
    {
     "data": {
      "text/plain": [
       "(40464, 12)"
      ]
     },
     "execution_count": 109,
     "metadata": {},
     "output_type": "execute_result"
    }
   ],
   "source": [
    "data_resampled.shape"
   ]
  },
  {
   "cell_type": "markdown",
   "id": "b5548745",
   "metadata": {},
   "source": [
    "# Target Encoder"
   ]
  },
  {
   "cell_type": "code",
   "execution_count": 113,
   "id": "0e41f051",
   "metadata": {},
   "outputs": [
    {
     "name": "stdout",
     "output_type": "stream",
     "text": [
      "   YearsExperience     Salary  Education Level_target_enc  Job Role_target_enc\n",
      "0            14.98   77861.24                95309.356020         89209.911800\n",
      "1            38.03  166880.38                95309.356020         93381.410850\n",
      "2            29.28  123573.27                95257.624070         93558.377676\n",
      "3            23.95   90155.08                95289.337836         89209.911800\n",
      "4             6.24   55931.41                95289.337836         93558.377676\n"
     ]
    }
   ],
   "source": [
    "import pandas as pd\n",
    "\n",
    "df = pd.read_csv('salary_prediction_updated_dataset.csv')\n",
    "\n",
    "target = 'Salary'  \n",
    "categorical_cols = df.select_dtypes(include=['object']).columns  \n",
    "\n",
    "for col in categorical_cols:\n",
    "    target_mean = df.groupby(col)[target].mean()\n",
    "    df[col + '_target_enc'] = df[col].map(target_mean)\n",
    "\n",
    "df = df.drop(columns=categorical_cols)\n",
    "\n",
    "print(df.head())\n"
   ]
  },
  {
   "cell_type": "code",
   "execution_count": null,
   "id": "fac7a308",
   "metadata": {},
   "outputs": [],
   "source": []
  },
  {
   "cell_type": "markdown",
   "id": "e2a52746",
   "metadata": {},
   "source": [
    "# 8: Splitting Data"
   ]
  },
  {
   "cell_type": "code",
   "execution_count": 117,
   "id": "9f7fabea",
   "metadata": {},
   "outputs": [
    {
     "name": "stdout",
     "output_type": "stream",
     "text": [
      "Index(['YearsExperience', 'Education Level', 'Job Role', 'Salary'], dtype='object')\n"
     ]
    }
   ],
   "source": [
    "from sklearn.model_selection import train_test_split\n",
    "import pandas as pd\n",
    "\n",
    "data = pd.read_csv('salary_prediction_updated_dataset.csv')\n",
    "\n",
    "print(data.columns)\n",
    " \n",
    "X = data.drop('Education Level', axis=1)\n",
    "y = data['Education Level']\n",
    "\n",
    "X_train, X_test, y_train, y_test = train_test_split(X, y, test_size=0.3, random_state=42)\n"
   ]
  },
  {
   "cell_type": "code",
   "execution_count": 119,
   "id": "aaf79742",
   "metadata": {},
   "outputs": [
    {
     "data": {
      "text/plain": [
       "((70000, 3), (30000, 3), (70000,), (30000,))"
      ]
     },
     "execution_count": 119,
     "metadata": {},
     "output_type": "execute_result"
    }
   ],
   "source": [
    "X_train.shape, X_test.shape, y_train.shape, y_test.shape"
   ]
  },
  {
   "cell_type": "markdown",
   "id": "a2947455-b3aa-4b04-beb6-2ff71344c391",
   "metadata": {},
   "source": [
    "# 9: Regression"
   ]
  },
  {
   "cell_type": "code",
   "execution_count": 4,
   "id": "89e63994-25cb-4323-ad34-c5d3f678e659",
   "metadata": {},
   "outputs": [
    {
     "name": "stdout",
     "output_type": "stream",
     "text": [
      "📊 Linear Regression Evaluation:\n",
      "Mean Squared Error: 0.10\n",
      "R² Score: 0.38\n",
      "\n",
      "🔍 Feature Coefficients:\n",
      "                         Feature   Coefficient\n",
      "0                YearsExperience  7.358763e-05\n",
      "1                         Salary  1.180441e-08\n",
      "2     Education Level_Bachelor's -5.054145e-01\n",
      "3    Education Level_High School -5.053996e-01\n",
      "4       Education Level_Master's -5.054127e-01\n",
      "5        Job Role_Data Scientist -3.219762e-03\n",
      "6  Job Role_Marketing Specialist -3.482766e-04\n",
      "7       Job Role_Product Manager -8.981903e-04\n",
      "8     Job Role_Software Engineer -1.335339e-03\n"
     ]
    }
   ],
   "source": [
    "import pandas as pd\n",
    "from sklearn.linear_model import LinearRegression\n",
    "from sklearn.model_selection import train_test_split\n",
    "from sklearn.metrics import mean_squared_error, r2_score\n",
    "\n",
    "data = pd.read_csv('salary_prediction_updated_dataset.csv')\n",
    "\n",
    "data_encoded = pd.get_dummies(data, drop_first=True)\n",
    "\n",
    "X = data_encoded.drop('Education Level_PhD', axis=1)\n",
    "y = data_encoded['Education Level_PhD']\n",
    "\n",
    "X_train, X_test, y_train, y_test = train_test_split(X, y, test_size=0.2, random_state=42)\n",
    "\n",
    "lr_model = LinearRegression()\n",
    "lr_model.fit(X_train, y_train)\n",
    "\n",
    "y_pred = lr_model.predict(X_test)\n",
    "\n",
    "mse = mean_squared_error(y_test, y_pred)\n",
    "r2 = r2_score(y_test, y_pred)\n",
    "\n",
    "print(\"📊 Linear Regression Evaluation:\")\n",
    "print(f\"Mean Squared Error: {mse:.2f}\")\n",
    "print(f\"R² Score: {r2:.2f}\")\n",
    "\n",
    "coeff_df = pd.DataFrame({'Feature': X.columns, 'Coefficient': lr_model.coef_})\n",
    "print(\"\\n🔍 Feature Coefficients:\")\n",
    "print(coeff_df)"
   ]
  },
  {
   "cell_type": "markdown",
   "id": "7e3d18d9-02a0-4709-a424-dd9dc4bb5ef3",
   "metadata": {},
   "source": [
    "# 10:Prediction"
   ]
  },
  {
   "cell_type": "code",
   "execution_count": 7,
   "id": "79c58285-3a11-4daa-8061-ec9e0d804991",
   "metadata": {},
   "outputs": [
    {
     "name": "stdout",
     "output_type": "stream",
     "text": [
      "🎯 Predicted Probability of PhD Education Level: 0.50\n"
     ]
    }
   ],
   "source": [
    "import pandas as pd\n",
    "from sklearn.model_selection import train_test_split\n",
    "from sklearn.linear_model import LinearRegression\n",
    "\n",
    "data = pd.read_csv(\"salary_prediction_updated_dataset.csv\")\n",
    "\n",
    "data_encoded = pd.get_dummies(data, drop_first=True)\n",
    "\n",
    "if 'Education Level_PhD' not in data_encoded.columns:\n",
    "    raise ValueError(\"Target column 'Education Level_PhD' does not exist after encoding.\")\n",
    "\n",
    "X = data_encoded.drop('Education Level_PhD', axis=1)\n",
    "y = data_encoded['Education Level_PhD']\n",
    "\n",
    "X_train, X_test, y_train, y_test = train_test_split(X, y, test_size=0.2, random_state=42)\n",
    "\n",
    "lr_model = LinearRegression()\n",
    "lr_model.fit(X_train, y_train)\n",
    "\n",
    "new_data = pd.DataFrame([{\n",
    "    'YearsExperience': 7,\n",
    "    'Salary': 60000,\n",
    "    'Job Role_Data Scientist': 1,\n",
    "    'Job Role_Product Manager': 0,\n",
    "    'Job Role_Software Engineer': 0,\n",
    "    'Education Level_High School': 0,\n",
    "\n",
    "}])\n",
    "\n",
    "for col in X.columns:\n",
    "    if col not in new_data.columns:\n",
    "        new_data[col] = 0\n",
    "\n",
    "new_data = new_data[X.columns]\n",
    "\n",
    "prediction = lr_model.predict(new_data)\n",
    "print(f\"🎯 Predicted Probability of PhD Education Level: {prediction[0]:.2f}\")"
   ]
  },
  {
   "cell_type": "code",
   "execution_count": null,
   "id": "f7da9cc6-166d-4dd4-a0a5-593b7e85d4c3",
   "metadata": {},
   "outputs": [],
   "source": []
  }
 ],
 "metadata": {
  "kernelspec": {
   "display_name": "Python [conda env:base] *",
   "language": "python",
   "name": "conda-base-py"
  },
  "language_info": {
   "codemirror_mode": {
    "name": "ipython",
    "version": 3
   },
   "file_extension": ".py",
   "mimetype": "text/x-python",
   "name": "python",
   "nbconvert_exporter": "python",
   "pygments_lexer": "ipython3",
   "version": "3.12.3"
  }
 },
 "nbformat": 4,
 "nbformat_minor": 5
}
