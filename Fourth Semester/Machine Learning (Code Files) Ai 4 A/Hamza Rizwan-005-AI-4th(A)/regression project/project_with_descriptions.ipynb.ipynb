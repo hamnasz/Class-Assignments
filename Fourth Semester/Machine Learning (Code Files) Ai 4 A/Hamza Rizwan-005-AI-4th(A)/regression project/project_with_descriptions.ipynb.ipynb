{
 "cells": [
  {
   "cell_type": "markdown",
   "id": "796834cc",
   "metadata": {},
   "source": [
    "### Importing necessary libraries\n",
    "This cell imports essential Python libraries for data manipulation, model building, and evaluation."
   ]
  },
  {
   "cell_type": "code",
   "execution_count": 3,
   "id": "ab75b0bf-c4da-4208-ac12-039af4e6c1e4",
   "metadata": {},
   "outputs": [],
   "source": [
    "import pandas as pd\n",
    "import numpy as np\n",
    "\n",
    "from sklearn.model_selection import train_test_split\n",
    "from sklearn.ensemble import RandomForestRegressor\n",
    "from sklearn.metrics import mean_squared_error, mean_absolute_error, r2_score\n"
   ]
  },
  {
   "cell_type": "markdown",
   "id": "1c168225",
   "metadata": {},
   "source": [
    "### Loading the dataset\n",
    "This cell reads the power consumption data from a CSV file and prints its shape."
   ]
  },
  {
   "cell_type": "code",
   "execution_count": 5,
   "id": "9327f4f5-bbb0-4592-a365-fdaff40a7483",
   "metadata": {},
   "outputs": [
    {
     "name": "stdout",
     "output_type": "stream",
     "text": [
      "Data Loaded. Shape: (260640, 10)\n"
     ]
    }
   ],
   "source": [
    "df = pd.read_csv('power_consumption.csv', low_memory=False)\n",
    "print(\"Data Loaded. Shape:\", df.shape)\n"
   ]
  },
  {
   "cell_type": "markdown",
   "id": "349b6417",
   "metadata": {},
   "source": [
    "### Displaying the first few rows\n",
    "This cell shows a preview of the dataset using the `head()` function."
   ]
  },
  {
   "cell_type": "code",
   "execution_count": 7,
   "id": "26a3b114-b83d-426f-bcd2-dad053cc74e8",
   "metadata": {},
   "outputs": [
    {
     "data": {
      "text/html": [
       "<div>\n",
       "<style scoped>\n",
       "    .dataframe tbody tr th:only-of-type {\n",
       "        vertical-align: middle;\n",
       "    }\n",
       "\n",
       "    .dataframe tbody tr th {\n",
       "        vertical-align: top;\n",
       "    }\n",
       "\n",
       "    .dataframe thead th {\n",
       "        text-align: right;\n",
       "    }\n",
       "</style>\n",
       "<table border=\"1\" class=\"dataframe\">\n",
       "  <thead>\n",
       "    <tr style=\"text-align: right;\">\n",
       "      <th></th>\n",
       "      <th>index</th>\n",
       "      <th>Date</th>\n",
       "      <th>Time</th>\n",
       "      <th>Global_active_power</th>\n",
       "      <th>Global_reactive_power</th>\n",
       "      <th>Voltage</th>\n",
       "      <th>Global_intensity</th>\n",
       "      <th>Sub_metering_1</th>\n",
       "      <th>Sub_metering_2</th>\n",
       "      <th>Sub_metering_3</th>\n",
       "    </tr>\n",
       "  </thead>\n",
       "  <tbody>\n",
       "    <tr>\n",
       "      <th>0</th>\n",
       "      <td>0</td>\n",
       "      <td>1/1/07</td>\n",
       "      <td>0:00:00</td>\n",
       "      <td>2.58</td>\n",
       "      <td>0.136</td>\n",
       "      <td>241.97</td>\n",
       "      <td>10.6</td>\n",
       "      <td>0</td>\n",
       "      <td>0</td>\n",
       "      <td>0.0</td>\n",
       "    </tr>\n",
       "    <tr>\n",
       "      <th>1</th>\n",
       "      <td>1</td>\n",
       "      <td>1/1/07</td>\n",
       "      <td>0:01:00</td>\n",
       "      <td>2.552</td>\n",
       "      <td>0.1</td>\n",
       "      <td>241.75</td>\n",
       "      <td>10.4</td>\n",
       "      <td>0</td>\n",
       "      <td>0</td>\n",
       "      <td>0.0</td>\n",
       "    </tr>\n",
       "    <tr>\n",
       "      <th>2</th>\n",
       "      <td>2</td>\n",
       "      <td>1/1/07</td>\n",
       "      <td>0:02:00</td>\n",
       "      <td>2.55</td>\n",
       "      <td>0.1</td>\n",
       "      <td>241.64</td>\n",
       "      <td>10.4</td>\n",
       "      <td>0</td>\n",
       "      <td>0</td>\n",
       "      <td>0.0</td>\n",
       "    </tr>\n",
       "    <tr>\n",
       "      <th>3</th>\n",
       "      <td>3</td>\n",
       "      <td>1/1/07</td>\n",
       "      <td>0:03:00</td>\n",
       "      <td>2.55</td>\n",
       "      <td>0.1</td>\n",
       "      <td>241.71</td>\n",
       "      <td>10.4</td>\n",
       "      <td>0</td>\n",
       "      <td>0</td>\n",
       "      <td>0.0</td>\n",
       "    </tr>\n",
       "    <tr>\n",
       "      <th>4</th>\n",
       "      <td>4</td>\n",
       "      <td>1/1/07</td>\n",
       "      <td>0:04:00</td>\n",
       "      <td>2.554</td>\n",
       "      <td>0.1</td>\n",
       "      <td>241.98</td>\n",
       "      <td>10.4</td>\n",
       "      <td>0</td>\n",
       "      <td>0</td>\n",
       "      <td>0.0</td>\n",
       "    </tr>\n",
       "  </tbody>\n",
       "</table>\n",
       "</div>"
      ],
      "text/plain": [
       "   index    Date     Time Global_active_power Global_reactive_power Voltage  \\\n",
       "0      0  1/1/07  0:00:00                2.58                 0.136  241.97   \n",
       "1      1  1/1/07  0:01:00               2.552                   0.1  241.75   \n",
       "2      2  1/1/07  0:02:00                2.55                   0.1  241.64   \n",
       "3      3  1/1/07  0:03:00                2.55                   0.1  241.71   \n",
       "4      4  1/1/07  0:04:00               2.554                   0.1  241.98   \n",
       "\n",
       "  Global_intensity Sub_metering_1 Sub_metering_2  Sub_metering_3  \n",
       "0             10.6              0              0             0.0  \n",
       "1             10.4              0              0             0.0  \n",
       "2             10.4              0              0             0.0  \n",
       "3             10.4              0              0             0.0  \n",
       "4             10.4              0              0             0.0  "
      ]
     },
     "execution_count": 7,
     "metadata": {},
     "output_type": "execute_result"
    }
   ],
   "source": [
    "df.head()"
   ]
  },
  {
   "cell_type": "markdown",
   "id": "cfd1a64f",
   "metadata": {},
   "source": [
    "### Show Last Few Rows\n",
    "Displaying the last five rows of the dataset."
   ]
  },
  {
   "cell_type": "code",
   "execution_count": 9,
   "id": "270210a0-d478-4cc8-b1dc-0b665f848d33",
   "metadata": {},
   "outputs": [
    {
     "data": {
      "text/html": [
       "<div>\n",
       "<style scoped>\n",
       "    .dataframe tbody tr th:only-of-type {\n",
       "        vertical-align: middle;\n",
       "    }\n",
       "\n",
       "    .dataframe tbody tr th {\n",
       "        vertical-align: top;\n",
       "    }\n",
       "\n",
       "    .dataframe thead th {\n",
       "        text-align: right;\n",
       "    }\n",
       "</style>\n",
       "<table border=\"1\" class=\"dataframe\">\n",
       "  <thead>\n",
       "    <tr style=\"text-align: right;\">\n",
       "      <th></th>\n",
       "      <th>index</th>\n",
       "      <th>Date</th>\n",
       "      <th>Time</th>\n",
       "      <th>Global_active_power</th>\n",
       "      <th>Global_reactive_power</th>\n",
       "      <th>Voltage</th>\n",
       "      <th>Global_intensity</th>\n",
       "      <th>Sub_metering_1</th>\n",
       "      <th>Sub_metering_2</th>\n",
       "      <th>Sub_metering_3</th>\n",
       "    </tr>\n",
       "  </thead>\n",
       "  <tbody>\n",
       "    <tr>\n",
       "      <th>260635</th>\n",
       "      <td>260635</td>\n",
       "      <td>30/6/2007</td>\n",
       "      <td>23:55:00</td>\n",
       "      <td>2.88</td>\n",
       "      <td>0.36</td>\n",
       "      <td>239.01</td>\n",
       "      <td>12</td>\n",
       "      <td>0</td>\n",
       "      <td>0</td>\n",
       "      <td>18.0</td>\n",
       "    </tr>\n",
       "    <tr>\n",
       "      <th>260636</th>\n",
       "      <td>260636</td>\n",
       "      <td>30/6/2007</td>\n",
       "      <td>23:56:00</td>\n",
       "      <td>2.892</td>\n",
       "      <td>0.358</td>\n",
       "      <td>238.86</td>\n",
       "      <td>12.2</td>\n",
       "      <td>0</td>\n",
       "      <td>0</td>\n",
       "      <td>17.0</td>\n",
       "    </tr>\n",
       "    <tr>\n",
       "      <th>260637</th>\n",
       "      <td>260637</td>\n",
       "      <td>30/6/2007</td>\n",
       "      <td>23:57:00</td>\n",
       "      <td>2.882</td>\n",
       "      <td>0.28</td>\n",
       "      <td>239.05</td>\n",
       "      <td>12</td>\n",
       "      <td>0</td>\n",
       "      <td>0</td>\n",
       "      <td>18.0</td>\n",
       "    </tr>\n",
       "    <tr>\n",
       "      <th>260638</th>\n",
       "      <td>260638</td>\n",
       "      <td>30/6/2007</td>\n",
       "      <td>23:58:00</td>\n",
       "      <td>2.66</td>\n",
       "      <td>0.29</td>\n",
       "      <td>238.98</td>\n",
       "      <td>11.2</td>\n",
       "      <td>0</td>\n",
       "      <td>0</td>\n",
       "      <td>18.0</td>\n",
       "    </tr>\n",
       "    <tr>\n",
       "      <th>260639</th>\n",
       "      <td>260639</td>\n",
       "      <td>30/6/2007</td>\n",
       "      <td>23:59:00</td>\n",
       "      <td>2.548</td>\n",
       "      <td>0.354</td>\n",
       "      <td>239.25</td>\n",
       "      <td>10.6</td>\n",
       "      <td>0</td>\n",
       "      <td>1</td>\n",
       "      <td>17.0</td>\n",
       "    </tr>\n",
       "  </tbody>\n",
       "</table>\n",
       "</div>"
      ],
      "text/plain": [
       "         index       Date      Time Global_active_power Global_reactive_power  \\\n",
       "260635  260635  30/6/2007  23:55:00                2.88                  0.36   \n",
       "260636  260636  30/6/2007  23:56:00               2.892                 0.358   \n",
       "260637  260637  30/6/2007  23:57:00               2.882                  0.28   \n",
       "260638  260638  30/6/2007  23:58:00                2.66                  0.29   \n",
       "260639  260639  30/6/2007  23:59:00               2.548                 0.354   \n",
       "\n",
       "       Voltage Global_intensity Sub_metering_1 Sub_metering_2  Sub_metering_3  \n",
       "260635  239.01               12              0              0            18.0  \n",
       "260636  238.86             12.2              0              0            17.0  \n",
       "260637  239.05               12              0              0            18.0  \n",
       "260638  238.98             11.2              0              0            18.0  \n",
       "260639  239.25             10.6              0              1            17.0  "
      ]
     },
     "execution_count": 9,
     "metadata": {},
     "output_type": "execute_result"
    }
   ],
   "source": [
    "df.tail()"
   ]
  },
  {
   "cell_type": "markdown",
   "id": "ebd72b42",
   "metadata": {},
   "source": [
    "### Dataset Information\n",
    "Checking the structure, data types, and non-null values."
   ]
  },
  {
   "cell_type": "code",
   "execution_count": 11,
   "id": "754e2351-ea21-4b10-92c7-2fc04adedacf",
   "metadata": {},
   "outputs": [
    {
     "name": "stdout",
     "output_type": "stream",
     "text": [
      "<class 'pandas.core.frame.DataFrame'>\n",
      "RangeIndex: 260640 entries, 0 to 260639\n",
      "Data columns (total 10 columns):\n",
      " #   Column                 Non-Null Count   Dtype  \n",
      "---  ------                 --------------   -----  \n",
      " 0   index                  260640 non-null  int64  \n",
      " 1   Date                   260640 non-null  object \n",
      " 2   Time                   260640 non-null  object \n",
      " 3   Global_active_power    260640 non-null  object \n",
      " 4   Global_reactive_power  260640 non-null  object \n",
      " 5   Voltage                260640 non-null  object \n",
      " 6   Global_intensity       260640 non-null  object \n",
      " 7   Sub_metering_1         260640 non-null  object \n",
      " 8   Sub_metering_2         260640 non-null  object \n",
      " 9   Sub_metering_3         256869 non-null  float64\n",
      "dtypes: float64(1), int64(1), object(8)\n",
      "memory usage: 19.9+ MB\n"
     ]
    }
   ],
   "source": [
    "df.info()"
   ]
  },
  {
   "cell_type": "markdown",
   "id": "d93f4175",
   "metadata": {},
   "source": [
    "### Descriptive Statistics\n",
    "Getting statistical summary of the dataset's numerical features."
   ]
  },
  {
   "cell_type": "code",
   "execution_count": 13,
   "id": "3ae6e8a0-d239-479d-ac56-73e4159ba510",
   "metadata": {},
   "outputs": [
    {
     "data": {
      "text/html": [
       "<div>\n",
       "<style scoped>\n",
       "    .dataframe tbody tr th:only-of-type {\n",
       "        vertical-align: middle;\n",
       "    }\n",
       "\n",
       "    .dataframe tbody tr th {\n",
       "        vertical-align: top;\n",
       "    }\n",
       "\n",
       "    .dataframe thead th {\n",
       "        text-align: right;\n",
       "    }\n",
       "</style>\n",
       "<table border=\"1\" class=\"dataframe\">\n",
       "  <thead>\n",
       "    <tr style=\"text-align: right;\">\n",
       "      <th></th>\n",
       "      <th>index</th>\n",
       "      <th>Sub_metering_3</th>\n",
       "    </tr>\n",
       "  </thead>\n",
       "  <tbody>\n",
       "    <tr>\n",
       "      <th>count</th>\n",
       "      <td>260640.000000</td>\n",
       "      <td>256869.000000</td>\n",
       "    </tr>\n",
       "    <tr>\n",
       "      <th>mean</th>\n",
       "      <td>130319.500000</td>\n",
       "      <td>5.831825</td>\n",
       "    </tr>\n",
       "    <tr>\n",
       "      <th>std</th>\n",
       "      <td>75240.431418</td>\n",
       "      <td>8.186709</td>\n",
       "    </tr>\n",
       "    <tr>\n",
       "      <th>min</th>\n",
       "      <td>0.000000</td>\n",
       "      <td>0.000000</td>\n",
       "    </tr>\n",
       "    <tr>\n",
       "      <th>25%</th>\n",
       "      <td>65159.750000</td>\n",
       "      <td>0.000000</td>\n",
       "    </tr>\n",
       "    <tr>\n",
       "      <th>50%</th>\n",
       "      <td>130319.500000</td>\n",
       "      <td>0.000000</td>\n",
       "    </tr>\n",
       "    <tr>\n",
       "      <th>75%</th>\n",
       "      <td>195479.250000</td>\n",
       "      <td>17.000000</td>\n",
       "    </tr>\n",
       "    <tr>\n",
       "      <th>max</th>\n",
       "      <td>260639.000000</td>\n",
       "      <td>20.000000</td>\n",
       "    </tr>\n",
       "  </tbody>\n",
       "</table>\n",
       "</div>"
      ],
      "text/plain": [
       "               index  Sub_metering_3\n",
       "count  260640.000000   256869.000000\n",
       "mean   130319.500000        5.831825\n",
       "std     75240.431418        8.186709\n",
       "min         0.000000        0.000000\n",
       "25%     65159.750000        0.000000\n",
       "50%    130319.500000        0.000000\n",
       "75%    195479.250000       17.000000\n",
       "max    260639.000000       20.000000"
      ]
     },
     "execution_count": 13,
     "metadata": {},
     "output_type": "execute_result"
    }
   ],
   "source": [
    "df.describe()"
   ]
  },
  {
   "cell_type": "markdown",
   "id": "4e817d66",
   "metadata": {},
   "source": [
    "### Date Parsing and Feature Engineering\n",
    "Converting 'Date' to datetime and extracting day, month, year, and weekday."
   ]
  },
  {
   "cell_type": "code",
   "execution_count": 15,
   "id": "e7bc4de4-370c-4e00-adf0-fb3f7e661052",
   "metadata": {},
   "outputs": [],
   "source": [
    "df['Date'] = pd.to_datetime(df['Date'], format='%d/%m/%Y', errors='coerce')\n",
    "df = df.dropna(subset=['Date'])  \n",
    "\n",
    "df['Day'] = df['Date'].dt.day\n",
    "df['Month'] = df['Date'].dt.month\n",
    "df['Year'] = df['Date'].dt.year\n",
    "df['Weekday'] = df['Date'].dt.weekday\n",
    "\n",
    "df = df.drop(columns=['Date', 'Time'])\n"
   ]
  },
  {
   "cell_type": "markdown",
   "id": "840a2ae6",
   "metadata": {},
   "source": [
    "### Data Cleaning\n",
    "Replacing placeholders, removing nulls, and converting data types."
   ]
  },
  {
   "cell_type": "code",
   "execution_count": 17,
   "id": "aa45dc3a-ec3e-492e-9576-c4cacebae148",
   "metadata": {},
   "outputs": [
    {
     "name": "stdout",
     "output_type": "stream",
     "text": [
      "Data cleaned. Shape after cleaning: (153229, 12)\n"
     ]
    }
   ],
   "source": [
    "df = df.replace('?', np.nan)\n",
    "df = df.dropna()\n",
    "df = df.astype(float)\n",
    "print(\"Data cleaned. Shape after cleaning:\", df.shape)\n"
   ]
  },
  {
   "cell_type": "markdown",
   "id": "9e54d760",
   "metadata": {},
   "source": [
    "### Feature and Target Selection\n",
    "Separating input features from the target variable for prediction."
   ]
  },
  {
   "cell_type": "code",
   "execution_count": 19,
   "id": "5e8f42ae-2fdf-4f26-bd82-8dadc66c384b",
   "metadata": {},
   "outputs": [],
   "source": [
    "target = 'Global_active_power'\n",
    "features = df.drop(columns=[target]).columns.tolist()\n",
    "\n",
    "X = df[features]\n",
    "y = df[target]\n"
   ]
  },
  {
   "cell_type": "markdown",
   "id": "09b0211d",
   "metadata": {},
   "source": [
    "### Split Data\n",
    "Splitting the dataset into training and test sets for evaluation."
   ]
  },
  {
   "cell_type": "code",
   "execution_count": 21,
   "id": "da5a2d05-14cc-4d13-b45c-54198e2520b9",
   "metadata": {},
   "outputs": [],
   "source": [
    "X_train, X_test, y_train, y_test = train_test_split(\n",
    "    X, y, test_size=0.2, random_state=42\n",
    ")\n"
   ]
  },
  {
   "cell_type": "markdown",
   "id": "da59b5fb",
   "metadata": {},
   "source": [
    "### Train Random Forest Model\n",
    "Initializing and fitting a Random Forest Regressor model."
   ]
  },
  {
   "cell_type": "code",
   "execution_count": 23,
   "id": "ba6da8a7-c4d6-4340-a585-b3ce2e580267",
   "metadata": {},
   "outputs": [],
   "source": [
    "model = RandomForestRegressor(n_estimators=100, random_state=42, n_jobs=-1)\n",
    "\n",
    "model.fit(X_train, y_train)\n",
    "y_pred = model.predict(X_test)"
   ]
  },
  {
   "cell_type": "markdown",
   "id": "2b653987",
   "metadata": {},
   "source": [
    "### Evaluate the Model\n",
    "Calculating evaluation metrics: MAE, RMSE, and R² score."
   ]
  },
  {
   "cell_type": "code",
   "execution_count": 25,
   "id": "d2d44662-39bb-4147-9b06-ce9ec16ccd2d",
   "metadata": {},
   "outputs": [
    {
     "name": "stdout",
     "output_type": "stream",
     "text": [
      "\n",
      "Model Evaluation:\n",
      "Mean Absolute Error (MAE): 0.0122\n",
      "Root Mean Squared Error (RMSE): 0.0308\n",
      "R² Score: 0.9993\n"
     ]
    }
   ],
   "source": [
    "mse = mean_squared_error(y_test, y_pred)\n",
    "rmse = np.sqrt(mse)\n",
    "mae = mean_absolute_error(y_test, y_pred)\n",
    "r2 = r2_score(y_test, y_pred)\n",
    "\n",
    "print(\"\\nModel Evaluation:\")\n",
    "print(f\"Mean Absolute Error (MAE): {mae:.4f}\")\n",
    "print(f\"Root Mean Squared Error (RMSE): {rmse:.4f}\")\n",
    "print(f\"R² Score: {r2:.4f}\")\n"
   ]
  },
  {
   "cell_type": "markdown",
   "id": "8ea7875a",
   "metadata": {},
   "source": [
    "### Compare Actual vs Predicted\n",
    "Displaying predictions and calculating percentage error for the first 10 records."
   ]
  },
  {
   "cell_type": "code",
   "execution_count": 27,
   "id": "b2996dee-8db2-4c11-8776-439ff80b63c2",
   "metadata": {},
   "outputs": [
    {
     "name": "stdout",
     "output_type": "stream",
     "text": [
      "\n",
      "Sample Predictions (first 10):\n",
      " Actual  Predicted  Error (%)\n",
      "  1.408    1.40570   0.163352\n",
      "  0.272    0.27312   0.411765\n",
      "  0.222    0.22612   1.855856\n",
      "  1.414    1.41556   0.110325\n",
      "  0.574    0.55818   2.756098\n",
      "  1.374    1.35670   1.259098\n",
      "  0.230    0.23010   0.043478\n",
      "  2.082    2.06942   0.604227\n",
      "  1.352    1.35726   0.389053\n",
      "  0.854    0.75284  11.845433\n"
     ]
    }
   ],
   "source": [
    "comparison_df = pd.DataFrame({\n",
    "    'Actual': y_test.values,\n",
    "    'Predicted': y_pred\n",
    "})\n",
    "comparison_df['Error (%)'] = 100 * abs(comparison_df['Actual'] - comparison_df['Predicted']) / comparison_df['Actual']\n",
    "\n",
    "print(\"\\nSample Predictions (first 10):\")\n",
    "print(comparison_df.head(10).to_string(index=False))\n"
   ]
  },
  {
   "cell_type": "markdown",
   "id": "2702dd0a",
   "metadata": {},
   "source": [
    "### Error Summary\n",
    "Calculating average, maximum, and minimum error percentages."
   ]
  },
  {
   "cell_type": "code",
   "execution_count": 29,
   "id": "2c53f4bf-aadb-4e97-8640-6d554c40a434",
   "metadata": {},
   "outputs": [
    {
     "name": "stdout",
     "output_type": "stream",
     "text": [
      "\n",
      "Prediction Error Summary:\n",
      "Average Error: 1.35%\n",
      "Max Error: 146.65%\n",
      "Min Error: 0.00%\n"
     ]
    }
   ],
   "source": [
    "avg_error = comparison_df['Error (%)'].mean()\n",
    "max_error = comparison_df['Error (%)'].max()\n",
    "min_error = comparison_df['Error (%)'].min()\n",
    "\n",
    "print(\"\\nPrediction Error Summary:\")\n",
    "print(f\"Average Error: {avg_error:.2f}%\")\n",
    "print(f\"Max Error: {max_error:.2f}%\")\n",
    "print(f\"Min Error: {min_error:.2f}%\")\n"
   ]
  },
  {
   "cell_type": "markdown",
   "id": "ae321f6d",
   "metadata": {},
   "source": [
    "### Accuracy Extremes\n",
    "Identifying the top 3 most and least accurate predictions."
   ]
  },
  {
   "cell_type": "code",
   "execution_count": 31,
   "id": "f4a2b7d4-53c6-4625-9508-7e07106e1c8f",
   "metadata": {},
   "outputs": [
    {
     "name": "stdout",
     "output_type": "stream",
     "text": [
      "\n",
      "Most Accurate Predictions:\n",
      " Actual  Predicted  Error (%)\n",
      "  0.218      0.218        0.0\n",
      "  0.218      0.218        0.0\n",
      "  0.218      0.218        0.0\n",
      "\n",
      "Least Accurate Predictions:\n",
      " Actual  Predicted  Error (%)\n",
      "  0.234    0.57716 146.649573\n",
      "  0.388    0.76270  96.572165\n",
      "  0.276    0.50762  83.920290\n"
     ]
    }
   ],
   "source": [
    "most_accurate = comparison_df.sort_values(by='Error (%)').head(3)\n",
    "least_accurate = comparison_df.sort_values(by='Error (%)', ascending=False).head(3)\n",
    "\n",
    "print(\"\\nMost Accurate Predictions:\")\n",
    "print(most_accurate.to_string(index=False))\n",
    "\n",
    "print(\"\\nLeast Accurate Predictions:\")\n",
    "print(least_accurate.to_string(index=False))\n"
   ]
  },
  {
   "cell_type": "markdown",
   "id": "3f8425cc",
   "metadata": {},
   "source": [
    "### Average Power Consumption\n",
    "Calculating the average power consumption in kW and converting it to Watts."
   ]
  },
  {
   "cell_type": "code",
   "execution_count": 33,
   "id": "d23667f9-6578-43b0-b0f8-d9ad70669a71",
   "metadata": {},
   "outputs": [
    {
     "name": "stdout",
     "output_type": "stream",
     "text": [
      "\n",
      "On average, each household consumes 1.1381 kW or 1138.12 Watts of power.\n"
     ]
    }
   ],
   "source": [
    "average_consumption_kw = df['Global_active_power'].mean()\n",
    "average_consumption_wh = average_consumption_kw * 1000  # Convert kW to Watts\n",
    "\n",
    "print(f\"\\nOn average, each household consumes {average_consumption_kw:.4f} kW or {average_consumption_wh:.2f} Watts of power.\")\n"
   ]
  }
 ],
 "metadata": {
  "kernelspec": {
   "display_name": "Python 3 (ipykernel)",
   "language": "python",
   "name": "python3"
  },
  "language_info": {
   "codemirror_mode": {
    "name": "ipython",
    "version": 3
   },
   "file_extension": ".py",
   "mimetype": "text/x-python",
   "name": "python",
   "nbconvert_exporter": "python",
   "pygments_lexer": "ipython3",
   "version": "3.12.4"
  }
 },
 "nbformat": 4,
 "nbformat_minor": 5
}
