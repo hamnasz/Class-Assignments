{
 "cells": [
  {
   "cell_type": "code",
   "execution_count": 1,
   "id": "3a64590c-a546-4984-a262-a63bb2278383",
   "metadata": {},
   "outputs": [],
   "source": [
    "import pandas as pd\n",
    "import numpy as np\n",
    "from sklearn.model_selection import train_test_split\n",
    "from sklearn.ensemble import RandomForestRegressor\n",
    "from sklearn.metrics import mean_squared_error, mean_absolute_error, r2_score"
   ]
  },
  {
   "cell_type": "code",
   "execution_count": 3,
   "id": "1ac84782-52d3-4031-b5e8-c52779ab36af",
   "metadata": {},
   "outputs": [
    {
     "name": "stdout",
     "output_type": "stream",
     "text": [
      "Data Loaded. Shape: (1048575, 9)\n"
     ]
    }
   ],
   "source": [
    "df = pd.read_csv('household_power_consumption.csv')\n",
    "print(\"Data Loaded. Shape:\", df.shape)"
   ]
  },
  {
   "cell_type": "code",
   "execution_count": 5,
   "id": "799193ad-5912-425f-a32a-98345cb6a7f8",
   "metadata": {},
   "outputs": [],
   "source": [
    "df['Date'] = pd.to_datetime(df['Date'], format='%d/%m/%Y') \n",
    "df['Day'] = df['Date'].dt.day\n",
    "df['Month'] = df['Date'].dt.month\n",
    "df['Year'] = df['Date'].dt.year\n",
    "df['Weekday'] = df['Date'].dt.weekday\n",
    "df = df.drop(columns=['Date', 'Time'])"
   ]
  },
  {
   "cell_type": "code",
   "execution_count": 7,
   "id": "f8925f0f-e8b1-45d9-b527-25e6513021a8",
   "metadata": {},
   "outputs": [],
   "source": [
    "df = df.replace('?', np.nan).dropna()\n",
    "df = df.astype(float)"
   ]
  },
  {
   "cell_type": "code",
   "execution_count": 9,
   "id": "7dc127ea-208a-4ad6-9109-fe24e27cb8f9",
   "metadata": {},
   "outputs": [],
   "source": [
    "target = 'Global_active_power'\n",
    "features = df.drop(columns=[target]).columns.tolist()\n",
    "X = df[features]\n",
    "y = df[target]"
   ]
  },
  {
   "cell_type": "code",
   "execution_count": null,
   "id": "7ee8e156-2e2c-4080-97bf-1edaa8e3fd53",
   "metadata": {},
   "outputs": [],
   "source": [
    "X_train, X_test, y_train, y_test = train_test_split(\n",
    "    X, y, test_size=0.2, random_state=42\n",
    ")\n",
    "model = RandomForestRegressor(n_estimators=100, random_state=42)\n",
    "model.fit(X_train, y_train)"
   ]
  },
  {
   "cell_type": "code",
   "execution_count": null,
   "id": "eb15233d-836d-43e1-9fc5-f9ce39abc515",
   "metadata": {},
   "outputs": [],
   "source": [
    "y_pred = model.predict(X_test)\n",
    "\n",
    "mse = mean_squared_error(y_test, y_pred)\n",
    "rmse = np.sqrt(mse)\n",
    "mae = mean_absolute_error(y_test, y_pred)\n",
    "r2 = r2_score(y_test, y_pred)\n",
    "\n",
    "print(\"\\nModel Evaluation:\")\n",
    "print(f\"Mean Absolute Error (MAE): {mae:.4f}\")\n",
    "print(f\"Root Mean Squared Error (RMSE): {rmse:.4f}\")\n",
    "print(f\"R² Score: {r2:.4f}\")"
   ]
  },
  {
   "cell_type": "code",
   "execution_count": null,
   "id": "afeda130-6ed9-48ca-bfc5-c44792b67c41",
   "metadata": {},
   "outputs": [],
   "source": [
    "comparison_df = pd.DataFrame({\n",
    "    'Actual': y_test.values,\n",
    "    'Predicted': y_pred\n",
    "})\n",
    "comparison_df['Error (%)'] = 100 * abs(comparison_df['Actual'] - comparison_df['Predicted']) / comparison_df['Actual']\n",
    "\n",
    "print(\"\\nSample Predictions (first 10):\")\n",
    "print(comparison_df.head(10).to_string(index=False))\n"
   ]
  },
  {
   "cell_type": "code",
   "execution_count": null,
   "id": "9d7de123-4f4c-42c1-b503-f657afa4bfb0",
   "metadata": {},
   "outputs": [],
   "source": [
    "avg_error = comparison_df['Error (%)'].mean()\n",
    "max_error = comparison_df['Error (%)'].max()\n",
    "min_error = comparison_df['Error (%)'].min()\n",
    "\n",
    "print(\"\\nPrediction Error Summary:\")\n",
    "print(f\"Average Error: {avg_error:.2f}%\")\n",
    "print(f\"Max Error: {max_error:.2f}%\")\n",
    "print(f\"Min Error: {min_error:.2f}%\")\n"
   ]
  },
  {
   "cell_type": "code",
   "execution_count": null,
   "id": "ef852292-7adf-48ef-a0a4-74af1022e62b",
   "metadata": {},
   "outputs": [],
   "source": [
    "most_accurate = comparison_df.sort_values(by='Error (%)').head(3)\n",
    "least_accurate = comparison_df.sort_values(by='Error (%)', ascending=False).head(3)\n",
    "\n",
    "print(\"\\nMost Accurate Predictions:\")\n",
    "print(most_accurate.to_string(index=False))\n",
    "\n",
    "print(\"\\nLeast Accurate Predictions:\")\n",
    "print(least_accurate.to_string(index=False))\n",
    "\n",
    "average_consumption_kw = df['Global_active_power'].mean()\n",
    "average_consumption_wh = average_consumption_kw * 1000  # Convert kW to W\n",
    "\n",
    "print(f\"\\n On average, each household consumes {average_consumption_kw:.4f} kW or {average_consumption_wh:.2f} Watts of power.\")"
   ]
  },
  {
   "cell_type": "code",
   "execution_count": null,
   "id": "35006621-0116-434d-a56f-95b2d1d46c54",
   "metadata": {},
   "outputs": [],
   "source": []
  },
  {
   "cell_type": "code",
   "execution_count": null,
   "id": "b485e47b-b9fa-46ff-867a-ff7a03231693",
   "metadata": {},
   "outputs": [],
   "source": []
  },
  {
   "cell_type": "code",
   "execution_count": null,
   "id": "770e6ddd-f4b6-4cf7-abad-9f96aa78f44b",
   "metadata": {},
   "outputs": [],
   "source": []
  }
 ],
 "metadata": {
  "kernelspec": {
   "display_name": "Python 3 (ipykernel)",
   "language": "python",
   "name": "python3"
  },
  "language_info": {
   "codemirror_mode": {
    "name": "ipython",
    "version": 3
   },
   "file_extension": ".py",
   "mimetype": "text/x-python",
   "name": "python",
   "nbconvert_exporter": "python",
   "pygments_lexer": "ipython3",
   "version": "3.12.4"
  }
 },
 "nbformat": 4,
 "nbformat_minor": 5
}
