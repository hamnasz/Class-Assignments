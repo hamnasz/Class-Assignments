{
 "cells": [
  {
   "cell_type": "code",
   "execution_count": null,
   "id": "27058538",
   "metadata": {},
   "outputs": [],
   "source": [
    "import pandas as pd\n",
    "import numpy as np\n",
    "from sklearn.model_selection import train_test_split\n",
    "from sklearn.ensemble import RandomForestRegressor\n",
    "from sklearn.metrics import mean_squared_error, mean_absolute_error, r2_score\n"
   ]
  },
  {
   "cell_type": "code",
   "execution_count": null,
   "id": "1f435052",
   "metadata": {},
   "outputs": [],
   "source": [
    "df = pd.read_csv('household_power_consumption.csv', low_memory=False)\n",
    "print(\"Data Loaded. Shape:\", df.shape)\n"
   ]
  },
  {
   "cell_type": "code",
   "execution_count": null,
   "id": "121ec3d9",
   "metadata": {},
   "outputs": [],
   "source": [
    "df['Date'] = pd.to_datetime(df['Date'], format='%d/%m/%Y', errors='coerce')\n",
    "df = df.dropna(subset=['Date'])\n",
    "\n",
    "df['Day'] = df['Date'].dt.day\n",
    "df['Month'] = df['Date'].dt.month\n",
    "df['Year'] = df['Date'].dt.year\n",
    "df['Weekday'] = df['Date'].dt.weekday\n"
   ]
  },
  {
   "cell_type": "code",
   "execution_count": null,
   "id": "0de18bd7",
   "metadata": {},
   "outputs": [],
   "source": [
    "df = df.drop(columns=['Date', 'Time'])\n",
    "df = df.replace('?', np.nan)\n",
    "df = df.dropna()\n",
    "df = df.astype(float)\n",
    "print(\"Data cleaned. Shape after cleaning:\", df.shape)\n"
   ]
  },
  {
   "cell_type": "code",
   "execution_count": null,
   "id": "f7a3e289",
   "metadata": {},
   "outputs": [],
   "source": [
    "target = 'Global_active_power'\n",
    "features = df.drop(columns=[target]).columns.tolist()\n",
    "X = df[features]\n",
    "y = df[target]\n",
    "\n",
    "X_train, X_test, y_train, y_test = train_test_split(\n",
    "    X, y, test_size=0.2, random_state=42\n",
    ")\n"
   ]
  },
  {
   "cell_type": "code",
   "execution_count": null,
   "id": "845f2c76",
   "metadata": {},
   "outputs": [],
   "source": [
    "model = RandomForestRegressor(n_estimators=100, random_state=42)\n",
    "model.fit(X_train, y_train)\n",
    "y_pred = model.predict(X_test)\n"
   ]
  },
  {
   "cell_type": "code",
   "execution_count": null,
   "id": "35cfa398",
   "metadata": {},
   "outputs": [],
   "source": [
    "mse = mean_squared_error(y_test, y_pred)\n",
    "rmse = np.sqrt(mse)\n",
    "mae = mean_absolute_error(y_test, y_pred)\n",
    "r2 = r2_score(y_test, y_pred)\n",
    "\n",
    "print(\"\\n📊 Model Evaluation:\")\n",
    "print(f\"Mean Absolute Error (MAE): {mae:.4f}\")\n",
    "print(f\"Root Mean Squared Error (RMSE): {rmse:.4f}\")\n",
    "print(f\"R² Score: {r2:.4f}\")\n"
   ]
  },
  {
   "cell_type": "code",
   "execution_count": null,
   "id": "2771f469",
   "metadata": {},
   "outputs": [],
   "source": [
    "comparison_df = pd.DataFrame({\n",
    "    'Actual': y_test.values,\n",
    "    'Predicted': y_pred\n",
    "})\n",
    "comparison_df['Error (%)'] = 100 * abs(comparison_df['Actual'] - comparison_df['Predicted']) / comparison_df['Actual']\n",
    "\n",
    "print(\"\\n🔍 Sample Predictions (first 10):\")\n",
    "print(comparison_df.head(10).to_string(index=False))\n"
   ]
  },
  {
   "cell_type": "code",
   "execution_count": null,
   "id": "1ea1318f",
   "metadata": {},
   "outputs": [],
   "source": [
    "avg_error = comparison_df['Error (%)'].mean()\n",
    "max_error = comparison_df['Error (%)'].max()\n",
    "min_error = comparison_df['Error (%)'].min()\n",
    "\n",
    "print(\"\\n📈 Prediction Error Summary:\")\n",
    "print(f\"Average Error: {avg_error:.2f}%\")\n",
    "print(f\"Max Error: {max_error:.2f}%\")\n",
    "print(f\"Min Error: {min_error:.2f}%\")\n"
   ]
  },
  {
   "cell_type": "code",
   "execution_count": null,
   "id": "dad82c3e",
   "metadata": {},
   "outputs": [],
   "source": [
    "most_accurate = comparison_df.sort_values(by='Error (%)').head(3)\n",
    "least_accurate = comparison_df.sort_values(by='Error (%)', ascending=False).head(3)\n",
    "\n",
    "print(\"\\n✅ Most Accurate Predictions:\")\n",
    "print(most_accurate.to_string(index=False))\n",
    "\n",
    "print(\"\\n❌ Least Accurate Predictions:\")\n",
    "print(least_accurate.to_string(index=False))\n"
   ]
  },
  {
   "cell_type": "code",
   "execution_count": null,
   "id": "89ae463a",
   "metadata": {},
   "outputs": [],
   "source": [
    "average_consumption_kw = df['Global_active_power'].mean()\n",
    "average_consumption_wh = average_consumption_kw * 1000\n",
    "\n",
    "print(f\"\\n⚡ On average, each household consumes {average_consumption_kw:.4f} kW or {average_consumption_wh:.2f} Watts of power.\")\n"
   ]
  }
 ],
 "metadata": {},
 "nbformat": 4,
 "nbformat_minor": 5
}