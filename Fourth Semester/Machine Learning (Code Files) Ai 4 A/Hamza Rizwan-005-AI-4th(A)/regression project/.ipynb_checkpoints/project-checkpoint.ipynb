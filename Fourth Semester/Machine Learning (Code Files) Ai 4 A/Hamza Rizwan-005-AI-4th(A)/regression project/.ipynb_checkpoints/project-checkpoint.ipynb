{
 "cells": [
  {
   "cell_type": "code",
   "execution_count": 39,
   "id": "ab75b0bf-c4da-4208-ac12-039af4e6c1e4",
   "metadata": {},
   "outputs": [],
   "source": [
    "import pandas as pd\n",
    "import numpy as np\n",
    "\n",
    "from sklearn.model_selection import train_test_split\n",
    "from sklearn.ensemble import RandomForestRegressor\n",
    "from sklearn.metrics import mean_squared_error, mean_absolute_error, r2_score\n"
   ]
  },
  {
   "cell_type": "code",
   "execution_count": 41,
   "id": "9327f4f5-bbb0-4592-a365-fdaff40a7483",
   "metadata": {},
   "outputs": [
    {
     "name": "stdout",
     "output_type": "stream",
     "text": [
      "Data Loaded. Shape: (260640, 10)\n"
     ]
    }
   ],
   "source": [
    "df = pd.read_csv('power_consumption.csv', low_memory=False)\n",
    "print(\"Data Loaded. Shape:\", df.shape)\n"
   ]
  },
  {
   "cell_type": "code",
   "execution_count": 43,
   "id": "e7bc4de4-370c-4e00-adf0-fb3f7e661052",
   "metadata": {},
   "outputs": [],
   "source": [
    "df['Date'] = pd.to_datetime(df['Date'], format='%d/%m/%Y', errors='coerce')\n",
    "df = df.dropna(subset=['Date'])  \n",
    "\n",
    "df['Day'] = df['Date'].dt.day\n",
    "df['Month'] = df['Date'].dt.month\n",
    "df['Year'] = df['Date'].dt.year\n",
    "df['Weekday'] = df['Date'].dt.weekday\n",
    "\n",
    "df = df.drop(columns=['Date', 'Time'])\n"
   ]
  },
  {
   "cell_type": "code",
   "execution_count": 45,
   "id": "aa45dc3a-ec3e-492e-9576-c4cacebae148",
   "metadata": {},
   "outputs": [
    {
     "name": "stdout",
     "output_type": "stream",
     "text": [
      "Data cleaned. Shape after cleaning: (153229, 12)\n"
     ]
    }
   ],
   "source": [
    "df = df.replace('?', np.nan)\n",
    "df = df.dropna()\n",
    "df = df.astype(float)\n",
    "print(\"Data cleaned. Shape after cleaning:\", df.shape)\n"
   ]
  },
  {
   "cell_type": "code",
   "execution_count": 47,
   "id": "5e8f42ae-2fdf-4f26-bd82-8dadc66c384b",
   "metadata": {},
   "outputs": [],
   "source": [
    "target = 'Global_active_power'\n",
    "features = df.drop(columns=[target]).columns.tolist()\n",
    "\n",
    "X = df[features]\n",
    "y = df[target]\n"
   ]
  },
  {
   "cell_type": "code",
   "execution_count": 49,
   "id": "da5a2d05-14cc-4d13-b45c-54198e2520b9",
   "metadata": {},
   "outputs": [],
   "source": [
    "X_train, X_test, y_train, y_test = train_test_split(\n",
    "    X, y, test_size=0.2, random_state=42\n",
    ")\n"
   ]
  },
  {
   "cell_type": "code",
   "execution_count": 51,
   "id": "ba6da8a7-c4d6-4340-a585-b3ce2e580267",
   "metadata": {},
   "outputs": [],
   "source": [
    "model = RandomForestRegressor(n_estimators=100, random_state=42, n_jobs=-1)\n",
    "\n",
    "model.fit(X_train, y_train)\n",
    "y_pred = model.predict(X_test)"
   ]
  },
  {
   "cell_type": "code",
   "execution_count": 53,
   "id": "d2d44662-39bb-4147-9b06-ce9ec16ccd2d",
   "metadata": {},
   "outputs": [
    {
     "name": "stdout",
     "output_type": "stream",
     "text": [
      "\n",
      "Model Evaluation:\n",
      "Mean Absolute Error (MAE): 0.0122\n",
      "Root Mean Squared Error (RMSE): 0.0308\n",
      "R² Score: 0.9993\n"
     ]
    }
   ],
   "source": [
    "mse = mean_squared_error(y_test, y_pred)\n",
    "rmse = np.sqrt(mse)\n",
    "mae = mean_absolute_error(y_test, y_pred)\n",
    "r2 = r2_score(y_test, y_pred)\n",
    "\n",
    "print(\"\\nModel Evaluation:\")\n",
    "print(f\"Mean Absolute Error (MAE): {mae:.4f}\")\n",
    "print(f\"Root Mean Squared Error (RMSE): {rmse:.4f}\")\n",
    "print(f\"R² Score: {r2:.4f}\")\n"
   ]
  },
  {
   "cell_type": "code",
   "execution_count": 55,
   "id": "b2996dee-8db2-4c11-8776-439ff80b63c2",
   "metadata": {},
   "outputs": [
    {
     "name": "stdout",
     "output_type": "stream",
     "text": [
      "\n",
      "Sample Predictions (first 10):\n",
      " Actual  Predicted  Error (%)\n",
      "  1.408    1.40570   0.163352\n",
      "  0.272    0.27312   0.411765\n",
      "  0.222    0.22612   1.855856\n",
      "  1.414    1.41556   0.110325\n",
      "  0.574    0.55818   2.756098\n",
      "  1.374    1.35670   1.259098\n",
      "  0.230    0.23010   0.043478\n",
      "  2.082    2.06980   0.585975\n",
      "  1.352    1.35726   0.389053\n",
      "  0.854    0.75284  11.845433\n"
     ]
    }
   ],
   "source": [
    "comparison_df = pd.DataFrame({\n",
    "    'Actual': y_test.values,\n",
    "    'Predicted': y_pred\n",
    "})\n",
    "comparison_df['Error (%)'] = 100 * abs(comparison_df['Actual'] - comparison_df['Predicted']) / comparison_df['Actual']\n",
    "\n",
    "print(\"\\nSample Predictions (first 10):\")\n",
    "print(comparison_df.head(10).to_string(index=False))\n"
   ]
  },
  {
   "cell_type": "code",
   "execution_count": 57,
   "id": "2c53f4bf-aadb-4e97-8640-6d554c40a434",
   "metadata": {},
   "outputs": [
    {
     "name": "stdout",
     "output_type": "stream",
     "text": [
      "\n",
      "Prediction Error Summary:\n",
      "Average Error: 1.35%\n",
      "Max Error: 146.65%\n",
      "Min Error: 0.00%\n"
     ]
    }
   ],
   "source": [
    "avg_error = comparison_df['Error (%)'].mean()\n",
    "max_error = comparison_df['Error (%)'].max()\n",
    "min_error = comparison_df['Error (%)'].min()\n",
    "\n",
    "print(\"\\nPrediction Error Summary:\")\n",
    "print(f\"Average Error: {avg_error:.2f}%\")\n",
    "print(f\"Max Error: {max_error:.2f}%\")\n",
    "print(f\"Min Error: {min_error:.2f}%\")\n"
   ]
  },
  {
   "cell_type": "code",
   "execution_count": 59,
   "id": "f4a2b7d4-53c6-4625-9508-7e07106e1c8f",
   "metadata": {},
   "outputs": [
    {
     "name": "stdout",
     "output_type": "stream",
     "text": [
      "\n",
      "Most Accurate Predictions:\n",
      " Actual  Predicted  Error (%)\n",
      "  0.218      0.218        0.0\n",
      "  0.218      0.218        0.0\n",
      "  0.218      0.218        0.0\n",
      "\n",
      "Least Accurate Predictions:\n",
      " Actual  Predicted  Error (%)\n",
      "  0.234    0.57716 146.649573\n",
      "  0.388    0.76270  96.572165\n",
      "  0.276    0.50762  83.920290\n"
     ]
    }
   ],
   "source": [
    "most_accurate = comparison_df.sort_values(by='Error (%)').head(3)\n",
    "least_accurate = comparison_df.sort_values(by='Error (%)', ascending=False).head(3)\n",
    "\n",
    "print(\"\\nMost Accurate Predictions:\")\n",
    "print(most_accurate.to_string(index=False))\n",
    "\n",
    "print(\"\\nLeast Accurate Predictions:\")\n",
    "print(least_accurate.to_string(index=False))\n"
   ]
  },
  {
   "cell_type": "code",
   "execution_count": 61,
   "id": "d23667f9-6578-43b0-b0f8-d9ad70669a71",
   "metadata": {},
   "outputs": [
    {
     "name": "stdout",
     "output_type": "stream",
     "text": [
      "\n",
      "On average, each household consumes 1.1381 kW or 1138.12 Watts of power.\n"
     ]
    }
   ],
   "source": [
    "average_consumption_kw = df['Global_active_power'].mean()\n",
    "average_consumption_wh = average_consumption_kw * 1000  # Convert kW to Watts\n",
    "\n",
    "print(f\"\\nOn average, each household consumes {average_consumption_kw:.4f} kW or {average_consumption_wh:.2f} Watts of power.\")\n"
   ]
  },
  {
   "cell_type": "code",
   "execution_count": null,
   "id": "d9db0646-f82c-4ddb-8b4b-818c79006cac",
   "metadata": {},
   "outputs": [],
   "source": []
  },
  {
   "cell_type": "code",
   "execution_count": null,
   "id": "51414dec-83ac-4fe0-a332-7c4189b57e22",
   "metadata": {},
   "outputs": [],
   "source": []
  }
 ],
 "metadata": {
  "kernelspec": {
   "display_name": "Python 3 (ipykernel)",
   "language": "python",
   "name": "python3"
  },
  "language_info": {
   "codemirror_mode": {
    "name": "ipython",
    "version": 3
   },
   "file_extension": ".py",
   "mimetype": "text/x-python",
   "name": "python",
   "nbconvert_exporter": "python",
   "pygments_lexer": "ipython3",
   "version": "3.12.4"
  }
 },
 "nbformat": 4,
 "nbformat_minor": 5
}
