{
 "cells": [
  {
   "cell_type": "markdown",
   "id": "720f7ab8",
   "metadata": {},
   "source": [
    "# 1. Introduction to Python and Libraries for Machine Learning"
   ]
  },
  {
   "cell_type": "code",
   "execution_count": null,
   "id": "a2064b2a",
   "metadata": {},
   "outputs": [],
   "source": [
    "\n",
    "import numpy as np\n",
    "import pandas as pd\n",
    "import matplotlib.pyplot as plt\n",
    "import seaborn as sns\n",
    "from sklearn.model_selection import train_test_split\n",
    "from sklearn.preprocessing import StandardScaler, LabelEncoder\n",
    "from sklearn.linear_model import LogisticRegression\n",
    "from sklearn.tree import DecisionTreeClassifier\n",
    "from sklearn.svm import SVC\n",
    "from sklearn.metrics import classification_report, confusion_matrix, roc_auc_score, roc_curve, accuracy_score\n"
   ]
  },
  {
   "cell_type": "markdown",
   "id": "dd9db469",
   "metadata": {},
   "source": [
    "# 2. Environmental Setup and Data Loading"
   ]
  },
  {
   "cell_type": "code",
   "execution_count": null,
   "id": "b60186ab",
   "metadata": {},
   "outputs": [],
   "source": [
    "\n",
    "df = pd.read_csv(\"drug200.csv\")\n",
    "df.head()\n"
   ]
  },
  {
   "cell_type": "markdown",
   "id": "dc225ee4",
   "metadata": {},
   "source": [
    "# 3. Handling missing values, data normalization, standardization"
   ]
  },
  {
   "cell_type": "code",
   "execution_count": null,
   "id": "1cfe6a20",
   "metadata": {},
   "outputs": [],
   "source": [
    "\n",
    "df.isnull().sum()\n",
    "le = LabelEncoder()\n",
    "df['Sex'] = le.fit_transform(df['Sex'])\n",
    "df['BP'] = le.fit_transform(df['BP'])\n",
    "df['Cholesterol'] = le.fit_transform(df['Cholesterol'])\n",
    "X = df.drop('Drug', axis=1)\n",
    "y = df['Drug']\n",
    "scaler = StandardScaler()\n",
    "X_scaled = scaler.fit_transform(X)\n"
   ]
  },
  {
   "cell_type": "markdown",
   "id": "25894eae",
   "metadata": {},
   "source": [
    "# 4. Data visualization using Matplotlib and Seaborn"
   ]
  },
  {
   "cell_type": "code",
   "execution_count": null,
   "id": "5558074e",
   "metadata": {},
   "outputs": [],
   "source": [
    "\n",
    "sns.countplot(x='Drug', data=df)\n",
    "plt.title(\"Drug Distribution\")\n",
    "plt.show()\n",
    "sns.heatmap(df.corr(), annot=True, cmap='coolwarm')\n",
    "plt.title(\"Feature Correlation\")\n",
    "plt.show()\n"
   ]
  },
  {
   "cell_type": "markdown",
   "id": "c36a31d9",
   "metadata": {},
   "source": [
    "# 5. Data preprocessing (Correlation, Outlier detection, feature engineering, Data Splitting)"
   ]
  },
  {
   "cell_type": "code",
   "execution_count": null,
   "id": "345d0cc7",
   "metadata": {},
   "outputs": [],
   "source": [
    "\n",
    "X_train, X_test, y_train, y_test = train_test_split(X_scaled, y, test_size=0.2, random_state=42)\n"
   ]
  },
  {
   "cell_type": "markdown",
   "id": "d8bcbd5a",
   "metadata": {},
   "source": [
    "# 6. Logistic Regression for binary classification, Model evaluation using metrics (R², MAE, MSE)"
   ]
  },
  {
   "cell_type": "code",
   "execution_count": null,
   "id": "05f62af7",
   "metadata": {},
   "outputs": [],
   "source": [
    "\n",
    "log_reg = LogisticRegression()\n",
    "log_reg.fit(X_train, y_train)\n",
    "y_pred_lr = log_reg.predict(X_test)\n",
    "print(classification_report(y_test, y_pred_lr))\n"
   ]
  },
  {
   "cell_type": "markdown",
   "id": "69dba768",
   "metadata": {},
   "source": [
    "# 7. Implementing Decision Tree"
   ]
  },
  {
   "cell_type": "code",
   "execution_count": null,
   "id": "55fabe90",
   "metadata": {},
   "outputs": [],
   "source": [
    "\n",
    "tree = DecisionTreeClassifier()\n",
    "tree.fit(X_train, y_train)\n",
    "y_pred_tree = tree.predict(X_test)\n",
    "print(classification_report(y_test, y_pred_tree))\n"
   ]
  },
  {
   "cell_type": "markdown",
   "id": "60464d72",
   "metadata": {},
   "source": [
    "# 8. Implementing Support Vector Machine"
   ]
  },
  {
   "cell_type": "code",
   "execution_count": null,
   "id": "669ff711",
   "metadata": {},
   "outputs": [],
   "source": [
    "\n",
    "svm_model = SVC(probability=True)\n",
    "svm_model.fit(X_train, y_train)\n",
    "y_pred_svm = svm_model.predict(X_test)\n",
    "print(classification_report(y_test, y_pred_svm))\n"
   ]
  },
  {
   "cell_type": "markdown",
   "id": "b1621e27",
   "metadata": {},
   "source": [
    "# 9. Evaluation Matrices for classification (accuracy, confusion matrix, Auc / roc curve, precision, recall and F1-score)"
   ]
  },
  {
   "cell_type": "code",
   "execution_count": null,
   "id": "91ad57bf",
   "metadata": {},
   "outputs": [],
   "source": [
    "\n",
    "print(confusion_matrix(y_test, y_pred_svm))\n",
    "print(accuracy_score(y_test, y_pred_svm))\n",
    "y_proba_lr = log_reg.predict_proba(X_test)\n",
    "fpr, tpr, _ = roc_curve(y_test, y_proba_lr[:, 1], pos_label='DrugY')\n",
    "plt.plot(fpr, tpr, label=\"Logistic Regression\")\n",
    "plt.xlabel('False Positive Rate')\n",
    "plt.ylabel('True Positive Rate')\n",
    "plt.title('ROC Curve')\n",
    "plt.legend()\n",
    "plt.show()\n"
   ]
  },
  {
   "cell_type": "markdown",
   "id": "1140bc4c",
   "metadata": {},
   "source": [
    "# 10. User Input and Output"
   ]
  },
  {
   "cell_type": "code",
   "execution_count": null,
   "id": "f664ed2e",
   "metadata": {},
   "outputs": [],
   "source": [
    "\n",
    "def get_user_input():\n",
    "    age = int(input(\"Age: \"))\n",
    "    sex = input(\"Sex (M/F): \")\n",
    "    bp = input(\"BP (LOW/NORMAL/HIGH): \")\n",
    "    chol = input(\"Cholesterol (NORMAL/HIGH): \")\n",
    "    na_to_k = float(input(\"Na_to_K: \"))\n",
    "    sex = 1 if sex.upper() == 'M' else 0\n",
    "    bp = {'LOW': 0, 'NORMAL': 1, 'HIGH': 2}.get(bp.upper(), 1)\n",
    "    chol = {'NORMAL': 0, 'HIGH': 1}.get(chol.upper(), 1)\n",
    "    user_data = pd.DataFrame([[age, sex, bp, chol, na_to_k]],\n",
    "                             columns=['Age', 'Sex', 'BP', 'Cholesterol', 'Na_to_K'])\n",
    "    user_data_scaled = scaler.transform(user_data)\n",
    "    return user_data_scaled\n",
    "\n",
    "user_input_scaled = get_user_input()\n",
    "prediction = svm_model.predict(user_input_scaled)\n",
    "print(\"\\n💊 Predicted Drug Recommendation:\", prediction[0])\n"
   ]
  }
 ],
 "metadata": {},
 "nbformat": 4,
 "nbformat_minor": 5
}
