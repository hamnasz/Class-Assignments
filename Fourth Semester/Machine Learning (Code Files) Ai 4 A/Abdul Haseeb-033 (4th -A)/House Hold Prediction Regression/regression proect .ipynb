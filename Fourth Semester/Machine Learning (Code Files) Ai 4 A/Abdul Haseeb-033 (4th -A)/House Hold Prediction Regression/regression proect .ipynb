{
 "cells": [
  {
   "cell_type": "markdown",
   "id": "8127234e-de5a-4371-9f68-f8a29f100cd8",
   "metadata": {},
   "source": [
    "# Importing Necessory Libraries"
   ]
  },
  {
   "cell_type": "code",
   "execution_count": 1,
   "id": "b9f310c7-5390-4089-adea-86ab98ef59df",
   "metadata": {},
   "outputs": [],
   "source": [
    "import pandas as pd\n",
    "import numpy as np\n",
    "import seaborn as sns\n",
    "import matplotlib.pyplot as plt\n",
    "\n",
    "from sklearn.impute import SimpleImputer\n",
    "from sklearn.preprocessing import StandardScaler\n",
    "from sklearn.model_selection import train_test_split\n",
    "from sklearn.linear_model import LinearRegression\n",
    "from sklearn.tree import DecisionTreeRegressor\n",
    "from sklearn.svm import SVR\n",
    "from sklearn.metrics import mean_absolute_error, mean_squared_error, r2_score\n"
   ]
  },
  {
   "cell_type": "markdown",
   "id": "5bb92420-55d2-4272-94cd-c22a3c9bea87",
   "metadata": {},
   "source": [
    "## Importing Dataset"
   ]
  },
  {
   "cell_type": "code",
   "execution_count": 2,
   "id": "adf5f563-3ef1-4af0-b4b6-e03d1de4db5d",
   "metadata": {},
   "outputs": [],
   "source": [
    "df = pd.read_csv(\"house.csv\")"
   ]
  },
  {
   "cell_type": "markdown",
   "id": "267db115-3b8c-4895-8f48-8237ddc6dcac",
   "metadata": {},
   "source": [
    "## Preprocessing Steps and Exploring Dataset"
   ]
  },
  {
   "cell_type": "code",
   "execution_count": 3,
   "id": "a9d0f308-8c38-47e8-b709-103fd975a88c",
   "metadata": {},
   "outputs": [
    {
     "data": {
      "text/html": [
       "<div>\n",
       "<style scoped>\n",
       "    .dataframe tbody tr th:only-of-type {\n",
       "        vertical-align: middle;\n",
       "    }\n",
       "\n",
       "    .dataframe tbody tr th {\n",
       "        vertical-align: top;\n",
       "    }\n",
       "\n",
       "    .dataframe thead th {\n",
       "        text-align: right;\n",
       "    }\n",
       "</style>\n",
       "<table border=\"1\" class=\"dataframe\">\n",
       "  <thead>\n",
       "    <tr style=\"text-align: right;\">\n",
       "      <th></th>\n",
       "      <th>Square_Footage</th>\n",
       "      <th>Num_Bedrooms</th>\n",
       "      <th>Num_Bathrooms</th>\n",
       "      <th>Year_Built</th>\n",
       "      <th>Lot_Size</th>\n",
       "      <th>Garage_Size</th>\n",
       "      <th>Neighborhood_Quality</th>\n",
       "      <th>House_Price</th>\n",
       "    </tr>\n",
       "  </thead>\n",
       "  <tbody>\n",
       "    <tr>\n",
       "      <th>0</th>\n",
       "      <td>1360</td>\n",
       "      <td>2</td>\n",
       "      <td>1</td>\n",
       "      <td>1981</td>\n",
       "      <td>0.599637</td>\n",
       "      <td>0</td>\n",
       "      <td>5</td>\n",
       "      <td>2.623829e+05</td>\n",
       "    </tr>\n",
       "    <tr>\n",
       "      <th>1</th>\n",
       "      <td>4272</td>\n",
       "      <td>3</td>\n",
       "      <td>3</td>\n",
       "      <td>2016</td>\n",
       "      <td>4.753014</td>\n",
       "      <td>1</td>\n",
       "      <td>6</td>\n",
       "      <td>9.852609e+05</td>\n",
       "    </tr>\n",
       "    <tr>\n",
       "      <th>2</th>\n",
       "      <td>3592</td>\n",
       "      <td>1</td>\n",
       "      <td>2</td>\n",
       "      <td>2016</td>\n",
       "      <td>3.634823</td>\n",
       "      <td>0</td>\n",
       "      <td>9</td>\n",
       "      <td>7.779774e+05</td>\n",
       "    </tr>\n",
       "    <tr>\n",
       "      <th>3</th>\n",
       "      <td>966</td>\n",
       "      <td>1</td>\n",
       "      <td>2</td>\n",
       "      <td>1977</td>\n",
       "      <td>2.730667</td>\n",
       "      <td>1</td>\n",
       "      <td>8</td>\n",
       "      <td>2.296989e+05</td>\n",
       "    </tr>\n",
       "    <tr>\n",
       "      <th>4</th>\n",
       "      <td>4926</td>\n",
       "      <td>2</td>\n",
       "      <td>1</td>\n",
       "      <td>1993</td>\n",
       "      <td>4.699073</td>\n",
       "      <td>0</td>\n",
       "      <td>8</td>\n",
       "      <td>1.041741e+06</td>\n",
       "    </tr>\n",
       "    <tr>\n",
       "      <th>...</th>\n",
       "      <td>...</td>\n",
       "      <td>...</td>\n",
       "      <td>...</td>\n",
       "      <td>...</td>\n",
       "      <td>...</td>\n",
       "      <td>...</td>\n",
       "      <td>...</td>\n",
       "      <td>...</td>\n",
       "    </tr>\n",
       "    <tr>\n",
       "      <th>995</th>\n",
       "      <td>3261</td>\n",
       "      <td>4</td>\n",
       "      <td>1</td>\n",
       "      <td>1978</td>\n",
       "      <td>2.165110</td>\n",
       "      <td>2</td>\n",
       "      <td>10</td>\n",
       "      <td>7.014940e+05</td>\n",
       "    </tr>\n",
       "    <tr>\n",
       "      <th>996</th>\n",
       "      <td>3179</td>\n",
       "      <td>1</td>\n",
       "      <td>2</td>\n",
       "      <td>1999</td>\n",
       "      <td>2.977123</td>\n",
       "      <td>1</td>\n",
       "      <td>10</td>\n",
       "      <td>6.837232e+05</td>\n",
       "    </tr>\n",
       "    <tr>\n",
       "      <th>997</th>\n",
       "      <td>2606</td>\n",
       "      <td>4</td>\n",
       "      <td>2</td>\n",
       "      <td>1962</td>\n",
       "      <td>4.055067</td>\n",
       "      <td>0</td>\n",
       "      <td>2</td>\n",
       "      <td>5.720240e+05</td>\n",
       "    </tr>\n",
       "    <tr>\n",
       "      <th>998</th>\n",
       "      <td>4723</td>\n",
       "      <td>5</td>\n",
       "      <td>2</td>\n",
       "      <td>1950</td>\n",
       "      <td>1.930921</td>\n",
       "      <td>0</td>\n",
       "      <td>7</td>\n",
       "      <td>9.648653e+05</td>\n",
       "    </tr>\n",
       "    <tr>\n",
       "      <th>999</th>\n",
       "      <td>3268</td>\n",
       "      <td>4</td>\n",
       "      <td>2</td>\n",
       "      <td>1983</td>\n",
       "      <td>3.108790</td>\n",
       "      <td>2</td>\n",
       "      <td>2</td>\n",
       "      <td>7.425993e+05</td>\n",
       "    </tr>\n",
       "  </tbody>\n",
       "</table>\n",
       "<p>1000 rows × 8 columns</p>\n",
       "</div>"
      ],
      "text/plain": [
       "     Square_Footage  Num_Bedrooms  Num_Bathrooms  Year_Built  Lot_Size  \\\n",
       "0              1360             2              1        1981  0.599637   \n",
       "1              4272             3              3        2016  4.753014   \n",
       "2              3592             1              2        2016  3.634823   \n",
       "3               966             1              2        1977  2.730667   \n",
       "4              4926             2              1        1993  4.699073   \n",
       "..              ...           ...            ...         ...       ...   \n",
       "995            3261             4              1        1978  2.165110   \n",
       "996            3179             1              2        1999  2.977123   \n",
       "997            2606             4              2        1962  4.055067   \n",
       "998            4723             5              2        1950  1.930921   \n",
       "999            3268             4              2        1983  3.108790   \n",
       "\n",
       "     Garage_Size  Neighborhood_Quality   House_Price  \n",
       "0              0                     5  2.623829e+05  \n",
       "1              1                     6  9.852609e+05  \n",
       "2              0                     9  7.779774e+05  \n",
       "3              1                     8  2.296989e+05  \n",
       "4              0                     8  1.041741e+06  \n",
       "..           ...                   ...           ...  \n",
       "995            2                    10  7.014940e+05  \n",
       "996            1                    10  6.837232e+05  \n",
       "997            0                     2  5.720240e+05  \n",
       "998            0                     7  9.648653e+05  \n",
       "999            2                     2  7.425993e+05  \n",
       "\n",
       "[1000 rows x 8 columns]"
      ]
     },
     "execution_count": 3,
     "metadata": {},
     "output_type": "execute_result"
    }
   ],
   "source": [
    "df"
   ]
  },
  {
   "cell_type": "code",
   "execution_count": 4,
   "id": "5e05e95a-6eb1-43a6-8d0e-aef4c77ca6e1",
   "metadata": {},
   "outputs": [
    {
     "data": {
      "text/html": [
       "<div>\n",
       "<style scoped>\n",
       "    .dataframe tbody tr th:only-of-type {\n",
       "        vertical-align: middle;\n",
       "    }\n",
       "\n",
       "    .dataframe tbody tr th {\n",
       "        vertical-align: top;\n",
       "    }\n",
       "\n",
       "    .dataframe thead th {\n",
       "        text-align: right;\n",
       "    }\n",
       "</style>\n",
       "<table border=\"1\" class=\"dataframe\">\n",
       "  <thead>\n",
       "    <tr style=\"text-align: right;\">\n",
       "      <th></th>\n",
       "      <th>Square_Footage</th>\n",
       "      <th>Num_Bedrooms</th>\n",
       "      <th>Num_Bathrooms</th>\n",
       "      <th>Year_Built</th>\n",
       "      <th>Lot_Size</th>\n",
       "      <th>Garage_Size</th>\n",
       "      <th>Neighborhood_Quality</th>\n",
       "      <th>House_Price</th>\n",
       "    </tr>\n",
       "  </thead>\n",
       "  <tbody>\n",
       "    <tr>\n",
       "      <th>0</th>\n",
       "      <td>1360</td>\n",
       "      <td>2</td>\n",
       "      <td>1</td>\n",
       "      <td>1981</td>\n",
       "      <td>0.599637</td>\n",
       "      <td>0</td>\n",
       "      <td>5</td>\n",
       "      <td>2.623829e+05</td>\n",
       "    </tr>\n",
       "    <tr>\n",
       "      <th>1</th>\n",
       "      <td>4272</td>\n",
       "      <td>3</td>\n",
       "      <td>3</td>\n",
       "      <td>2016</td>\n",
       "      <td>4.753014</td>\n",
       "      <td>1</td>\n",
       "      <td>6</td>\n",
       "      <td>9.852609e+05</td>\n",
       "    </tr>\n",
       "    <tr>\n",
       "      <th>2</th>\n",
       "      <td>3592</td>\n",
       "      <td>1</td>\n",
       "      <td>2</td>\n",
       "      <td>2016</td>\n",
       "      <td>3.634823</td>\n",
       "      <td>0</td>\n",
       "      <td>9</td>\n",
       "      <td>7.779774e+05</td>\n",
       "    </tr>\n",
       "    <tr>\n",
       "      <th>3</th>\n",
       "      <td>966</td>\n",
       "      <td>1</td>\n",
       "      <td>2</td>\n",
       "      <td>1977</td>\n",
       "      <td>2.730667</td>\n",
       "      <td>1</td>\n",
       "      <td>8</td>\n",
       "      <td>2.296989e+05</td>\n",
       "    </tr>\n",
       "    <tr>\n",
       "      <th>4</th>\n",
       "      <td>4926</td>\n",
       "      <td>2</td>\n",
       "      <td>1</td>\n",
       "      <td>1993</td>\n",
       "      <td>4.699073</td>\n",
       "      <td>0</td>\n",
       "      <td>8</td>\n",
       "      <td>1.041741e+06</td>\n",
       "    </tr>\n",
       "  </tbody>\n",
       "</table>\n",
       "</div>"
      ],
      "text/plain": [
       "   Square_Footage  Num_Bedrooms  Num_Bathrooms  Year_Built  Lot_Size  \\\n",
       "0            1360             2              1        1981  0.599637   \n",
       "1            4272             3              3        2016  4.753014   \n",
       "2            3592             1              2        2016  3.634823   \n",
       "3             966             1              2        1977  2.730667   \n",
       "4            4926             2              1        1993  4.699073   \n",
       "\n",
       "   Garage_Size  Neighborhood_Quality   House_Price  \n",
       "0            0                     5  2.623829e+05  \n",
       "1            1                     6  9.852609e+05  \n",
       "2            0                     9  7.779774e+05  \n",
       "3            1                     8  2.296989e+05  \n",
       "4            0                     8  1.041741e+06  "
      ]
     },
     "execution_count": 4,
     "metadata": {},
     "output_type": "execute_result"
    }
   ],
   "source": [
    "df.head()"
   ]
  },
  {
   "cell_type": "code",
   "execution_count": 5,
   "id": "43811e26-c6c4-472d-a5e9-70b1042a9ecb",
   "metadata": {},
   "outputs": [
    {
     "data": {
      "text/html": [
       "<div>\n",
       "<style scoped>\n",
       "    .dataframe tbody tr th:only-of-type {\n",
       "        vertical-align: middle;\n",
       "    }\n",
       "\n",
       "    .dataframe tbody tr th {\n",
       "        vertical-align: top;\n",
       "    }\n",
       "\n",
       "    .dataframe thead th {\n",
       "        text-align: right;\n",
       "    }\n",
       "</style>\n",
       "<table border=\"1\" class=\"dataframe\">\n",
       "  <thead>\n",
       "    <tr style=\"text-align: right;\">\n",
       "      <th></th>\n",
       "      <th>Square_Footage</th>\n",
       "      <th>Num_Bedrooms</th>\n",
       "      <th>Num_Bathrooms</th>\n",
       "      <th>Year_Built</th>\n",
       "      <th>Lot_Size</th>\n",
       "      <th>Garage_Size</th>\n",
       "      <th>Neighborhood_Quality</th>\n",
       "      <th>House_Price</th>\n",
       "    </tr>\n",
       "  </thead>\n",
       "  <tbody>\n",
       "    <tr>\n",
       "      <th>995</th>\n",
       "      <td>3261</td>\n",
       "      <td>4</td>\n",
       "      <td>1</td>\n",
       "      <td>1978</td>\n",
       "      <td>2.165110</td>\n",
       "      <td>2</td>\n",
       "      <td>10</td>\n",
       "      <td>701493.997069</td>\n",
       "    </tr>\n",
       "    <tr>\n",
       "      <th>996</th>\n",
       "      <td>3179</td>\n",
       "      <td>1</td>\n",
       "      <td>2</td>\n",
       "      <td>1999</td>\n",
       "      <td>2.977123</td>\n",
       "      <td>1</td>\n",
       "      <td>10</td>\n",
       "      <td>683723.160704</td>\n",
       "    </tr>\n",
       "    <tr>\n",
       "      <th>997</th>\n",
       "      <td>2606</td>\n",
       "      <td>4</td>\n",
       "      <td>2</td>\n",
       "      <td>1962</td>\n",
       "      <td>4.055067</td>\n",
       "      <td>0</td>\n",
       "      <td>2</td>\n",
       "      <td>572024.023634</td>\n",
       "    </tr>\n",
       "    <tr>\n",
       "      <th>998</th>\n",
       "      <td>4723</td>\n",
       "      <td>5</td>\n",
       "      <td>2</td>\n",
       "      <td>1950</td>\n",
       "      <td>1.930921</td>\n",
       "      <td>0</td>\n",
       "      <td>7</td>\n",
       "      <td>964865.298639</td>\n",
       "    </tr>\n",
       "    <tr>\n",
       "      <th>999</th>\n",
       "      <td>3268</td>\n",
       "      <td>4</td>\n",
       "      <td>2</td>\n",
       "      <td>1983</td>\n",
       "      <td>3.108790</td>\n",
       "      <td>2</td>\n",
       "      <td>2</td>\n",
       "      <td>742599.253332</td>\n",
       "    </tr>\n",
       "  </tbody>\n",
       "</table>\n",
       "</div>"
      ],
      "text/plain": [
       "     Square_Footage  Num_Bedrooms  Num_Bathrooms  Year_Built  Lot_Size  \\\n",
       "995            3261             4              1        1978  2.165110   \n",
       "996            3179             1              2        1999  2.977123   \n",
       "997            2606             4              2        1962  4.055067   \n",
       "998            4723             5              2        1950  1.930921   \n",
       "999            3268             4              2        1983  3.108790   \n",
       "\n",
       "     Garage_Size  Neighborhood_Quality    House_Price  \n",
       "995            2                    10  701493.997069  \n",
       "996            1                    10  683723.160704  \n",
       "997            0                     2  572024.023634  \n",
       "998            0                     7  964865.298639  \n",
       "999            2                     2  742599.253332  "
      ]
     },
     "execution_count": 5,
     "metadata": {},
     "output_type": "execute_result"
    }
   ],
   "source": [
    "df.tail()"
   ]
  },
  {
   "cell_type": "code",
   "execution_count": 6,
   "id": "d6214000-8100-41a5-91b1-534d8a35dd0e",
   "metadata": {},
   "outputs": [
    {
     "name": "stdout",
     "output_type": "stream",
     "text": [
      "<class 'pandas.core.frame.DataFrame'>\n",
      "RangeIndex: 1000 entries, 0 to 999\n",
      "Data columns (total 8 columns):\n",
      " #   Column                Non-Null Count  Dtype  \n",
      "---  ------                --------------  -----  \n",
      " 0   Square_Footage        1000 non-null   int64  \n",
      " 1   Num_Bedrooms          1000 non-null   int64  \n",
      " 2   Num_Bathrooms         1000 non-null   int64  \n",
      " 3   Year_Built            1000 non-null   int64  \n",
      " 4   Lot_Size              1000 non-null   float64\n",
      " 5   Garage_Size           1000 non-null   int64  \n",
      " 6   Neighborhood_Quality  1000 non-null   int64  \n",
      " 7   House_Price           1000 non-null   float64\n",
      "dtypes: float64(2), int64(6)\n",
      "memory usage: 62.6 KB\n"
     ]
    }
   ],
   "source": [
    "df.info()"
   ]
  },
  {
   "cell_type": "code",
   "execution_count": 7,
   "id": "2e4077c6-b94f-4447-b353-a6de971414c4",
   "metadata": {},
   "outputs": [
    {
     "data": {
      "text/html": [
       "<div>\n",
       "<style scoped>\n",
       "    .dataframe tbody tr th:only-of-type {\n",
       "        vertical-align: middle;\n",
       "    }\n",
       "\n",
       "    .dataframe tbody tr th {\n",
       "        vertical-align: top;\n",
       "    }\n",
       "\n",
       "    .dataframe thead th {\n",
       "        text-align: right;\n",
       "    }\n",
       "</style>\n",
       "<table border=\"1\" class=\"dataframe\">\n",
       "  <thead>\n",
       "    <tr style=\"text-align: right;\">\n",
       "      <th></th>\n",
       "      <th>Square_Footage</th>\n",
       "      <th>Num_Bedrooms</th>\n",
       "      <th>Num_Bathrooms</th>\n",
       "      <th>Year_Built</th>\n",
       "      <th>Lot_Size</th>\n",
       "      <th>Garage_Size</th>\n",
       "      <th>Neighborhood_Quality</th>\n",
       "      <th>House_Price</th>\n",
       "    </tr>\n",
       "  </thead>\n",
       "  <tbody>\n",
       "    <tr>\n",
       "      <th>count</th>\n",
       "      <td>1000.000000</td>\n",
       "      <td>1000.000000</td>\n",
       "      <td>1000.000000</td>\n",
       "      <td>1000.000000</td>\n",
       "      <td>1000.000000</td>\n",
       "      <td>1000.000000</td>\n",
       "      <td>1000.000000</td>\n",
       "      <td>1.000000e+03</td>\n",
       "    </tr>\n",
       "    <tr>\n",
       "      <th>mean</th>\n",
       "      <td>2815.422000</td>\n",
       "      <td>2.990000</td>\n",
       "      <td>1.973000</td>\n",
       "      <td>1986.550000</td>\n",
       "      <td>2.778087</td>\n",
       "      <td>1.022000</td>\n",
       "      <td>5.615000</td>\n",
       "      <td>6.188610e+05</td>\n",
       "    </tr>\n",
       "    <tr>\n",
       "      <th>std</th>\n",
       "      <td>1255.514921</td>\n",
       "      <td>1.427564</td>\n",
       "      <td>0.820332</td>\n",
       "      <td>20.632916</td>\n",
       "      <td>1.297903</td>\n",
       "      <td>0.814973</td>\n",
       "      <td>2.887059</td>\n",
       "      <td>2.535681e+05</td>\n",
       "    </tr>\n",
       "    <tr>\n",
       "      <th>min</th>\n",
       "      <td>503.000000</td>\n",
       "      <td>1.000000</td>\n",
       "      <td>1.000000</td>\n",
       "      <td>1950.000000</td>\n",
       "      <td>0.506058</td>\n",
       "      <td>0.000000</td>\n",
       "      <td>1.000000</td>\n",
       "      <td>1.116269e+05</td>\n",
       "    </tr>\n",
       "    <tr>\n",
       "      <th>25%</th>\n",
       "      <td>1749.500000</td>\n",
       "      <td>2.000000</td>\n",
       "      <td>1.000000</td>\n",
       "      <td>1969.000000</td>\n",
       "      <td>1.665946</td>\n",
       "      <td>0.000000</td>\n",
       "      <td>3.000000</td>\n",
       "      <td>4.016482e+05</td>\n",
       "    </tr>\n",
       "    <tr>\n",
       "      <th>50%</th>\n",
       "      <td>2862.500000</td>\n",
       "      <td>3.000000</td>\n",
       "      <td>2.000000</td>\n",
       "      <td>1986.000000</td>\n",
       "      <td>2.809740</td>\n",
       "      <td>1.000000</td>\n",
       "      <td>6.000000</td>\n",
       "      <td>6.282673e+05</td>\n",
       "    </tr>\n",
       "    <tr>\n",
       "      <th>75%</th>\n",
       "      <td>3849.500000</td>\n",
       "      <td>4.000000</td>\n",
       "      <td>3.000000</td>\n",
       "      <td>2004.250000</td>\n",
       "      <td>3.923317</td>\n",
       "      <td>2.000000</td>\n",
       "      <td>8.000000</td>\n",
       "      <td>8.271413e+05</td>\n",
       "    </tr>\n",
       "    <tr>\n",
       "      <th>max</th>\n",
       "      <td>4999.000000</td>\n",
       "      <td>5.000000</td>\n",
       "      <td>3.000000</td>\n",
       "      <td>2022.000000</td>\n",
       "      <td>4.989303</td>\n",
       "      <td>2.000000</td>\n",
       "      <td>10.000000</td>\n",
       "      <td>1.108237e+06</td>\n",
       "    </tr>\n",
       "  </tbody>\n",
       "</table>\n",
       "</div>"
      ],
      "text/plain": [
       "       Square_Footage  Num_Bedrooms  Num_Bathrooms   Year_Built     Lot_Size  \\\n",
       "count     1000.000000   1000.000000    1000.000000  1000.000000  1000.000000   \n",
       "mean      2815.422000      2.990000       1.973000  1986.550000     2.778087   \n",
       "std       1255.514921      1.427564       0.820332    20.632916     1.297903   \n",
       "min        503.000000      1.000000       1.000000  1950.000000     0.506058   \n",
       "25%       1749.500000      2.000000       1.000000  1969.000000     1.665946   \n",
       "50%       2862.500000      3.000000       2.000000  1986.000000     2.809740   \n",
       "75%       3849.500000      4.000000       3.000000  2004.250000     3.923317   \n",
       "max       4999.000000      5.000000       3.000000  2022.000000     4.989303   \n",
       "\n",
       "       Garage_Size  Neighborhood_Quality   House_Price  \n",
       "count  1000.000000           1000.000000  1.000000e+03  \n",
       "mean      1.022000              5.615000  6.188610e+05  \n",
       "std       0.814973              2.887059  2.535681e+05  \n",
       "min       0.000000              1.000000  1.116269e+05  \n",
       "25%       0.000000              3.000000  4.016482e+05  \n",
       "50%       1.000000              6.000000  6.282673e+05  \n",
       "75%       2.000000              8.000000  8.271413e+05  \n",
       "max       2.000000             10.000000  1.108237e+06  "
      ]
     },
     "execution_count": 7,
     "metadata": {},
     "output_type": "execute_result"
    }
   ],
   "source": [
    "df.describe()"
   ]
  },
  {
   "cell_type": "code",
   "execution_count": 8,
   "id": "4880c534-ce31-423b-b720-3fb482f8d29f",
   "metadata": {},
   "outputs": [
    {
     "data": {
      "text/plain": [
       "Index(['Square_Footage', 'Num_Bedrooms', 'Num_Bathrooms', 'Year_Built',\n",
       "       'Lot_Size', 'Garage_Size', 'Neighborhood_Quality', 'House_Price'],\n",
       "      dtype='object')"
      ]
     },
     "execution_count": 8,
     "metadata": {},
     "output_type": "execute_result"
    }
   ],
   "source": [
    "df.columns"
   ]
  },
  {
   "cell_type": "code",
   "execution_count": 9,
   "id": "e0f77725-873d-4eeb-89a6-960b05749bba",
   "metadata": {},
   "outputs": [
    {
     "data": {
      "text/plain": [
       "(1000, 8)"
      ]
     },
     "execution_count": 9,
     "metadata": {},
     "output_type": "execute_result"
    }
   ],
   "source": [
    "df.shape"
   ]
  },
  {
   "cell_type": "code",
   "execution_count": 10,
   "id": "861daf93-62c1-4887-942d-7a5cf3072531",
   "metadata": {},
   "outputs": [
    {
     "data": {
      "text/plain": [
       "0      2\n",
       "1      3\n",
       "2      1\n",
       "3      1\n",
       "4      2\n",
       "      ..\n",
       "995    4\n",
       "996    1\n",
       "997    4\n",
       "998    5\n",
       "999    4\n",
       "Name: Num_Bedrooms, Length: 1000, dtype: int64"
      ]
     },
     "execution_count": 10,
     "metadata": {},
     "output_type": "execute_result"
    }
   ],
   "source": [
    "df['Num_Bedrooms']"
   ]
  },
  {
   "cell_type": "code",
   "execution_count": 11,
   "id": "40ccf5cb-90ea-4bd9-99be-1b14a77c8183",
   "metadata": {},
   "outputs": [
    {
     "data": {
      "text/plain": [
       "array([2, 3, 1, 5, 4], dtype=int64)"
      ]
     },
     "execution_count": 11,
     "metadata": {},
     "output_type": "execute_result"
    }
   ],
   "source": [
    "df['Num_Bedrooms'].unique()"
   ]
  },
  {
   "cell_type": "code",
   "execution_count": 12,
   "id": "13937605-136b-49ca-9015-a6031ef97fda",
   "metadata": {},
   "outputs": [
    {
     "data": {
      "text/plain": [
       "5"
      ]
     },
     "execution_count": 12,
     "metadata": {},
     "output_type": "execute_result"
    }
   ],
   "source": [
    "df['Num_Bedrooms'].nunique()"
   ]
  },
  {
   "cell_type": "code",
   "execution_count": 13,
   "id": "9ac9db63-8327-4ed2-a08d-42073bba1806",
   "metadata": {},
   "outputs": [
    {
     "data": {
      "text/plain": [
       "3"
      ]
     },
     "execution_count": 13,
     "metadata": {},
     "output_type": "execute_result"
    }
   ],
   "source": [
    "df['Num_Bathrooms'].nunique()"
   ]
  },
  {
   "cell_type": "code",
   "execution_count": 14,
   "id": "353505a3-3c9c-4b44-b4b5-1d8bb64938c3",
   "metadata": {},
   "outputs": [
    {
     "data": {
      "text/plain": [
       "array([1, 3, 2], dtype=int64)"
      ]
     },
     "execution_count": 14,
     "metadata": {},
     "output_type": "execute_result"
    }
   ],
   "source": [
    "df['Num_Bathrooms'].unique()"
   ]
  },
  {
   "cell_type": "code",
   "execution_count": 15,
   "id": "b919c69e-542a-43f1-906a-e2275ae95537",
   "metadata": {},
   "outputs": [
    {
     "data": {
      "text/plain": [
       "Square_Footage           894\n",
       "Num_Bedrooms               5\n",
       "Num_Bathrooms              3\n",
       "Year_Built                73\n",
       "Lot_Size                1000\n",
       "Garage_Size                3\n",
       "Neighborhood_Quality      10\n",
       "House_Price             1000\n",
       "dtype: int64"
      ]
     },
     "execution_count": 15,
     "metadata": {},
     "output_type": "execute_result"
    }
   ],
   "source": [
    "df.nunique()"
   ]
  },
  {
   "cell_type": "code",
   "execution_count": 16,
   "id": "835c65fb-8bc3-4d03-bb12-625ddc300c8a",
   "metadata": {},
   "outputs": [
    {
     "data": {
      "text/plain": [
       "Square_Footage          0\n",
       "Num_Bedrooms            0\n",
       "Num_Bathrooms           0\n",
       "Year_Built              0\n",
       "Lot_Size                0\n",
       "Garage_Size             0\n",
       "Neighborhood_Quality    0\n",
       "House_Price             0\n",
       "dtype: int64"
      ]
     },
     "execution_count": 16,
     "metadata": {},
     "output_type": "execute_result"
    }
   ],
   "source": [
    "df.isnull().sum()"
   ]
  },
  {
   "cell_type": "code",
   "execution_count": 17,
   "id": "af915bc5-471e-4aaa-b8fb-78f2143bdc46",
   "metadata": {},
   "outputs": [
    {
     "name": "stdout",
     "output_type": "stream",
     "text": [
      "Square_Footage            3944.000000\n",
      "Num_Bedrooms                 5.000000\n",
      "Num_Bathrooms                3.000000\n",
      "Year_Built                1990.000000\n",
      "Lot_Size                     2.475930\n",
      "Garage_Size                  2.000000\n",
      "Neighborhood_Quality         8.000000\n",
      "House_Price             879796.983522\n",
      "Name: 5, dtype: float64\n",
      " \n"
     ]
    },
    {
     "data": {
      "text/plain": [
       "pandas.core.series.Series"
      ]
     },
     "execution_count": 17,
     "metadata": {},
     "output_type": "execute_result"
    }
   ],
   "source": [
    "print(df.loc[5])\n",
    "print(\" \")\n",
    "type(df.loc[5])"
   ]
  },
  {
   "cell_type": "markdown",
   "id": "3f18ac37-87df-45fe-a4e1-85e0fedbb8e3",
   "metadata": {},
   "source": [
    "# Handle missing values"
   ]
  },
  {
   "cell_type": "code",
   "execution_count": 18,
   "id": "84572fd0-68ac-47ab-be83-4583640a8b81",
   "metadata": {},
   "outputs": [],
   "source": [
    "imputer = SimpleImputer(strategy='mean')\n",
    "df_imputed = pd.DataFrame(imputer.fit_transform(df), columns=df.columns)"
   ]
  },
  {
   "cell_type": "markdown",
   "id": "e3eed02e-76f8-4288-9feb-46e53d42aa58",
   "metadata": {},
   "source": [
    "# Removing Outliers"
   ]
  },
  {
   "cell_type": "code",
   "execution_count": 19,
   "id": "fcf68c1e-8092-4b04-ad30-f0f83bc98a65",
   "metadata": {},
   "outputs": [
    {
     "data": {
      "image/png": "[encoded data removed]",
      "text/plain": [
       "<Figure size 2000x600 with 2 Axes>"
      ]
     },
     "metadata": {},
     "output_type": "display_data"
    }
   ],
   "source": [
    "numeric_cols = df_imputed.select_dtypes(include=[np.number])\n",
    "\n",
    "Q1 = numeric_cols.quantile(0.25)\n",
    "Q3 = numeric_cols.quantile(0.75)\n",
    "IQR = Q3 - Q1\n",
    "\n",
    "df_cleaned = df[~((numeric_cols < (Q1 - 1.5 * IQR)) | (numeric_cols > (Q3 + 1.5 * IQR))).any(axis=1)]\n",
    "\n",
    "plt.figure(figsize=(20, 6))\n",
    "\n",
    "plt.subplot(1, 2, 1)\n",
    "numeric_cols.boxplot()\n",
    "plt.title(\"Before Outlier Removal\")\n",
    "\n",
    "plt.subplot(1, 2, 2)\n",
    "df_cleaned.select_dtypes(include=[np.number]).boxplot()\n",
    "plt.title(\"After Outlier Removal\")\n",
    "\n",
    "plt.tight_layout()\n",
    "plt.show()"
   ]
  },
  {
   "cell_type": "markdown",
   "id": "ecedc637-0319-4109-b9e9-4a8edbc14bf3",
   "metadata": {},
   "source": [
    "## Standardize data"
   ]
  },
  {
   "cell_type": "code",
   "execution_count": 20,
   "id": "ecddd2de-33b1-496e-89ce-754a7979db5a",
   "metadata": {},
   "outputs": [],
   "source": [
    "scaler = StandardScaler()\n",
    "scaled_features = scaler.fit_transform(df_cleaned.drop('House_Price', axis=1))\n",
    "X = pd.DataFrame(scaled_features, columns=df.columns[:-1])\n",
    "y = df_cleaned['House_Price']"
   ]
  },
  {
   "cell_type": "markdown",
   "id": "b4d3c424-96ab-46be-b5d2-77c9d43a8336",
   "metadata": {},
   "source": [
    "## Spliting dataset"
   ]
  },
  {
   "cell_type": "code",
   "execution_count": 21,
   "id": "7852dffb-879e-46d8-bcdd-f62e3da8b19b",
   "metadata": {},
   "outputs": [],
   "source": [
    "X_train, X_test, y_train, y_test = train_test_split(X, y, test_size=0.2, random_state=42)\n"
   ]
  },
  {
   "cell_type": "markdown",
   "id": "bd308343-13a4-435a-8cf9-a6989e5c6741",
   "metadata": {},
   "source": [
    "## Model Training"
   ]
  },
  {
   "cell_type": "markdown",
   "id": "2a6465a3-1e0c-4177-a1cf-b3e2f77bd802",
   "metadata": {},
   "source": [
    "### Linear Regression"
   ]
  },
  {
   "cell_type": "code",
   "execution_count": 22,
   "id": "369a7af6-ff52-48e5-a980-1c5b1fd42960",
   "metadata": {},
   "outputs": [],
   "source": [
    "lr_model = LinearRegression()\n",
    "lr_model.fit(X_train, y_train)\n",
    "lr_preds = lr_model.predict(X_test)\n"
   ]
  },
  {
   "cell_type": "markdown",
   "id": "f28c3eb3-d712-45c3-adbf-b8c6b7018da4",
   "metadata": {},
   "source": [
    "### DesicionTree Regression"
   ]
  },
  {
   "cell_type": "code",
   "execution_count": 23,
   "id": "a77ffe0c-e1d8-4a8d-9d1b-cd9b14a33db1",
   "metadata": {},
   "outputs": [],
   "source": [
    "dt_model = DecisionTreeRegressor(random_state=42)\n",
    "dt_model.fit(X_train, y_train)\n",
    "dt_preds = dt_model.predict(X_test)\n"
   ]
  },
  {
   "cell_type": "markdown",
   "id": "c29490fc-2069-4ea0-aa03-66b1a27ae44f",
   "metadata": {},
   "source": [
    "### Model Evaluation"
   ]
  },
  {
   "cell_type": "code",
   "execution_count": 24,
   "id": "bc0f1e7a-aa22-4d70-adba-c10e3be06999",
   "metadata": {},
   "outputs": [
    {
     "name": "stdout",
     "output_type": "stream",
     "text": [
      "Linear Regression Evaluation:\n",
      "  MAE:  8174.58\n",
      "  MSE:  101434798.51\n",
      "  RMSE: 10071.48\n",
      "  R2:   1.00\n",
      "----------------------------------------\n",
      "Decision Tree Evaluation:\n",
      "  MAE:  24045.32\n",
      "  MSE:  966529097.47\n",
      "  RMSE: 31089.05\n",
      "  R2:   0.99\n",
      "----------------------------------------\n"
     ]
    }
   ],
   "source": [
    "def evaluate_model(name, y_true, y_pred):\n",
    "    print(f\"{name} Evaluation:\")\n",
    "    print(f\"  MAE:  {mean_absolute_error(y_true, y_pred):.2f}\")\n",
    "    print(f\"  MSE:  {mean_squared_error(y_true, y_pred):.2f}\")\n",
    "    print(f\"  RMSE: {np.sqrt(mean_squared_error(y_true, y_pred)):.2f}\")\n",
    "    print(f\"  R2:   {r2_score(y_true, y_pred):.2f}\")\n",
    "    print(\"-\" * 40)\n",
    "\n",
    "evaluate_model(\"Linear Regression\", y_test, lr_preds)\n",
    "evaluate_model(\"Decision Tree\", y_test, dt_preds)\n"
   ]
  },
  {
   "cell_type": "markdown",
   "id": "5f4f85b6-c7ce-4efa-85a4-f428d18369ae",
   "metadata": {},
   "source": [
    "### Final Output"
   ]
  },
  {
   "cell_type": "code",
   "execution_count": 25,
   "id": "bdd06cb7-35e9-4d0a-9c5a-f2e98aa3b0cf",
   "metadata": {},
   "outputs": [
    {
     "name": "stdout",
     "output_type": "stream",
     "text": [
      "Predicted House Price: $868687.11\n"
     ]
    }
   ],
   "source": [
    "sample_input = X_test.iloc[[0]]\n",
    "predicted_price = lr_model.predict(sample_input)[0]\n",
    "print(f\"Predicted House Price: ${predicted_price:.2f}\")\n"
   ]
  }
 ],
 "metadata": {
  "kernelspec": {
   "display_name": "Python 3 (ipykernel)",
   "language": "python",
   "name": "python3"
  },
  "language_info": {
   "codemirror_mode": {
    "name": "ipython",
    "version": 3
   },
   "file_extension": ".py",
   "mimetype": "text/x-python",
   "name": "python",
   "nbconvert_exporter": "python",
   "pygments_lexer": "ipython3",
   "version": "3.12.7"
  }
 },
 "nbformat": 4,
 "nbformat_minor": 5
}
